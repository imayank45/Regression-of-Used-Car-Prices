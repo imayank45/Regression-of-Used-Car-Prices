{
 "cells": [
  {
   "cell_type": "code",
   "execution_count": null,
   "id": "c599c36a",
   "metadata": {},
   "outputs": [],
   "source": []
  },
  {
   "cell_type": "markdown",
   "id": "8397f628",
   "metadata": {},
   "source": [
    "# Importing necessary libraries"
   ]
  },
  {
   "cell_type": "code",
   "execution_count": 1,
   "id": "a3d142a2",
   "metadata": {},
   "outputs": [],
   "source": [
    "import re\n",
    "\n",
    "import pandas as pd\n",
    "\n",
    "import seaborn as sns\n",
    "import matplotlib.pyplot as plt"
   ]
  },
  {
   "cell_type": "code",
   "execution_count": null,
   "id": "ce9ec892",
   "metadata": {},
   "outputs": [],
   "source": []
  },
  {
   "cell_type": "markdown",
   "id": "47f274e8",
   "metadata": {},
   "source": [
    "# Loading data"
   ]
  },
  {
   "cell_type": "code",
   "execution_count": 2,
   "id": "994a8c22",
   "metadata": {},
   "outputs": [],
   "source": [
    "train= pd.read_csv('datasets/train.csv')\n",
    "test = pd.read_csv('datasets/test.csv')"
   ]
  },
  {
   "cell_type": "code",
   "execution_count": 3,
   "id": "d72651b5",
   "metadata": {},
   "outputs": [
    {
     "name": "stdout",
     "output_type": "stream",
     "text": [
      "(188533, 13)\n",
      "(125690, 12)\n"
     ]
    }
   ],
   "source": [
    "print(train.shape)\n",
    "print(test.shape)"
   ]
  },
  {
   "cell_type": "code",
   "execution_count": null,
   "id": "830159f0",
   "metadata": {},
   "outputs": [],
   "source": []
  },
  {
   "cell_type": "code",
   "execution_count": 5,
   "id": "3f4b36e3",
   "metadata": {},
   "outputs": [],
   "source": [
    "test['price'] = -1"
   ]
  },
  {
   "cell_type": "code",
   "execution_count": 6,
   "id": "5efd75f0",
   "metadata": {},
   "outputs": [],
   "source": [
    "df = pd.concat([train,test])"
   ]
  },
  {
   "cell_type": "code",
   "execution_count": 7,
   "id": "dd266aec",
   "metadata": {},
   "outputs": [
    {
     "data": {
      "text/html": [
       "<div>\n",
       "<style scoped>\n",
       "    .dataframe tbody tr th:only-of-type {\n",
       "        vertical-align: middle;\n",
       "    }\n",
       "\n",
       "    .dataframe tbody tr th {\n",
       "        vertical-align: top;\n",
       "    }\n",
       "\n",
       "    .dataframe thead th {\n",
       "        text-align: right;\n",
       "    }\n",
       "</style>\n",
       "<table border=\"1\" class=\"dataframe\">\n",
       "  <thead>\n",
       "    <tr style=\"text-align: right;\">\n",
       "      <th></th>\n",
       "      <th>id</th>\n",
       "      <th>brand</th>\n",
       "      <th>model</th>\n",
       "      <th>model_year</th>\n",
       "      <th>milage</th>\n",
       "      <th>fuel_type</th>\n",
       "      <th>engine</th>\n",
       "      <th>transmission</th>\n",
       "      <th>ext_col</th>\n",
       "      <th>int_col</th>\n",
       "      <th>accident</th>\n",
       "      <th>clean_title</th>\n",
       "      <th>price</th>\n",
       "    </tr>\n",
       "  </thead>\n",
       "  <tbody>\n",
       "    <tr>\n",
       "      <th>0</th>\n",
       "      <td>0</td>\n",
       "      <td>MINI</td>\n",
       "      <td>Cooper S Base</td>\n",
       "      <td>2007</td>\n",
       "      <td>213000</td>\n",
       "      <td>Gasoline</td>\n",
       "      <td>172.0HP 1.6L 4 Cylinder Engine Gasoline Fuel</td>\n",
       "      <td>A/T</td>\n",
       "      <td>Yellow</td>\n",
       "      <td>Gray</td>\n",
       "      <td>None reported</td>\n",
       "      <td>Yes</td>\n",
       "      <td>4200</td>\n",
       "    </tr>\n",
       "    <tr>\n",
       "      <th>1</th>\n",
       "      <td>1</td>\n",
       "      <td>Lincoln</td>\n",
       "      <td>LS V8</td>\n",
       "      <td>2002</td>\n",
       "      <td>143250</td>\n",
       "      <td>Gasoline</td>\n",
       "      <td>252.0HP 3.9L 8 Cylinder Engine Gasoline Fuel</td>\n",
       "      <td>A/T</td>\n",
       "      <td>Silver</td>\n",
       "      <td>Beige</td>\n",
       "      <td>At least 1 accident or damage reported</td>\n",
       "      <td>Yes</td>\n",
       "      <td>4999</td>\n",
       "    </tr>\n",
       "    <tr>\n",
       "      <th>2</th>\n",
       "      <td>2</td>\n",
       "      <td>Chevrolet</td>\n",
       "      <td>Silverado 2500 LT</td>\n",
       "      <td>2002</td>\n",
       "      <td>136731</td>\n",
       "      <td>E85 Flex Fuel</td>\n",
       "      <td>320.0HP 5.3L 8 Cylinder Engine Flex Fuel Capab...</td>\n",
       "      <td>A/T</td>\n",
       "      <td>Blue</td>\n",
       "      <td>Gray</td>\n",
       "      <td>None reported</td>\n",
       "      <td>Yes</td>\n",
       "      <td>13900</td>\n",
       "    </tr>\n",
       "    <tr>\n",
       "      <th>3</th>\n",
       "      <td>3</td>\n",
       "      <td>Genesis</td>\n",
       "      <td>G90 5.0 Ultimate</td>\n",
       "      <td>2017</td>\n",
       "      <td>19500</td>\n",
       "      <td>Gasoline</td>\n",
       "      <td>420.0HP 5.0L 8 Cylinder Engine Gasoline Fuel</td>\n",
       "      <td>Transmission w/Dual Shift Mode</td>\n",
       "      <td>Black</td>\n",
       "      <td>Black</td>\n",
       "      <td>None reported</td>\n",
       "      <td>Yes</td>\n",
       "      <td>45000</td>\n",
       "    </tr>\n",
       "  </tbody>\n",
       "</table>\n",
       "</div>"
      ],
      "text/plain": [
       "   id      brand              model  model_year  milage      fuel_type  \\\n",
       "0   0       MINI      Cooper S Base        2007  213000       Gasoline   \n",
       "1   1    Lincoln              LS V8        2002  143250       Gasoline   \n",
       "2   2  Chevrolet  Silverado 2500 LT        2002  136731  E85 Flex Fuel   \n",
       "3   3    Genesis   G90 5.0 Ultimate        2017   19500       Gasoline   \n",
       "\n",
       "                                              engine  \\\n",
       "0       172.0HP 1.6L 4 Cylinder Engine Gasoline Fuel   \n",
       "1       252.0HP 3.9L 8 Cylinder Engine Gasoline Fuel   \n",
       "2  320.0HP 5.3L 8 Cylinder Engine Flex Fuel Capab...   \n",
       "3       420.0HP 5.0L 8 Cylinder Engine Gasoline Fuel   \n",
       "\n",
       "                     transmission ext_col int_col  \\\n",
       "0                             A/T  Yellow    Gray   \n",
       "1                             A/T  Silver   Beige   \n",
       "2                             A/T    Blue    Gray   \n",
       "3  Transmission w/Dual Shift Mode   Black   Black   \n",
       "\n",
       "                                 accident clean_title  price  \n",
       "0                           None reported         Yes   4200  \n",
       "1  At least 1 accident or damage reported         Yes   4999  \n",
       "2                           None reported         Yes  13900  \n",
       "3                           None reported         Yes  45000  "
      ]
     },
     "execution_count": 7,
     "metadata": {},
     "output_type": "execute_result"
    }
   ],
   "source": [
    "df.head(4)"
   ]
  },
  {
   "cell_type": "code",
   "execution_count": 8,
   "id": "504f86fa",
   "metadata": {},
   "outputs": [
    {
     "data": {
      "text/html": [
       "<div>\n",
       "<style scoped>\n",
       "    .dataframe tbody tr th:only-of-type {\n",
       "        vertical-align: middle;\n",
       "    }\n",
       "\n",
       "    .dataframe tbody tr th {\n",
       "        vertical-align: top;\n",
       "    }\n",
       "\n",
       "    .dataframe thead th {\n",
       "        text-align: right;\n",
       "    }\n",
       "</style>\n",
       "<table border=\"1\" class=\"dataframe\">\n",
       "  <thead>\n",
       "    <tr style=\"text-align: right;\">\n",
       "      <th></th>\n",
       "      <th>id</th>\n",
       "      <th>brand</th>\n",
       "      <th>model</th>\n",
       "      <th>model_year</th>\n",
       "      <th>milage</th>\n",
       "      <th>fuel_type</th>\n",
       "      <th>engine</th>\n",
       "      <th>transmission</th>\n",
       "      <th>ext_col</th>\n",
       "      <th>int_col</th>\n",
       "      <th>accident</th>\n",
       "      <th>clean_title</th>\n",
       "      <th>price</th>\n",
       "    </tr>\n",
       "  </thead>\n",
       "  <tbody>\n",
       "    <tr>\n",
       "      <th>125685</th>\n",
       "      <td>314218</td>\n",
       "      <td>Mercedes-Benz</td>\n",
       "      <td>GL-Class GL 450 4MATIC</td>\n",
       "      <td>2014</td>\n",
       "      <td>83315</td>\n",
       "      <td>Gasoline</td>\n",
       "      <td>362.0HP 3.0L V6 Cylinder Engine Gasoline Fuel</td>\n",
       "      <td>7-Speed A/T</td>\n",
       "      <td>Black</td>\n",
       "      <td>Black</td>\n",
       "      <td>None reported</td>\n",
       "      <td>Yes</td>\n",
       "      <td>-1</td>\n",
       "    </tr>\n",
       "    <tr>\n",
       "      <th>125686</th>\n",
       "      <td>314219</td>\n",
       "      <td>Audi</td>\n",
       "      <td>Q7 55 Prestige</td>\n",
       "      <td>2019</td>\n",
       "      <td>29336</td>\n",
       "      <td>Gasoline</td>\n",
       "      <td>3.0 Liter Turbo</td>\n",
       "      <td>Automatic</td>\n",
       "      <td>White</td>\n",
       "      <td>Black</td>\n",
       "      <td>None reported</td>\n",
       "      <td>NaN</td>\n",
       "      <td>-1</td>\n",
       "    </tr>\n",
       "    <tr>\n",
       "      <th>125687</th>\n",
       "      <td>314220</td>\n",
       "      <td>Audi</td>\n",
       "      <td>A6 3.0T Premium Plus</td>\n",
       "      <td>2012</td>\n",
       "      <td>77634</td>\n",
       "      <td>Gasoline</td>\n",
       "      <td>333.0HP 3.0L V6 Cylinder Engine Gasoline Fuel</td>\n",
       "      <td>A/T</td>\n",
       "      <td>Black</td>\n",
       "      <td>Black</td>\n",
       "      <td>None reported</td>\n",
       "      <td>Yes</td>\n",
       "      <td>-1</td>\n",
       "    </tr>\n",
       "    <tr>\n",
       "      <th>125688</th>\n",
       "      <td>314221</td>\n",
       "      <td>Audi</td>\n",
       "      <td>Q7 3.0T Premium</td>\n",
       "      <td>2012</td>\n",
       "      <td>112000</td>\n",
       "      <td>Gasoline</td>\n",
       "      <td>333.0HP 3.0L V6 Cylinder Engine Gasoline Fuel</td>\n",
       "      <td>A/T</td>\n",
       "      <td>Black</td>\n",
       "      <td>Black</td>\n",
       "      <td>None reported</td>\n",
       "      <td>Yes</td>\n",
       "      <td>-1</td>\n",
       "    </tr>\n",
       "    <tr>\n",
       "      <th>125689</th>\n",
       "      <td>314222</td>\n",
       "      <td>Chevrolet</td>\n",
       "      <td>Tahoe LT</td>\n",
       "      <td>2018</td>\n",
       "      <td>66840</td>\n",
       "      <td>Gasoline</td>\n",
       "      <td>355.0HP 5.3L 8 Cylinder Engine Gasoline Fuel</td>\n",
       "      <td>A/T</td>\n",
       "      <td>Silver</td>\n",
       "      <td>Black</td>\n",
       "      <td>None reported</td>\n",
       "      <td>Yes</td>\n",
       "      <td>-1</td>\n",
       "    </tr>\n",
       "  </tbody>\n",
       "</table>\n",
       "</div>"
      ],
      "text/plain": [
       "            id          brand                   model  model_year  milage  \\\n",
       "125685  314218  Mercedes-Benz  GL-Class GL 450 4MATIC        2014   83315   \n",
       "125686  314219           Audi          Q7 55 Prestige        2019   29336   \n",
       "125687  314220           Audi    A6 3.0T Premium Plus        2012   77634   \n",
       "125688  314221           Audi         Q7 3.0T Premium        2012  112000   \n",
       "125689  314222      Chevrolet                Tahoe LT        2018   66840   \n",
       "\n",
       "       fuel_type                                         engine transmission  \\\n",
       "125685  Gasoline  362.0HP 3.0L V6 Cylinder Engine Gasoline Fuel  7-Speed A/T   \n",
       "125686  Gasoline                                3.0 Liter Turbo    Automatic   \n",
       "125687  Gasoline  333.0HP 3.0L V6 Cylinder Engine Gasoline Fuel          A/T   \n",
       "125688  Gasoline  333.0HP 3.0L V6 Cylinder Engine Gasoline Fuel          A/T   \n",
       "125689  Gasoline   355.0HP 5.3L 8 Cylinder Engine Gasoline Fuel          A/T   \n",
       "\n",
       "       ext_col int_col       accident clean_title  price  \n",
       "125685   Black   Black  None reported         Yes     -1  \n",
       "125686   White   Black  None reported         NaN     -1  \n",
       "125687   Black   Black  None reported         Yes     -1  \n",
       "125688   Black   Black  None reported         Yes     -1  \n",
       "125689  Silver   Black  None reported         Yes     -1  "
      ]
     },
     "execution_count": 8,
     "metadata": {},
     "output_type": "execute_result"
    }
   ],
   "source": [
    "df.tail()"
   ]
  },
  {
   "cell_type": "code",
   "execution_count": 9,
   "id": "dab0c997",
   "metadata": {},
   "outputs": [
    {
     "data": {
      "text/plain": [
       "(314223, 13)"
      ]
     },
     "execution_count": 9,
     "metadata": {},
     "output_type": "execute_result"
    }
   ],
   "source": [
    "df.shape"
   ]
  },
  {
   "cell_type": "code",
   "execution_count": null,
   "id": "8937ca31",
   "metadata": {},
   "outputs": [],
   "source": []
  },
  {
   "cell_type": "markdown",
   "id": "e265b24b",
   "metadata": {},
   "source": [
    "# Data Preprocessing Steps"
   ]
  },
  {
   "cell_type": "code",
   "execution_count": null,
   "id": "1ae9e935",
   "metadata": {},
   "outputs": [],
   "source": []
  },
  {
   "cell_type": "markdown",
   "id": "8798c2d2",
   "metadata": {},
   "source": [
    "### 1. Lower casing the text value"
   ]
  },
  {
   "cell_type": "code",
   "execution_count": 10,
   "id": "7afaef35",
   "metadata": {},
   "outputs": [],
   "source": [
    "for col in df.columns:\n",
    "    if df[col].dtype == 'object':\n",
    "        df[col] = df[col].str.lower()"
   ]
  },
  {
   "cell_type": "code",
   "execution_count": 11,
   "id": "9c57f2d7",
   "metadata": {},
   "outputs": [
    {
     "data": {
      "text/html": [
       "<div>\n",
       "<style scoped>\n",
       "    .dataframe tbody tr th:only-of-type {\n",
       "        vertical-align: middle;\n",
       "    }\n",
       "\n",
       "    .dataframe tbody tr th {\n",
       "        vertical-align: top;\n",
       "    }\n",
       "\n",
       "    .dataframe thead th {\n",
       "        text-align: right;\n",
       "    }\n",
       "</style>\n",
       "<table border=\"1\" class=\"dataframe\">\n",
       "  <thead>\n",
       "    <tr style=\"text-align: right;\">\n",
       "      <th></th>\n",
       "      <th>id</th>\n",
       "      <th>brand</th>\n",
       "      <th>model</th>\n",
       "      <th>model_year</th>\n",
       "      <th>milage</th>\n",
       "      <th>fuel_type</th>\n",
       "      <th>engine</th>\n",
       "      <th>transmission</th>\n",
       "      <th>ext_col</th>\n",
       "      <th>int_col</th>\n",
       "      <th>accident</th>\n",
       "      <th>clean_title</th>\n",
       "      <th>price</th>\n",
       "    </tr>\n",
       "  </thead>\n",
       "  <tbody>\n",
       "    <tr>\n",
       "      <th>0</th>\n",
       "      <td>0</td>\n",
       "      <td>mini</td>\n",
       "      <td>cooper s base</td>\n",
       "      <td>2007</td>\n",
       "      <td>213000</td>\n",
       "      <td>gasoline</td>\n",
       "      <td>172.0hp 1.6l 4 cylinder engine gasoline fuel</td>\n",
       "      <td>a/t</td>\n",
       "      <td>yellow</td>\n",
       "      <td>gray</td>\n",
       "      <td>none reported</td>\n",
       "      <td>yes</td>\n",
       "      <td>4200</td>\n",
       "    </tr>\n",
       "    <tr>\n",
       "      <th>1</th>\n",
       "      <td>1</td>\n",
       "      <td>lincoln</td>\n",
       "      <td>ls v8</td>\n",
       "      <td>2002</td>\n",
       "      <td>143250</td>\n",
       "      <td>gasoline</td>\n",
       "      <td>252.0hp 3.9l 8 cylinder engine gasoline fuel</td>\n",
       "      <td>a/t</td>\n",
       "      <td>silver</td>\n",
       "      <td>beige</td>\n",
       "      <td>at least 1 accident or damage reported</td>\n",
       "      <td>yes</td>\n",
       "      <td>4999</td>\n",
       "    </tr>\n",
       "  </tbody>\n",
       "</table>\n",
       "</div>"
      ],
      "text/plain": [
       "   id    brand          model  model_year  milage fuel_type  \\\n",
       "0   0     mini  cooper s base        2007  213000  gasoline   \n",
       "1   1  lincoln          ls v8        2002  143250  gasoline   \n",
       "\n",
       "                                         engine transmission ext_col int_col  \\\n",
       "0  172.0hp 1.6l 4 cylinder engine gasoline fuel          a/t  yellow    gray   \n",
       "1  252.0hp 3.9l 8 cylinder engine gasoline fuel          a/t  silver   beige   \n",
       "\n",
       "                                 accident clean_title  price  \n",
       "0                           none reported         yes   4200  \n",
       "1  at least 1 accident or damage reported         yes   4999  "
      ]
     },
     "execution_count": 11,
     "metadata": {},
     "output_type": "execute_result"
    }
   ],
   "source": [
    "df.head(2)"
   ]
  },
  {
   "cell_type": "markdown",
   "id": "4a6802fd",
   "metadata": {},
   "source": [
    "### 2. Stripping"
   ]
  },
  {
   "cell_type": "code",
   "execution_count": 12,
   "id": "cfee3682",
   "metadata": {},
   "outputs": [],
   "source": [
    "for col in df.columns:\n",
    "    if df[col].dtype == 'object':\n",
    "        df[col] = df[col].str.strip()"
   ]
  },
  {
   "cell_type": "code",
   "execution_count": 13,
   "id": "359af33d",
   "metadata": {},
   "outputs": [
    {
     "data": {
      "text/html": [
       "<div>\n",
       "<style scoped>\n",
       "    .dataframe tbody tr th:only-of-type {\n",
       "        vertical-align: middle;\n",
       "    }\n",
       "\n",
       "    .dataframe tbody tr th {\n",
       "        vertical-align: top;\n",
       "    }\n",
       "\n",
       "    .dataframe thead th {\n",
       "        text-align: right;\n",
       "    }\n",
       "</style>\n",
       "<table border=\"1\" class=\"dataframe\">\n",
       "  <thead>\n",
       "    <tr style=\"text-align: right;\">\n",
       "      <th></th>\n",
       "      <th>id</th>\n",
       "      <th>brand</th>\n",
       "      <th>model</th>\n",
       "      <th>model_year</th>\n",
       "      <th>milage</th>\n",
       "      <th>fuel_type</th>\n",
       "      <th>engine</th>\n",
       "      <th>transmission</th>\n",
       "      <th>ext_col</th>\n",
       "      <th>int_col</th>\n",
       "      <th>accident</th>\n",
       "      <th>clean_title</th>\n",
       "      <th>price</th>\n",
       "    </tr>\n",
       "  </thead>\n",
       "  <tbody>\n",
       "    <tr>\n",
       "      <th>0</th>\n",
       "      <td>0</td>\n",
       "      <td>mini</td>\n",
       "      <td>cooper s base</td>\n",
       "      <td>2007</td>\n",
       "      <td>213000</td>\n",
       "      <td>gasoline</td>\n",
       "      <td>172.0hp 1.6l 4 cylinder engine gasoline fuel</td>\n",
       "      <td>a/t</td>\n",
       "      <td>yellow</td>\n",
       "      <td>gray</td>\n",
       "      <td>none reported</td>\n",
       "      <td>yes</td>\n",
       "      <td>4200</td>\n",
       "    </tr>\n",
       "    <tr>\n",
       "      <th>1</th>\n",
       "      <td>1</td>\n",
       "      <td>lincoln</td>\n",
       "      <td>ls v8</td>\n",
       "      <td>2002</td>\n",
       "      <td>143250</td>\n",
       "      <td>gasoline</td>\n",
       "      <td>252.0hp 3.9l 8 cylinder engine gasoline fuel</td>\n",
       "      <td>a/t</td>\n",
       "      <td>silver</td>\n",
       "      <td>beige</td>\n",
       "      <td>at least 1 accident or damage reported</td>\n",
       "      <td>yes</td>\n",
       "      <td>4999</td>\n",
       "    </tr>\n",
       "  </tbody>\n",
       "</table>\n",
       "</div>"
      ],
      "text/plain": [
       "   id    brand          model  model_year  milage fuel_type  \\\n",
       "0   0     mini  cooper s base        2007  213000  gasoline   \n",
       "1   1  lincoln          ls v8        2002  143250  gasoline   \n",
       "\n",
       "                                         engine transmission ext_col int_col  \\\n",
       "0  172.0hp 1.6l 4 cylinder engine gasoline fuel          a/t  yellow    gray   \n",
       "1  252.0hp 3.9l 8 cylinder engine gasoline fuel          a/t  silver   beige   \n",
       "\n",
       "                                 accident clean_title  price  \n",
       "0                           none reported         yes   4200  \n",
       "1  at least 1 accident or damage reported         yes   4999  "
      ]
     },
     "execution_count": 13,
     "metadata": {},
     "output_type": "execute_result"
    }
   ],
   "source": [
    "df.head(2)"
   ]
  },
  {
   "cell_type": "markdown",
   "id": "f7a415c8",
   "metadata": {},
   "source": [
    "### 3. Splitting engine columns into hp, litre, cyclinder"
   ]
  },
  {
   "cell_type": "code",
   "execution_count": 14,
   "id": "3b3c22d4",
   "metadata": {},
   "outputs": [],
   "source": [
    "def extract_engine_data(engine):\n",
    "    hp_pattern = r'(\\d+\\.?\\d*)hp'\n",
    "    litre_pattern = r'(\\d+\\.?\\d*)l'\n",
    "    cylinder_pattern = r'(\\d+)\\scylinder'\n",
    "    hp = re.search(hp_pattern, engine)\n",
    "    litre = re.search(litre_pattern, engine)\n",
    "    cylinder = re.search(cylinder_pattern, engine)\n",
    "\n",
    "    hp_value = float(hp.group(1)) if hp else None\n",
    "    litre_value = float(litre.group(1)) if litre else None\n",
    "    cylinder_value = int(cylinder.group(1)) if cylinder else None\n",
    "\n",
    "    return pd.Series([hp_value, litre_value, cylinder_value])\n",
    "\n",
    "df[['hp', 'litre', 'cyclinder']] = df['engine'].apply(extract_engine_data)"
   ]
  },
  {
   "cell_type": "code",
   "execution_count": 15,
   "id": "9cc3ef73",
   "metadata": {},
   "outputs": [
    {
     "data": {
      "text/html": [
       "<div>\n",
       "<style scoped>\n",
       "    .dataframe tbody tr th:only-of-type {\n",
       "        vertical-align: middle;\n",
       "    }\n",
       "\n",
       "    .dataframe tbody tr th {\n",
       "        vertical-align: top;\n",
       "    }\n",
       "\n",
       "    .dataframe thead th {\n",
       "        text-align: right;\n",
       "    }\n",
       "</style>\n",
       "<table border=\"1\" class=\"dataframe\">\n",
       "  <thead>\n",
       "    <tr style=\"text-align: right;\">\n",
       "      <th></th>\n",
       "      <th>id</th>\n",
       "      <th>brand</th>\n",
       "      <th>model</th>\n",
       "      <th>model_year</th>\n",
       "      <th>milage</th>\n",
       "      <th>fuel_type</th>\n",
       "      <th>engine</th>\n",
       "      <th>transmission</th>\n",
       "      <th>ext_col</th>\n",
       "      <th>int_col</th>\n",
       "      <th>accident</th>\n",
       "      <th>clean_title</th>\n",
       "      <th>price</th>\n",
       "      <th>hp</th>\n",
       "      <th>litre</th>\n",
       "      <th>cyclinder</th>\n",
       "    </tr>\n",
       "  </thead>\n",
       "  <tbody>\n",
       "    <tr>\n",
       "      <th>0</th>\n",
       "      <td>0</td>\n",
       "      <td>mini</td>\n",
       "      <td>cooper s base</td>\n",
       "      <td>2007</td>\n",
       "      <td>213000</td>\n",
       "      <td>gasoline</td>\n",
       "      <td>172.0hp 1.6l 4 cylinder engine gasoline fuel</td>\n",
       "      <td>a/t</td>\n",
       "      <td>yellow</td>\n",
       "      <td>gray</td>\n",
       "      <td>none reported</td>\n",
       "      <td>yes</td>\n",
       "      <td>4200</td>\n",
       "      <td>172.0</td>\n",
       "      <td>1.6</td>\n",
       "      <td>4.0</td>\n",
       "    </tr>\n",
       "    <tr>\n",
       "      <th>1</th>\n",
       "      <td>1</td>\n",
       "      <td>lincoln</td>\n",
       "      <td>ls v8</td>\n",
       "      <td>2002</td>\n",
       "      <td>143250</td>\n",
       "      <td>gasoline</td>\n",
       "      <td>252.0hp 3.9l 8 cylinder engine gasoline fuel</td>\n",
       "      <td>a/t</td>\n",
       "      <td>silver</td>\n",
       "      <td>beige</td>\n",
       "      <td>at least 1 accident or damage reported</td>\n",
       "      <td>yes</td>\n",
       "      <td>4999</td>\n",
       "      <td>252.0</td>\n",
       "      <td>3.9</td>\n",
       "      <td>8.0</td>\n",
       "    </tr>\n",
       "  </tbody>\n",
       "</table>\n",
       "</div>"
      ],
      "text/plain": [
       "   id    brand          model  model_year  milage fuel_type  \\\n",
       "0   0     mini  cooper s base        2007  213000  gasoline   \n",
       "1   1  lincoln          ls v8        2002  143250  gasoline   \n",
       "\n",
       "                                         engine transmission ext_col int_col  \\\n",
       "0  172.0hp 1.6l 4 cylinder engine gasoline fuel          a/t  yellow    gray   \n",
       "1  252.0hp 3.9l 8 cylinder engine gasoline fuel          a/t  silver   beige   \n",
       "\n",
       "                                 accident clean_title  price     hp  litre  \\\n",
       "0                           none reported         yes   4200  172.0    1.6   \n",
       "1  at least 1 accident or damage reported         yes   4999  252.0    3.9   \n",
       "\n",
       "   cyclinder  \n",
       "0        4.0  \n",
       "1        8.0  "
      ]
     },
     "execution_count": 15,
     "metadata": {},
     "output_type": "execute_result"
    }
   ],
   "source": [
    "df.head(2)"
   ]
  },
  {
   "cell_type": "markdown",
   "id": "43981b75",
   "metadata": {},
   "source": [
    "### 4. Dropping id and engine columns (no relevance)"
   ]
  },
  {
   "cell_type": "code",
   "execution_count": 16,
   "id": "1a1a90b8",
   "metadata": {},
   "outputs": [],
   "source": [
    "df.drop(columns=['id','engine','int_col'],inplace=True)"
   ]
  },
  {
   "cell_type": "code",
   "execution_count": 17,
   "id": "d0543d51",
   "metadata": {},
   "outputs": [
    {
     "data": {
      "text/html": [
       "<div>\n",
       "<style scoped>\n",
       "    .dataframe tbody tr th:only-of-type {\n",
       "        vertical-align: middle;\n",
       "    }\n",
       "\n",
       "    .dataframe tbody tr th {\n",
       "        vertical-align: top;\n",
       "    }\n",
       "\n",
       "    .dataframe thead th {\n",
       "        text-align: right;\n",
       "    }\n",
       "</style>\n",
       "<table border=\"1\" class=\"dataframe\">\n",
       "  <thead>\n",
       "    <tr style=\"text-align: right;\">\n",
       "      <th></th>\n",
       "      <th>brand</th>\n",
       "      <th>model</th>\n",
       "      <th>model_year</th>\n",
       "      <th>milage</th>\n",
       "      <th>fuel_type</th>\n",
       "      <th>transmission</th>\n",
       "      <th>ext_col</th>\n",
       "      <th>int_col</th>\n",
       "      <th>accident</th>\n",
       "      <th>clean_title</th>\n",
       "      <th>price</th>\n",
       "      <th>hp</th>\n",
       "      <th>litre</th>\n",
       "      <th>cyclinder</th>\n",
       "    </tr>\n",
       "  </thead>\n",
       "  <tbody>\n",
       "    <tr>\n",
       "      <th>0</th>\n",
       "      <td>mini</td>\n",
       "      <td>cooper s base</td>\n",
       "      <td>2007</td>\n",
       "      <td>213000</td>\n",
       "      <td>gasoline</td>\n",
       "      <td>a/t</td>\n",
       "      <td>yellow</td>\n",
       "      <td>gray</td>\n",
       "      <td>none reported</td>\n",
       "      <td>yes</td>\n",
       "      <td>4200</td>\n",
       "      <td>172.0</td>\n",
       "      <td>1.6</td>\n",
       "      <td>4.0</td>\n",
       "    </tr>\n",
       "    <tr>\n",
       "      <th>1</th>\n",
       "      <td>lincoln</td>\n",
       "      <td>ls v8</td>\n",
       "      <td>2002</td>\n",
       "      <td>143250</td>\n",
       "      <td>gasoline</td>\n",
       "      <td>a/t</td>\n",
       "      <td>silver</td>\n",
       "      <td>beige</td>\n",
       "      <td>at least 1 accident or damage reported</td>\n",
       "      <td>yes</td>\n",
       "      <td>4999</td>\n",
       "      <td>252.0</td>\n",
       "      <td>3.9</td>\n",
       "      <td>8.0</td>\n",
       "    </tr>\n",
       "  </tbody>\n",
       "</table>\n",
       "</div>"
      ],
      "text/plain": [
       "     brand          model  model_year  milage fuel_type transmission ext_col  \\\n",
       "0     mini  cooper s base        2007  213000  gasoline          a/t  yellow   \n",
       "1  lincoln          ls v8        2002  143250  gasoline          a/t  silver   \n",
       "\n",
       "  int_col                                accident clean_title  price     hp  \\\n",
       "0    gray                           none reported         yes   4200  172.0   \n",
       "1   beige  at least 1 accident or damage reported         yes   4999  252.0   \n",
       "\n",
       "   litre  cyclinder  \n",
       "0    1.6        4.0  \n",
       "1    3.9        8.0  "
      ]
     },
     "execution_count": 17,
     "metadata": {},
     "output_type": "execute_result"
    }
   ],
   "source": [
    "df.head(2)"
   ]
  },
  {
   "cell_type": "markdown",
   "id": "58dfee88",
   "metadata": {},
   "source": [
    "### 5. Dealing with null values"
   ]
  },
  {
   "cell_type": "code",
   "execution_count": 20,
   "id": "98e64e77",
   "metadata": {},
   "outputs": [],
   "source": [
    "def null():\n",
    "    print(df.isnull().mean()*100)"
   ]
  },
  {
   "cell_type": "code",
   "execution_count": 21,
   "id": "63b8ffc0",
   "metadata": {},
   "outputs": [
    {
     "name": "stdout",
     "output_type": "stream",
     "text": [
      "brand            0.000000\n",
      "model            0.000000\n",
      "model_year       0.000000\n",
      "milage           0.000000\n",
      "fuel_type        2.694265\n",
      "transmission     0.000000\n",
      "ext_col          0.000000\n",
      "int_col          0.000000\n",
      "accident         1.299714\n",
      "clean_title     11.347992\n",
      "price            0.000000\n",
      "hp              17.643521\n",
      "litre            7.517273\n",
      "cyclinder       20.051047\n",
      "dtype: float64\n"
     ]
    }
   ],
   "source": [
    "null()"
   ]
  },
  {
   "cell_type": "markdown",
   "id": "33e9db2f",
   "metadata": {},
   "source": [
    "#### i) Cyclinder"
   ]
  },
  {
   "cell_type": "code",
   "execution_count": 23,
   "id": "91cb2f10",
   "metadata": {},
   "outputs": [
    {
     "data": {
      "text/plain": [
       "0.1567543187615395"
      ]
     },
     "execution_count": 23,
     "metadata": {},
     "output_type": "execute_result"
    }
   ],
   "source": [
    "df['cyclinder'].skew()"
   ]
  },
  {
   "cell_type": "code",
   "execution_count": 24,
   "id": "aaf24ae7",
   "metadata": {},
   "outputs": [],
   "source": [
    "df['cyclinder'] = df['cyclinder'].fillna(df['cyclinder'].mean())"
   ]
  },
  {
   "cell_type": "code",
   "execution_count": 25,
   "id": "e2914058",
   "metadata": {},
   "outputs": [
    {
     "data": {
      "text/plain": [
       "0.17531238718780123"
      ]
     },
     "execution_count": 25,
     "metadata": {},
     "output_type": "execute_result"
    }
   ],
   "source": [
    "df['cyclinder'].skew()"
   ]
  },
  {
   "cell_type": "markdown",
   "id": "0ff96c8b",
   "metadata": {},
   "source": [
    "#### ii) Litre"
   ]
  },
  {
   "cell_type": "code",
   "execution_count": 26,
   "id": "7b8c0c66",
   "metadata": {},
   "outputs": [
    {
     "data": {
      "text/plain": [
       "0.46238950111654226"
      ]
     },
     "execution_count": 26,
     "metadata": {},
     "output_type": "execute_result"
    }
   ],
   "source": [
    "df['litre'].skew()"
   ]
  },
  {
   "cell_type": "code",
   "execution_count": 27,
   "id": "d52939db",
   "metadata": {},
   "outputs": [],
   "source": [
    "df['litre'] = df['litre'].fillna(df['litre'].mean())"
   ]
  },
  {
   "cell_type": "code",
   "execution_count": 28,
   "id": "0b42ee93",
   "metadata": {},
   "outputs": [
    {
     "data": {
      "text/plain": [
       "0.48081441768185873"
      ]
     },
     "execution_count": 28,
     "metadata": {},
     "output_type": "execute_result"
    }
   ],
   "source": [
    "df['litre'].skew()"
   ]
  },
  {
   "cell_type": "markdown",
   "id": "d36d9890",
   "metadata": {},
   "source": [
    "#### iii) hp"
   ]
  },
  {
   "cell_type": "code",
   "execution_count": 29,
   "id": "017780cb",
   "metadata": {},
   "outputs": [
    {
     "data": {
      "text/plain": [
       "0.7807458062369438"
      ]
     },
     "execution_count": 29,
     "metadata": {},
     "output_type": "execute_result"
    }
   ],
   "source": [
    "df['hp'].skew()"
   ]
  },
  {
   "cell_type": "code",
   "execution_count": 30,
   "id": "c2274071",
   "metadata": {},
   "outputs": [],
   "source": [
    "df['hp'] = df['hp'].fillna(df['hp'].median())"
   ]
  },
  {
   "cell_type": "code",
   "execution_count": 31,
   "id": "95713027",
   "metadata": {},
   "outputs": [
    {
     "data": {
      "text/plain": [
       "0.9324091766293578"
      ]
     },
     "execution_count": 31,
     "metadata": {},
     "output_type": "execute_result"
    }
   ],
   "source": [
    "df['hp'].skew()"
   ]
  },
  {
   "cell_type": "code",
   "execution_count": null,
   "id": "df891e6c",
   "metadata": {},
   "outputs": [],
   "source": []
  },
  {
   "cell_type": "code",
   "execution_count": 32,
   "id": "c88630f4",
   "metadata": {},
   "outputs": [
    {
     "name": "stdout",
     "output_type": "stream",
     "text": [
      "brand            0.000000\n",
      "model            0.000000\n",
      "model_year       0.000000\n",
      "milage           0.000000\n",
      "fuel_type        2.694265\n",
      "transmission     0.000000\n",
      "ext_col          0.000000\n",
      "int_col          0.000000\n",
      "accident         1.299714\n",
      "clean_title     11.347992\n",
      "price            0.000000\n",
      "hp               0.000000\n",
      "litre            0.000000\n",
      "cyclinder        0.000000\n",
      "dtype: float64\n"
     ]
    }
   ],
   "source": [
    "null()"
   ]
  },
  {
   "cell_type": "markdown",
   "id": "fcc667a0",
   "metadata": {},
   "source": [
    "#### iv) fuel_type  ---- confusion regarding - and not supported"
   ]
  },
  {
   "cell_type": "code",
   "execution_count": 33,
   "id": "832c1a71",
   "metadata": {},
   "outputs": [
    {
     "data": {
      "text/plain": [
       "array(['gasoline', 'e85 flex fuel', nan, 'hybrid', 'diesel',\n",
       "       'plug-in hybrid', '–', 'not supported'], dtype=object)"
      ]
     },
     "execution_count": 33,
     "metadata": {},
     "output_type": "execute_result"
    }
   ],
   "source": [
    "df['fuel_type'].unique()"
   ]
  },
  {
   "cell_type": "code",
   "execution_count": 34,
   "id": "c5e0e5e8",
   "metadata": {},
   "outputs": [
    {
     "data": {
      "text/plain": [
       "314223"
      ]
     },
     "execution_count": 34,
     "metadata": {},
     "output_type": "execute_result"
    }
   ],
   "source": [
    "len(df['fuel_type'] == 'nan')"
   ]
  },
  {
   "cell_type": "code",
   "execution_count": 35,
   "id": "26972111",
   "metadata": {},
   "outputs": [],
   "source": [
    "df['fuel_type'] = df['fuel_type'].fillna(df['fuel_type'].mode()[0])"
   ]
  },
  {
   "cell_type": "code",
   "execution_count": 36,
   "id": "bb255eab",
   "metadata": {},
   "outputs": [],
   "source": [
    "df['fuel_type'] = df['fuel_type'].replace(['not supported'],'others')"
   ]
  },
  {
   "cell_type": "code",
   "execution_count": 37,
   "id": "6eb2cd0a",
   "metadata": {},
   "outputs": [
    {
     "data": {
      "text/plain": [
       "fuel_type\n",
       "gasoline          284939\n",
       "hybrid             11508\n",
       "e85 flex fuel       8929\n",
       "diesel              6641\n",
       "–                   1319\n",
       "plug-in hybrid       858\n",
       "others                29\n",
       "Name: count, dtype: int64"
      ]
     },
     "execution_count": 37,
     "metadata": {},
     "output_type": "execute_result"
    }
   ],
   "source": [
    "df['fuel_type'].value_counts()"
   ]
  },
  {
   "cell_type": "code",
   "execution_count": 38,
   "id": "30c1d339",
   "metadata": {},
   "outputs": [],
   "source": [
    "df['fuel_type'] = df['fuel_type'].replace('\\u2013', 'others')"
   ]
  },
  {
   "cell_type": "code",
   "execution_count": 39,
   "id": "2085e6b6",
   "metadata": {},
   "outputs": [
    {
     "data": {
      "image/png": "[encoded data removed]",
      "text/plain": [
       "<Figure size 1000x600 with 1 Axes>"
      ]
     },
     "metadata": {},
     "output_type": "display_data"
    }
   ],
   "source": [
    "plt.figure(figsize=(10,6))\n",
    "sns.barplot(x='fuel_type',y='price',data=df)\n",
    "plt.tight_layout()\n",
    "\n",
    "# needed to handle null but got stuck with categories like '-' and 'not supported'"
   ]
  },
  {
   "cell_type": "code",
   "execution_count": 40,
   "id": "734107a4",
   "metadata": {},
   "outputs": [
    {
     "data": {
      "text/html": [
       "<div>\n",
       "<style scoped>\n",
       "    .dataframe tbody tr th:only-of-type {\n",
       "        vertical-align: middle;\n",
       "    }\n",
       "\n",
       "    .dataframe tbody tr th {\n",
       "        vertical-align: top;\n",
       "    }\n",
       "\n",
       "    .dataframe thead th {\n",
       "        text-align: right;\n",
       "    }\n",
       "</style>\n",
       "<table border=\"1\" class=\"dataframe\">\n",
       "  <thead>\n",
       "    <tr style=\"text-align: right;\">\n",
       "      <th></th>\n",
       "      <th>brand</th>\n",
       "      <th>model</th>\n",
       "      <th>model_year</th>\n",
       "      <th>milage</th>\n",
       "      <th>fuel_type</th>\n",
       "      <th>transmission</th>\n",
       "      <th>ext_col</th>\n",
       "      <th>int_col</th>\n",
       "      <th>accident</th>\n",
       "      <th>clean_title</th>\n",
       "      <th>price</th>\n",
       "      <th>hp</th>\n",
       "      <th>litre</th>\n",
       "      <th>cyclinder</th>\n",
       "    </tr>\n",
       "  </thead>\n",
       "  <tbody>\n",
       "    <tr>\n",
       "      <th>0</th>\n",
       "      <td>mini</td>\n",
       "      <td>cooper s base</td>\n",
       "      <td>2007</td>\n",
       "      <td>213000</td>\n",
       "      <td>gasoline</td>\n",
       "      <td>a/t</td>\n",
       "      <td>yellow</td>\n",
       "      <td>gray</td>\n",
       "      <td>none reported</td>\n",
       "      <td>yes</td>\n",
       "      <td>4200</td>\n",
       "      <td>172.0</td>\n",
       "      <td>1.6</td>\n",
       "      <td>4.0</td>\n",
       "    </tr>\n",
       "    <tr>\n",
       "      <th>1</th>\n",
       "      <td>lincoln</td>\n",
       "      <td>ls v8</td>\n",
       "      <td>2002</td>\n",
       "      <td>143250</td>\n",
       "      <td>gasoline</td>\n",
       "      <td>a/t</td>\n",
       "      <td>silver</td>\n",
       "      <td>beige</td>\n",
       "      <td>at least 1 accident or damage reported</td>\n",
       "      <td>yes</td>\n",
       "      <td>4999</td>\n",
       "      <td>252.0</td>\n",
       "      <td>3.9</td>\n",
       "      <td>8.0</td>\n",
       "    </tr>\n",
       "  </tbody>\n",
       "</table>\n",
       "</div>"
      ],
      "text/plain": [
       "     brand          model  model_year  milage fuel_type transmission ext_col  \\\n",
       "0     mini  cooper s base        2007  213000  gasoline          a/t  yellow   \n",
       "1  lincoln          ls v8        2002  143250  gasoline          a/t  silver   \n",
       "\n",
       "  int_col                                accident clean_title  price     hp  \\\n",
       "0    gray                           none reported         yes   4200  172.0   \n",
       "1   beige  at least 1 accident or damage reported         yes   4999  252.0   \n",
       "\n",
       "   litre  cyclinder  \n",
       "0    1.6        4.0  \n",
       "1    3.9        8.0  "
      ]
     },
     "execution_count": 40,
     "metadata": {},
     "output_type": "execute_result"
    }
   ],
   "source": [
    "df.head(2)"
   ]
  },
  {
   "cell_type": "code",
   "execution_count": 41,
   "id": "b328e5b3",
   "metadata": {},
   "outputs": [
    {
     "name": "stdout",
     "output_type": "stream",
     "text": [
      "brand            0.000000\n",
      "model            0.000000\n",
      "model_year       0.000000\n",
      "milage           0.000000\n",
      "fuel_type        0.000000\n",
      "transmission     0.000000\n",
      "ext_col          0.000000\n",
      "int_col          0.000000\n",
      "accident         1.299714\n",
      "clean_title     11.347992\n",
      "price            0.000000\n",
      "hp               0.000000\n",
      "litre            0.000000\n",
      "cyclinder        0.000000\n",
      "dtype: float64\n"
     ]
    }
   ],
   "source": [
    "null()"
   ]
  },
  {
   "cell_type": "markdown",
   "id": "892ef194",
   "metadata": {},
   "source": [
    "#### v) Accident"
   ]
  },
  {
   "cell_type": "code",
   "execution_count": 43,
   "id": "e0699f65",
   "metadata": {},
   "outputs": [
    {
     "data": {
      "text/plain": [
       "accident\n",
       "none reported                             76.626154\n",
       "at least 1 accident or damage reported    22.074132\n",
       "Name: count, dtype: float64"
      ]
     },
     "execution_count": 43,
     "metadata": {},
     "output_type": "execute_result"
    }
   ],
   "source": [
    "df['accident'].value_counts()/len(df)*100"
   ]
  },
  {
   "cell_type": "code",
   "execution_count": 44,
   "id": "e20815c8",
   "metadata": {},
   "outputs": [
    {
     "data": {
      "text/plain": [
       "4084"
      ]
     },
     "execution_count": 44,
     "metadata": {},
     "output_type": "execute_result"
    }
   ],
   "source": [
    "df['accident'].isnull().sum()"
   ]
  },
  {
   "cell_type": "code",
   "execution_count": 45,
   "id": "2dd07247",
   "metadata": {},
   "outputs": [
    {
     "name": "stdout",
     "output_type": "stream",
     "text": [
      "ANOVA F-Statistic: 2652.8768114073787\n",
      "p-Value: 0.0\n"
     ]
    }
   ],
   "source": [
    "from scipy.stats import f_oneway\n",
    "\n",
    "# Group data by categorical feature and extract target variable\n",
    "groups = [df[df['accident'] == category]['price'] for category in df['accident'].unique()]\n",
    "\n",
    "# Filter out empty groups\n",
    "non_empty_groups = [group for group in groups if len(group) > 0]\n",
    "\n",
    "# Perform one-way ANOVA if all groups have data\n",
    "if len(non_empty_groups) > 1:\n",
    "    f_statistic, p_value = f_oneway(*non_empty_groups)\n",
    "    print(f'ANOVA F-Statistic: {f_statistic}')\n",
    "    print(f'p-Value: {p_value}')\n",
    "else:\n",
    "    print(\"Not enough data to perform ANOVA\")"
   ]
  },
  {
   "cell_type": "code",
   "execution_count": 46,
   "id": "0967351f",
   "metadata": {},
   "outputs": [],
   "source": [
    "df['accident'] = df['accident'].fillna(df['accident'].mode()[0])"
   ]
  },
  {
   "cell_type": "code",
   "execution_count": 47,
   "id": "4c8b83d5",
   "metadata": {},
   "outputs": [
    {
     "name": "stdout",
     "output_type": "stream",
     "text": [
      "brand            0.000000\n",
      "model            0.000000\n",
      "model_year       0.000000\n",
      "milage           0.000000\n",
      "fuel_type        0.000000\n",
      "transmission     0.000000\n",
      "ext_col          0.000000\n",
      "int_col          0.000000\n",
      "accident         0.000000\n",
      "clean_title     11.347992\n",
      "price            0.000000\n",
      "hp               0.000000\n",
      "litre            0.000000\n",
      "cyclinder        0.000000\n",
      "dtype: float64\n"
     ]
    }
   ],
   "source": [
    "null()"
   ]
  },
  {
   "cell_type": "markdown",
   "id": "2e384357",
   "metadata": {},
   "source": [
    "#### vi) Clean Title"
   ]
  },
  {
   "cell_type": "code",
   "execution_count": 48,
   "id": "ad5110ba",
   "metadata": {},
   "outputs": [
    {
     "data": {
      "text/plain": [
       "clean_title\n",
       "yes    88.652008\n",
       "Name: count, dtype: float64"
      ]
     },
     "execution_count": 48,
     "metadata": {},
     "output_type": "execute_result"
    }
   ],
   "source": [
    "df['clean_title'].value_counts()/len(df)*100"
   ]
  },
  {
   "cell_type": "code",
   "execution_count": 49,
   "id": "01e4b0ed",
   "metadata": {},
   "outputs": [],
   "source": [
    "df.drop(columns=['clean_title'],inplace=True)"
   ]
  },
  {
   "cell_type": "code",
   "execution_count": 50,
   "id": "39713967",
   "metadata": {},
   "outputs": [
    {
     "data": {
      "text/plain": [
       "(314223, 13)"
      ]
     },
     "execution_count": 50,
     "metadata": {},
     "output_type": "execute_result"
    }
   ],
   "source": [
    "df.shape"
   ]
  },
  {
   "cell_type": "code",
   "execution_count": 51,
   "id": "8d478d65",
   "metadata": {},
   "outputs": [
    {
     "name": "stdout",
     "output_type": "stream",
     "text": [
      "brand           0.0\n",
      "model           0.0\n",
      "model_year      0.0\n",
      "milage          0.0\n",
      "fuel_type       0.0\n",
      "transmission    0.0\n",
      "ext_col         0.0\n",
      "int_col         0.0\n",
      "accident        0.0\n",
      "price           0.0\n",
      "hp              0.0\n",
      "litre           0.0\n",
      "cyclinder       0.0\n",
      "dtype: float64\n"
     ]
    }
   ],
   "source": [
    "null()"
   ]
  },
  {
   "cell_type": "code",
   "execution_count": 54,
   "id": "47eea6f5",
   "metadata": {},
   "outputs": [
    {
     "data": {
      "text/html": [
       "<div>\n",
       "<style scoped>\n",
       "    .dataframe tbody tr th:only-of-type {\n",
       "        vertical-align: middle;\n",
       "    }\n",
       "\n",
       "    .dataframe tbody tr th {\n",
       "        vertical-align: top;\n",
       "    }\n",
       "\n",
       "    .dataframe thead th {\n",
       "        text-align: right;\n",
       "    }\n",
       "</style>\n",
       "<table border=\"1\" class=\"dataframe\">\n",
       "  <thead>\n",
       "    <tr style=\"text-align: right;\">\n",
       "      <th></th>\n",
       "      <th>brand</th>\n",
       "      <th>model</th>\n",
       "      <th>model_year</th>\n",
       "      <th>milage</th>\n",
       "      <th>fuel_type</th>\n",
       "      <th>transmission</th>\n",
       "      <th>ext_col</th>\n",
       "      <th>accident</th>\n",
       "      <th>price</th>\n",
       "      <th>hp</th>\n",
       "      <th>litre</th>\n",
       "      <th>cyclinder</th>\n",
       "    </tr>\n",
       "  </thead>\n",
       "  <tbody>\n",
       "    <tr>\n",
       "      <th>0</th>\n",
       "      <td>mini</td>\n",
       "      <td>cooper s base</td>\n",
       "      <td>2007</td>\n",
       "      <td>213000</td>\n",
       "      <td>gasoline</td>\n",
       "      <td>a/t</td>\n",
       "      <td>yellow</td>\n",
       "      <td>none reported</td>\n",
       "      <td>4200</td>\n",
       "      <td>172.0</td>\n",
       "      <td>1.6</td>\n",
       "      <td>4.0</td>\n",
       "    </tr>\n",
       "    <tr>\n",
       "      <th>1</th>\n",
       "      <td>lincoln</td>\n",
       "      <td>ls v8</td>\n",
       "      <td>2002</td>\n",
       "      <td>143250</td>\n",
       "      <td>gasoline</td>\n",
       "      <td>a/t</td>\n",
       "      <td>silver</td>\n",
       "      <td>at least 1 accident or damage reported</td>\n",
       "      <td>4999</td>\n",
       "      <td>252.0</td>\n",
       "      <td>3.9</td>\n",
       "      <td>8.0</td>\n",
       "    </tr>\n",
       "  </tbody>\n",
       "</table>\n",
       "</div>"
      ],
      "text/plain": [
       "     brand          model  model_year  milage fuel_type transmission ext_col  \\\n",
       "0     mini  cooper s base        2007  213000  gasoline          a/t  yellow   \n",
       "1  lincoln          ls v8        2002  143250  gasoline          a/t  silver   \n",
       "\n",
       "                                 accident  price     hp  litre  cyclinder  \n",
       "0                           none reported   4200  172.0    1.6        4.0  \n",
       "1  at least 1 accident or damage reported   4999  252.0    3.9        8.0  "
      ]
     },
     "execution_count": 54,
     "metadata": {},
     "output_type": "execute_result"
    }
   ],
   "source": [
    "df.head(2)"
   ]
  },
  {
   "cell_type": "code",
   "execution_count": 56,
   "id": "5d4cbef9",
   "metadata": {},
   "outputs": [],
   "source": [
    "## Removing Litre due to multi-collinearity"
   ]
  },
  {
   "cell_type": "code",
   "execution_count": 57,
   "id": "d068c6c7",
   "metadata": {},
   "outputs": [
    {
     "ename": "KeyError",
     "evalue": "\"['litre'] not found in axis\"",
     "output_type": "error",
     "traceback": [
      "\u001b[1;31m---------------------------------------------------------------------------\u001b[0m",
      "\u001b[1;31mKeyError\u001b[0m                                  Traceback (most recent call last)",
      "Cell \u001b[1;32mIn[57], line 1\u001b[0m\n\u001b[1;32m----> 1\u001b[0m df\u001b[38;5;241m.\u001b[39mdrop(columns\u001b[38;5;241m=\u001b[39m[\u001b[38;5;124m'\u001b[39m\u001b[38;5;124mlitre\u001b[39m\u001b[38;5;124m'\u001b[39m],inplace\u001b[38;5;241m=\u001b[39m\u001b[38;5;28;01mTrue\u001b[39;00m)\n",
      "File \u001b[1;32m~\\anaconda3\\Lib\\site-packages\\pandas\\core\\frame.py:5258\u001b[0m, in \u001b[0;36mDataFrame.drop\u001b[1;34m(self, labels, axis, index, columns, level, inplace, errors)\u001b[0m\n\u001b[0;32m   5110\u001b[0m \u001b[38;5;28;01mdef\u001b[39;00m \u001b[38;5;21mdrop\u001b[39m(\n\u001b[0;32m   5111\u001b[0m     \u001b[38;5;28mself\u001b[39m,\n\u001b[0;32m   5112\u001b[0m     labels: IndexLabel \u001b[38;5;241m=\u001b[39m \u001b[38;5;28;01mNone\u001b[39;00m,\n\u001b[1;32m   (...)\u001b[0m\n\u001b[0;32m   5119\u001b[0m     errors: IgnoreRaise \u001b[38;5;241m=\u001b[39m \u001b[38;5;124m\"\u001b[39m\u001b[38;5;124mraise\u001b[39m\u001b[38;5;124m\"\u001b[39m,\n\u001b[0;32m   5120\u001b[0m ) \u001b[38;5;241m-\u001b[39m\u001b[38;5;241m>\u001b[39m DataFrame \u001b[38;5;241m|\u001b[39m \u001b[38;5;28;01mNone\u001b[39;00m:\n\u001b[0;32m   5121\u001b[0m \u001b[38;5;250m    \u001b[39m\u001b[38;5;124;03m\"\"\"\u001b[39;00m\n\u001b[0;32m   5122\u001b[0m \u001b[38;5;124;03m    Drop specified labels from rows or columns.\u001b[39;00m\n\u001b[0;32m   5123\u001b[0m \n\u001b[1;32m   (...)\u001b[0m\n\u001b[0;32m   5256\u001b[0m \u001b[38;5;124;03m            weight  1.0     0.8\u001b[39;00m\n\u001b[0;32m   5257\u001b[0m \u001b[38;5;124;03m    \"\"\"\u001b[39;00m\n\u001b[1;32m-> 5258\u001b[0m     \u001b[38;5;28;01mreturn\u001b[39;00m \u001b[38;5;28msuper\u001b[39m()\u001b[38;5;241m.\u001b[39mdrop(\n\u001b[0;32m   5259\u001b[0m         labels\u001b[38;5;241m=\u001b[39mlabels,\n\u001b[0;32m   5260\u001b[0m         axis\u001b[38;5;241m=\u001b[39maxis,\n\u001b[0;32m   5261\u001b[0m         index\u001b[38;5;241m=\u001b[39mindex,\n\u001b[0;32m   5262\u001b[0m         columns\u001b[38;5;241m=\u001b[39mcolumns,\n\u001b[0;32m   5263\u001b[0m         level\u001b[38;5;241m=\u001b[39mlevel,\n\u001b[0;32m   5264\u001b[0m         inplace\u001b[38;5;241m=\u001b[39minplace,\n\u001b[0;32m   5265\u001b[0m         errors\u001b[38;5;241m=\u001b[39merrors,\n\u001b[0;32m   5266\u001b[0m     )\n",
      "File \u001b[1;32m~\\anaconda3\\Lib\\site-packages\\pandas\\core\\generic.py:4549\u001b[0m, in \u001b[0;36mNDFrame.drop\u001b[1;34m(self, labels, axis, index, columns, level, inplace, errors)\u001b[0m\n\u001b[0;32m   4547\u001b[0m \u001b[38;5;28;01mfor\u001b[39;00m axis, labels \u001b[38;5;129;01min\u001b[39;00m axes\u001b[38;5;241m.\u001b[39mitems():\n\u001b[0;32m   4548\u001b[0m     \u001b[38;5;28;01mif\u001b[39;00m labels \u001b[38;5;129;01mis\u001b[39;00m \u001b[38;5;129;01mnot\u001b[39;00m \u001b[38;5;28;01mNone\u001b[39;00m:\n\u001b[1;32m-> 4549\u001b[0m         obj \u001b[38;5;241m=\u001b[39m obj\u001b[38;5;241m.\u001b[39m_drop_axis(labels, axis, level\u001b[38;5;241m=\u001b[39mlevel, errors\u001b[38;5;241m=\u001b[39merrors)\n\u001b[0;32m   4551\u001b[0m \u001b[38;5;28;01mif\u001b[39;00m inplace:\n\u001b[0;32m   4552\u001b[0m     \u001b[38;5;28mself\u001b[39m\u001b[38;5;241m.\u001b[39m_update_inplace(obj)\n",
      "File \u001b[1;32m~\\anaconda3\\Lib\\site-packages\\pandas\\core\\generic.py:4591\u001b[0m, in \u001b[0;36mNDFrame._drop_axis\u001b[1;34m(self, labels, axis, level, errors, only_slice)\u001b[0m\n\u001b[0;32m   4589\u001b[0m         new_axis \u001b[38;5;241m=\u001b[39m axis\u001b[38;5;241m.\u001b[39mdrop(labels, level\u001b[38;5;241m=\u001b[39mlevel, errors\u001b[38;5;241m=\u001b[39merrors)\n\u001b[0;32m   4590\u001b[0m     \u001b[38;5;28;01melse\u001b[39;00m:\n\u001b[1;32m-> 4591\u001b[0m         new_axis \u001b[38;5;241m=\u001b[39m axis\u001b[38;5;241m.\u001b[39mdrop(labels, errors\u001b[38;5;241m=\u001b[39merrors)\n\u001b[0;32m   4592\u001b[0m     indexer \u001b[38;5;241m=\u001b[39m axis\u001b[38;5;241m.\u001b[39mget_indexer(new_axis)\n\u001b[0;32m   4594\u001b[0m \u001b[38;5;66;03m# Case for non-unique axis\u001b[39;00m\n\u001b[0;32m   4595\u001b[0m \u001b[38;5;28;01melse\u001b[39;00m:\n",
      "File \u001b[1;32m~\\anaconda3\\Lib\\site-packages\\pandas\\core\\indexes\\base.py:6699\u001b[0m, in \u001b[0;36mIndex.drop\u001b[1;34m(self, labels, errors)\u001b[0m\n\u001b[0;32m   6697\u001b[0m \u001b[38;5;28;01mif\u001b[39;00m mask\u001b[38;5;241m.\u001b[39many():\n\u001b[0;32m   6698\u001b[0m     \u001b[38;5;28;01mif\u001b[39;00m errors \u001b[38;5;241m!=\u001b[39m \u001b[38;5;124m\"\u001b[39m\u001b[38;5;124mignore\u001b[39m\u001b[38;5;124m\"\u001b[39m:\n\u001b[1;32m-> 6699\u001b[0m         \u001b[38;5;28;01mraise\u001b[39;00m \u001b[38;5;167;01mKeyError\u001b[39;00m(\u001b[38;5;124mf\u001b[39m\u001b[38;5;124m\"\u001b[39m\u001b[38;5;132;01m{\u001b[39;00m\u001b[38;5;28mlist\u001b[39m(labels[mask])\u001b[38;5;132;01m}\u001b[39;00m\u001b[38;5;124m not found in axis\u001b[39m\u001b[38;5;124m\"\u001b[39m)\n\u001b[0;32m   6700\u001b[0m     indexer \u001b[38;5;241m=\u001b[39m indexer[\u001b[38;5;241m~\u001b[39mmask]\n\u001b[0;32m   6701\u001b[0m \u001b[38;5;28;01mreturn\u001b[39;00m \u001b[38;5;28mself\u001b[39m\u001b[38;5;241m.\u001b[39mdelete(indexer)\n",
      "\u001b[1;31mKeyError\u001b[0m: \"['litre'] not found in axis\""
     ]
    }
   ],
   "source": [
    "df.drop(columns=['litre'],inplace=True)"
   ]
  },
  {
   "cell_type": "code",
   "execution_count": null,
   "id": "b3e529b5",
   "metadata": {},
   "outputs": [],
   "source": []
  },
  {
   "cell_type": "code",
   "execution_count": 58,
   "id": "49e0136b",
   "metadata": {},
   "outputs": [
    {
     "data": {
      "text/html": [
       "<div>\n",
       "<style scoped>\n",
       "    .dataframe tbody tr th:only-of-type {\n",
       "        vertical-align: middle;\n",
       "    }\n",
       "\n",
       "    .dataframe tbody tr th {\n",
       "        vertical-align: top;\n",
       "    }\n",
       "\n",
       "    .dataframe thead th {\n",
       "        text-align: right;\n",
       "    }\n",
       "</style>\n",
       "<table border=\"1\" class=\"dataframe\">\n",
       "  <thead>\n",
       "    <tr style=\"text-align: right;\">\n",
       "      <th></th>\n",
       "      <th>brand</th>\n",
       "      <th>model</th>\n",
       "      <th>model_year</th>\n",
       "      <th>milage</th>\n",
       "      <th>fuel_type</th>\n",
       "      <th>transmission</th>\n",
       "      <th>ext_col</th>\n",
       "      <th>accident</th>\n",
       "      <th>price</th>\n",
       "      <th>hp</th>\n",
       "      <th>cyclinder</th>\n",
       "    </tr>\n",
       "  </thead>\n",
       "  <tbody>\n",
       "    <tr>\n",
       "      <th>0</th>\n",
       "      <td>mini</td>\n",
       "      <td>cooper s base</td>\n",
       "      <td>2007</td>\n",
       "      <td>213000</td>\n",
       "      <td>gasoline</td>\n",
       "      <td>a/t</td>\n",
       "      <td>yellow</td>\n",
       "      <td>none reported</td>\n",
       "      <td>4200</td>\n",
       "      <td>172.0</td>\n",
       "      <td>4.0</td>\n",
       "    </tr>\n",
       "    <tr>\n",
       "      <th>1</th>\n",
       "      <td>lincoln</td>\n",
       "      <td>ls v8</td>\n",
       "      <td>2002</td>\n",
       "      <td>143250</td>\n",
       "      <td>gasoline</td>\n",
       "      <td>a/t</td>\n",
       "      <td>silver</td>\n",
       "      <td>at least 1 accident or damage reported</td>\n",
       "      <td>4999</td>\n",
       "      <td>252.0</td>\n",
       "      <td>8.0</td>\n",
       "    </tr>\n",
       "  </tbody>\n",
       "</table>\n",
       "</div>"
      ],
      "text/plain": [
       "     brand          model  model_year  milage fuel_type transmission ext_col  \\\n",
       "0     mini  cooper s base        2007  213000  gasoline          a/t  yellow   \n",
       "1  lincoln          ls v8        2002  143250  gasoline          a/t  silver   \n",
       "\n",
       "                                 accident  price     hp  cyclinder  \n",
       "0                           none reported   4200  172.0        4.0  \n",
       "1  at least 1 accident or damage reported   4999  252.0        8.0  "
      ]
     },
     "execution_count": 58,
     "metadata": {},
     "output_type": "execute_result"
    }
   ],
   "source": [
    "df.head(2)"
   ]
  },
  {
   "cell_type": "code",
   "execution_count": 59,
   "id": "936b9696",
   "metadata": {},
   "outputs": [
    {
     "data": {
      "text/plain": [
       "array(['mini', 'lincoln', 'chevrolet', 'genesis', 'mercedes-benz', 'audi',\n",
       "       'ford', 'bmw', 'tesla', 'cadillac', 'land', 'gmc', 'toyota',\n",
       "       'hyundai', 'volvo', 'volkswagen', 'buick', 'rivian', 'ram',\n",
       "       'hummer', 'alfa', 'infiniti', 'jeep', 'porsche', 'mclaren',\n",
       "       'honda', 'lexus', 'dodge', 'nissan', 'jaguar', 'acura', 'kia',\n",
       "       'mitsubishi', 'rolls-royce', 'maserati', 'pontiac', 'saturn',\n",
       "       'bentley', 'mazda', 'subaru', 'ferrari', 'aston', 'lamborghini',\n",
       "       'chrysler', 'lucid', 'lotus', 'scion', 'smart', 'karma',\n",
       "       'plymouth', 'suzuki', 'fiat', 'saab', 'bugatti', 'mercury',\n",
       "       'polestar', 'maybach'], dtype=object)"
      ]
     },
     "execution_count": 59,
     "metadata": {},
     "output_type": "execute_result"
    }
   ],
   "source": [
    "df['brand'].unique()"
   ]
  },
  {
   "cell_type": "code",
   "execution_count": 60,
   "id": "1b03de32",
   "metadata": {},
   "outputs": [
    {
     "data": {
      "text/plain": [
       "array(['cooper s base', 'ls v8', 'silverado 2500 lt', ...,\n",
       "       'integra w/a-spec tech package', 'ioniq plug-in hybrid sel',\n",
       "       'allroad 2.7t'], dtype=object)"
      ]
     },
     "execution_count": 60,
     "metadata": {},
     "output_type": "execute_result"
    }
   ],
   "source": [
    "df['model'].unique()"
   ]
  },
  {
   "cell_type": "code",
   "execution_count": 61,
   "id": "e57c2902",
   "metadata": {},
   "outputs": [],
   "source": [
    "df.drop(columns=['model'],inplace=True)"
   ]
  },
  {
   "cell_type": "code",
   "execution_count": 62,
   "id": "0b6a4c03",
   "metadata": {},
   "outputs": [
    {
     "data": {
      "text/html": [
       "<div>\n",
       "<style scoped>\n",
       "    .dataframe tbody tr th:only-of-type {\n",
       "        vertical-align: middle;\n",
       "    }\n",
       "\n",
       "    .dataframe tbody tr th {\n",
       "        vertical-align: top;\n",
       "    }\n",
       "\n",
       "    .dataframe thead th {\n",
       "        text-align: right;\n",
       "    }\n",
       "</style>\n",
       "<table border=\"1\" class=\"dataframe\">\n",
       "  <thead>\n",
       "    <tr style=\"text-align: right;\">\n",
       "      <th></th>\n",
       "      <th>brand</th>\n",
       "      <th>model_year</th>\n",
       "      <th>milage</th>\n",
       "      <th>fuel_type</th>\n",
       "      <th>transmission</th>\n",
       "      <th>ext_col</th>\n",
       "      <th>accident</th>\n",
       "      <th>price</th>\n",
       "      <th>hp</th>\n",
       "      <th>cyclinder</th>\n",
       "    </tr>\n",
       "  </thead>\n",
       "  <tbody>\n",
       "    <tr>\n",
       "      <th>0</th>\n",
       "      <td>mini</td>\n",
       "      <td>2007</td>\n",
       "      <td>213000</td>\n",
       "      <td>gasoline</td>\n",
       "      <td>a/t</td>\n",
       "      <td>yellow</td>\n",
       "      <td>none reported</td>\n",
       "      <td>4200</td>\n",
       "      <td>172.0</td>\n",
       "      <td>4.0</td>\n",
       "    </tr>\n",
       "    <tr>\n",
       "      <th>1</th>\n",
       "      <td>lincoln</td>\n",
       "      <td>2002</td>\n",
       "      <td>143250</td>\n",
       "      <td>gasoline</td>\n",
       "      <td>a/t</td>\n",
       "      <td>silver</td>\n",
       "      <td>at least 1 accident or damage reported</td>\n",
       "      <td>4999</td>\n",
       "      <td>252.0</td>\n",
       "      <td>8.0</td>\n",
       "    </tr>\n",
       "  </tbody>\n",
       "</table>\n",
       "</div>"
      ],
      "text/plain": [
       "     brand  model_year  milage fuel_type transmission ext_col  \\\n",
       "0     mini        2007  213000  gasoline          a/t  yellow   \n",
       "1  lincoln        2002  143250  gasoline          a/t  silver   \n",
       "\n",
       "                                 accident  price     hp  cyclinder  \n",
       "0                           none reported   4200  172.0        4.0  \n",
       "1  at least 1 accident or damage reported   4999  252.0        8.0  "
      ]
     },
     "execution_count": 62,
     "metadata": {},
     "output_type": "execute_result"
    }
   ],
   "source": [
    "df.head(2)"
   ]
  },
  {
   "cell_type": "code",
   "execution_count": null,
   "id": "5ef0aa22",
   "metadata": {},
   "outputs": [],
   "source": []
  },
  {
   "cell_type": "markdown",
   "id": "8b055469",
   "metadata": {},
   "source": [
    "# Encoding"
   ]
  },
  {
   "cell_type": "code",
   "execution_count": null,
   "id": "55104bd8",
   "metadata": {},
   "outputs": [],
   "source": []
  },
  {
   "cell_type": "code",
   "execution_count": 64,
   "id": "2371beaa",
   "metadata": {},
   "outputs": [],
   "source": [
    "from sklearn.preprocessing import OneHotEncoder"
   ]
  },
  {
   "cell_type": "code",
   "execution_count": 65,
   "id": "8c25c5c9",
   "metadata": {},
   "outputs": [],
   "source": [
    "df_encoded = pd.get_dummies(df, columns=['accident','ext_col','fuel_type','brand','transmission'],drop_first=True)"
   ]
  },
  {
   "cell_type": "code",
   "execution_count": 66,
   "id": "bf1fa24f",
   "metadata": {},
   "outputs": [
    {
     "data": {
      "text/plain": [
       "(314223, 433)"
      ]
     },
     "execution_count": 66,
     "metadata": {},
     "output_type": "execute_result"
    }
   ],
   "source": [
    "df_encoded.shape"
   ]
  },
  {
   "cell_type": "code",
   "execution_count": 67,
   "id": "cdee23a5",
   "metadata": {},
   "outputs": [
    {
     "data": {
      "text/html": [
       "<div>\n",
       "<style scoped>\n",
       "    .dataframe tbody tr th:only-of-type {\n",
       "        vertical-align: middle;\n",
       "    }\n",
       "\n",
       "    .dataframe tbody tr th {\n",
       "        vertical-align: top;\n",
       "    }\n",
       "\n",
       "    .dataframe thead th {\n",
       "        text-align: right;\n",
       "    }\n",
       "</style>\n",
       "<table border=\"1\" class=\"dataframe\">\n",
       "  <thead>\n",
       "    <tr style=\"text-align: right;\">\n",
       "      <th></th>\n",
       "      <th>model_year</th>\n",
       "      <th>milage</th>\n",
       "      <th>price</th>\n",
       "      <th>hp</th>\n",
       "      <th>cyclinder</th>\n",
       "      <th>accident_none reported</th>\n",
       "      <th>ext_col_alfa white</th>\n",
       "      <th>ext_col_alpine white</th>\n",
       "      <th>ext_col_alta white</th>\n",
       "      <th>ext_col_ametrin metallic</th>\n",
       "      <th>...</th>\n",
       "      <th>transmission_cvt-f</th>\n",
       "      <th>transmission_f</th>\n",
       "      <th>transmission_m/t</th>\n",
       "      <th>transmission_manual</th>\n",
       "      <th>transmission_scheduled for or in production</th>\n",
       "      <th>transmission_single-speed fixed gear</th>\n",
       "      <th>transmission_transmission overdrive switch</th>\n",
       "      <th>transmission_transmission w/dual shift mode</th>\n",
       "      <th>transmission_variable</th>\n",
       "      <th>transmission_–</th>\n",
       "    </tr>\n",
       "  </thead>\n",
       "  <tbody>\n",
       "    <tr>\n",
       "      <th>0</th>\n",
       "      <td>2007</td>\n",
       "      <td>213000</td>\n",
       "      <td>4200</td>\n",
       "      <td>172.0</td>\n",
       "      <td>4.0</td>\n",
       "      <td>True</td>\n",
       "      <td>False</td>\n",
       "      <td>False</td>\n",
       "      <td>False</td>\n",
       "      <td>False</td>\n",
       "      <td>...</td>\n",
       "      <td>False</td>\n",
       "      <td>False</td>\n",
       "      <td>False</td>\n",
       "      <td>False</td>\n",
       "      <td>False</td>\n",
       "      <td>False</td>\n",
       "      <td>False</td>\n",
       "      <td>False</td>\n",
       "      <td>False</td>\n",
       "      <td>False</td>\n",
       "    </tr>\n",
       "    <tr>\n",
       "      <th>1</th>\n",
       "      <td>2002</td>\n",
       "      <td>143250</td>\n",
       "      <td>4999</td>\n",
       "      <td>252.0</td>\n",
       "      <td>8.0</td>\n",
       "      <td>False</td>\n",
       "      <td>False</td>\n",
       "      <td>False</td>\n",
       "      <td>False</td>\n",
       "      <td>False</td>\n",
       "      <td>...</td>\n",
       "      <td>False</td>\n",
       "      <td>False</td>\n",
       "      <td>False</td>\n",
       "      <td>False</td>\n",
       "      <td>False</td>\n",
       "      <td>False</td>\n",
       "      <td>False</td>\n",
       "      <td>False</td>\n",
       "      <td>False</td>\n",
       "      <td>False</td>\n",
       "    </tr>\n",
       "    <tr>\n",
       "      <th>2</th>\n",
       "      <td>2002</td>\n",
       "      <td>136731</td>\n",
       "      <td>13900</td>\n",
       "      <td>320.0</td>\n",
       "      <td>8.0</td>\n",
       "      <td>True</td>\n",
       "      <td>False</td>\n",
       "      <td>False</td>\n",
       "      <td>False</td>\n",
       "      <td>False</td>\n",
       "      <td>...</td>\n",
       "      <td>False</td>\n",
       "      <td>False</td>\n",
       "      <td>False</td>\n",
       "      <td>False</td>\n",
       "      <td>False</td>\n",
       "      <td>False</td>\n",
       "      <td>False</td>\n",
       "      <td>False</td>\n",
       "      <td>False</td>\n",
       "      <td>False</td>\n",
       "    </tr>\n",
       "    <tr>\n",
       "      <th>3</th>\n",
       "      <td>2017</td>\n",
       "      <td>19500</td>\n",
       "      <td>45000</td>\n",
       "      <td>420.0</td>\n",
       "      <td>8.0</td>\n",
       "      <td>True</td>\n",
       "      <td>False</td>\n",
       "      <td>False</td>\n",
       "      <td>False</td>\n",
       "      <td>False</td>\n",
       "      <td>...</td>\n",
       "      <td>False</td>\n",
       "      <td>False</td>\n",
       "      <td>False</td>\n",
       "      <td>False</td>\n",
       "      <td>False</td>\n",
       "      <td>False</td>\n",
       "      <td>False</td>\n",
       "      <td>True</td>\n",
       "      <td>False</td>\n",
       "      <td>False</td>\n",
       "    </tr>\n",
       "  </tbody>\n",
       "</table>\n",
       "<p>4 rows × 433 columns</p>\n",
       "</div>"
      ],
      "text/plain": [
       "   model_year  milage  price     hp  cyclinder  accident_none reported  \\\n",
       "0        2007  213000   4200  172.0        4.0                    True   \n",
       "1        2002  143250   4999  252.0        8.0                   False   \n",
       "2        2002  136731  13900  320.0        8.0                    True   \n",
       "3        2017   19500  45000  420.0        8.0                    True   \n",
       "\n",
       "   ext_col_alfa white  ext_col_alpine white  ext_col_alta white  \\\n",
       "0               False                 False               False   \n",
       "1               False                 False               False   \n",
       "2               False                 False               False   \n",
       "3               False                 False               False   \n",
       "\n",
       "   ext_col_ametrin metallic  ...  transmission_cvt-f  transmission_f  \\\n",
       "0                     False  ...               False           False   \n",
       "1                     False  ...               False           False   \n",
       "2                     False  ...               False           False   \n",
       "3                     False  ...               False           False   \n",
       "\n",
       "   transmission_m/t  transmission_manual  \\\n",
       "0             False                False   \n",
       "1             False                False   \n",
       "2             False                False   \n",
       "3             False                False   \n",
       "\n",
       "   transmission_scheduled for or in production  \\\n",
       "0                                        False   \n",
       "1                                        False   \n",
       "2                                        False   \n",
       "3                                        False   \n",
       "\n",
       "   transmission_single-speed fixed gear  \\\n",
       "0                                 False   \n",
       "1                                 False   \n",
       "2                                 False   \n",
       "3                                 False   \n",
       "\n",
       "   transmission_transmission overdrive switch  \\\n",
       "0                                       False   \n",
       "1                                       False   \n",
       "2                                       False   \n",
       "3                                       False   \n",
       "\n",
       "   transmission_transmission w/dual shift mode  transmission_variable  \\\n",
       "0                                        False                  False   \n",
       "1                                        False                  False   \n",
       "2                                        False                  False   \n",
       "3                                         True                  False   \n",
       "\n",
       "   transmission_–  \n",
       "0           False  \n",
       "1           False  \n",
       "2           False  \n",
       "3           False  \n",
       "\n",
       "[4 rows x 433 columns]"
      ]
     },
     "execution_count": 67,
     "metadata": {},
     "output_type": "execute_result"
    }
   ],
   "source": [
    "df_encoded.head(4)"
   ]
  },
  {
   "cell_type": "code",
   "execution_count": 68,
   "id": "e801b0dd",
   "metadata": {},
   "outputs": [],
   "source": [
    "for column in df_encoded.columns:\n",
    "    if df_encoded[column].dtype == bool:\n",
    "        df_encoded[column] = df_encoded[column].astype(int)"
   ]
  },
  {
   "cell_type": "code",
   "execution_count": 69,
   "id": "ea62b084",
   "metadata": {},
   "outputs": [
    {
     "data": {
      "text/html": [
       "<div>\n",
       "<style scoped>\n",
       "    .dataframe tbody tr th:only-of-type {\n",
       "        vertical-align: middle;\n",
       "    }\n",
       "\n",
       "    .dataframe tbody tr th {\n",
       "        vertical-align: top;\n",
       "    }\n",
       "\n",
       "    .dataframe thead th {\n",
       "        text-align: right;\n",
       "    }\n",
       "</style>\n",
       "<table border=\"1\" class=\"dataframe\">\n",
       "  <thead>\n",
       "    <tr style=\"text-align: right;\">\n",
       "      <th></th>\n",
       "      <th>model_year</th>\n",
       "      <th>milage</th>\n",
       "      <th>price</th>\n",
       "      <th>hp</th>\n",
       "      <th>cyclinder</th>\n",
       "      <th>accident_none reported</th>\n",
       "      <th>ext_col_alfa white</th>\n",
       "      <th>ext_col_alpine white</th>\n",
       "      <th>ext_col_alta white</th>\n",
       "      <th>ext_col_ametrin metallic</th>\n",
       "      <th>...</th>\n",
       "      <th>transmission_cvt-f</th>\n",
       "      <th>transmission_f</th>\n",
       "      <th>transmission_m/t</th>\n",
       "      <th>transmission_manual</th>\n",
       "      <th>transmission_scheduled for or in production</th>\n",
       "      <th>transmission_single-speed fixed gear</th>\n",
       "      <th>transmission_transmission overdrive switch</th>\n",
       "      <th>transmission_transmission w/dual shift mode</th>\n",
       "      <th>transmission_variable</th>\n",
       "      <th>transmission_–</th>\n",
       "    </tr>\n",
       "  </thead>\n",
       "  <tbody>\n",
       "    <tr>\n",
       "      <th>0</th>\n",
       "      <td>2007</td>\n",
       "      <td>213000</td>\n",
       "      <td>4200</td>\n",
       "      <td>172.0</td>\n",
       "      <td>4.0</td>\n",
       "      <td>1</td>\n",
       "      <td>0</td>\n",
       "      <td>0</td>\n",
       "      <td>0</td>\n",
       "      <td>0</td>\n",
       "      <td>...</td>\n",
       "      <td>0</td>\n",
       "      <td>0</td>\n",
       "      <td>0</td>\n",
       "      <td>0</td>\n",
       "      <td>0</td>\n",
       "      <td>0</td>\n",
       "      <td>0</td>\n",
       "      <td>0</td>\n",
       "      <td>0</td>\n",
       "      <td>0</td>\n",
       "    </tr>\n",
       "    <tr>\n",
       "      <th>1</th>\n",
       "      <td>2002</td>\n",
       "      <td>143250</td>\n",
       "      <td>4999</td>\n",
       "      <td>252.0</td>\n",
       "      <td>8.0</td>\n",
       "      <td>0</td>\n",
       "      <td>0</td>\n",
       "      <td>0</td>\n",
       "      <td>0</td>\n",
       "      <td>0</td>\n",
       "      <td>...</td>\n",
       "      <td>0</td>\n",
       "      <td>0</td>\n",
       "      <td>0</td>\n",
       "      <td>0</td>\n",
       "      <td>0</td>\n",
       "      <td>0</td>\n",
       "      <td>0</td>\n",
       "      <td>0</td>\n",
       "      <td>0</td>\n",
       "      <td>0</td>\n",
       "    </tr>\n",
       "    <tr>\n",
       "      <th>2</th>\n",
       "      <td>2002</td>\n",
       "      <td>136731</td>\n",
       "      <td>13900</td>\n",
       "      <td>320.0</td>\n",
       "      <td>8.0</td>\n",
       "      <td>1</td>\n",
       "      <td>0</td>\n",
       "      <td>0</td>\n",
       "      <td>0</td>\n",
       "      <td>0</td>\n",
       "      <td>...</td>\n",
       "      <td>0</td>\n",
       "      <td>0</td>\n",
       "      <td>0</td>\n",
       "      <td>0</td>\n",
       "      <td>0</td>\n",
       "      <td>0</td>\n",
       "      <td>0</td>\n",
       "      <td>0</td>\n",
       "      <td>0</td>\n",
       "      <td>0</td>\n",
       "    </tr>\n",
       "    <tr>\n",
       "      <th>3</th>\n",
       "      <td>2017</td>\n",
       "      <td>19500</td>\n",
       "      <td>45000</td>\n",
       "      <td>420.0</td>\n",
       "      <td>8.0</td>\n",
       "      <td>1</td>\n",
       "      <td>0</td>\n",
       "      <td>0</td>\n",
       "      <td>0</td>\n",
       "      <td>0</td>\n",
       "      <td>...</td>\n",
       "      <td>0</td>\n",
       "      <td>0</td>\n",
       "      <td>0</td>\n",
       "      <td>0</td>\n",
       "      <td>0</td>\n",
       "      <td>0</td>\n",
       "      <td>0</td>\n",
       "      <td>1</td>\n",
       "      <td>0</td>\n",
       "      <td>0</td>\n",
       "    </tr>\n",
       "  </tbody>\n",
       "</table>\n",
       "<p>4 rows × 433 columns</p>\n",
       "</div>"
      ],
      "text/plain": [
       "   model_year  milage  price     hp  cyclinder  accident_none reported  \\\n",
       "0        2007  213000   4200  172.0        4.0                       1   \n",
       "1        2002  143250   4999  252.0        8.0                       0   \n",
       "2        2002  136731  13900  320.0        8.0                       1   \n",
       "3        2017   19500  45000  420.0        8.0                       1   \n",
       "\n",
       "   ext_col_alfa white  ext_col_alpine white  ext_col_alta white  \\\n",
       "0                   0                     0                   0   \n",
       "1                   0                     0                   0   \n",
       "2                   0                     0                   0   \n",
       "3                   0                     0                   0   \n",
       "\n",
       "   ext_col_ametrin metallic  ...  transmission_cvt-f  transmission_f  \\\n",
       "0                         0  ...                   0               0   \n",
       "1                         0  ...                   0               0   \n",
       "2                         0  ...                   0               0   \n",
       "3                         0  ...                   0               0   \n",
       "\n",
       "   transmission_m/t  transmission_manual  \\\n",
       "0                 0                    0   \n",
       "1                 0                    0   \n",
       "2                 0                    0   \n",
       "3                 0                    0   \n",
       "\n",
       "   transmission_scheduled for or in production  \\\n",
       "0                                            0   \n",
       "1                                            0   \n",
       "2                                            0   \n",
       "3                                            0   \n",
       "\n",
       "   transmission_single-speed fixed gear  \\\n",
       "0                                     0   \n",
       "1                                     0   \n",
       "2                                     0   \n",
       "3                                     0   \n",
       "\n",
       "   transmission_transmission overdrive switch  \\\n",
       "0                                           0   \n",
       "1                                           0   \n",
       "2                                           0   \n",
       "3                                           0   \n",
       "\n",
       "   transmission_transmission w/dual shift mode  transmission_variable  \\\n",
       "0                                            0                      0   \n",
       "1                                            0                      0   \n",
       "2                                            0                      0   \n",
       "3                                            1                      0   \n",
       "\n",
       "   transmission_–  \n",
       "0               0  \n",
       "1               0  \n",
       "2               0  \n",
       "3               0  \n",
       "\n",
       "[4 rows x 433 columns]"
      ]
     },
     "execution_count": 69,
     "metadata": {},
     "output_type": "execute_result"
    }
   ],
   "source": [
    "df_encoded.head(4)"
   ]
  },
  {
   "cell_type": "code",
   "execution_count": null,
   "id": "97f6cc20",
   "metadata": {},
   "outputs": [],
   "source": []
  },
  {
   "cell_type": "markdown",
   "id": "ee0ed172",
   "metadata": {},
   "source": [
    "### SEPARATING MY TRAIN AND TEST DATA FROM DF"
   ]
  },
  {
   "cell_type": "code",
   "execution_count": 76,
   "id": "ea2bb56b",
   "metadata": {},
   "outputs": [],
   "source": [
    "train= pd.read_csv('datasets/train.csv')\n",
    "test = pd.read_csv('datasets/test.csv')"
   ]
  },
  {
   "cell_type": "code",
   "execution_count": 77,
   "id": "48cd9bde",
   "metadata": {},
   "outputs": [],
   "source": [
    "test['price'] = -1"
   ]
  },
  {
   "cell_type": "code",
   "execution_count": 78,
   "id": "3aac74fb",
   "metadata": {},
   "outputs": [],
   "source": [
    "df2 = pd.concat([train,test])"
   ]
  },
  {
   "cell_type": "code",
   "execution_count": 79,
   "id": "44bc6b1f",
   "metadata": {},
   "outputs": [],
   "source": [
    "copy = df_encoded.copy()"
   ]
  },
  {
   "cell_type": "code",
   "execution_count": 80,
   "id": "ea55082f",
   "metadata": {},
   "outputs": [],
   "source": [
    "copy['id'] = df2['id']"
   ]
  },
  {
   "cell_type": "code",
   "execution_count": 81,
   "id": "83bd4166",
   "metadata": {},
   "outputs": [
    {
     "data": {
      "text/html": [
       "<div>\n",
       "<style scoped>\n",
       "    .dataframe tbody tr th:only-of-type {\n",
       "        vertical-align: middle;\n",
       "    }\n",
       "\n",
       "    .dataframe tbody tr th {\n",
       "        vertical-align: top;\n",
       "    }\n",
       "\n",
       "    .dataframe thead th {\n",
       "        text-align: right;\n",
       "    }\n",
       "</style>\n",
       "<table border=\"1\" class=\"dataframe\">\n",
       "  <thead>\n",
       "    <tr style=\"text-align: right;\">\n",
       "      <th></th>\n",
       "      <th>model_year</th>\n",
       "      <th>milage</th>\n",
       "      <th>price</th>\n",
       "      <th>hp</th>\n",
       "      <th>cyclinder</th>\n",
       "      <th>accident_none reported</th>\n",
       "      <th>ext_col_alfa white</th>\n",
       "      <th>ext_col_alpine white</th>\n",
       "      <th>ext_col_alta white</th>\n",
       "      <th>ext_col_ametrin metallic</th>\n",
       "      <th>...</th>\n",
       "      <th>transmission_f</th>\n",
       "      <th>transmission_m/t</th>\n",
       "      <th>transmission_manual</th>\n",
       "      <th>transmission_scheduled for or in production</th>\n",
       "      <th>transmission_single-speed fixed gear</th>\n",
       "      <th>transmission_transmission overdrive switch</th>\n",
       "      <th>transmission_transmission w/dual shift mode</th>\n",
       "      <th>transmission_variable</th>\n",
       "      <th>transmission_–</th>\n",
       "      <th>id</th>\n",
       "    </tr>\n",
       "  </thead>\n",
       "  <tbody>\n",
       "    <tr>\n",
       "      <th>0</th>\n",
       "      <td>2007</td>\n",
       "      <td>213000</td>\n",
       "      <td>4200</td>\n",
       "      <td>172.0</td>\n",
       "      <td>4.0</td>\n",
       "      <td>1</td>\n",
       "      <td>0</td>\n",
       "      <td>0</td>\n",
       "      <td>0</td>\n",
       "      <td>0</td>\n",
       "      <td>...</td>\n",
       "      <td>0</td>\n",
       "      <td>0</td>\n",
       "      <td>0</td>\n",
       "      <td>0</td>\n",
       "      <td>0</td>\n",
       "      <td>0</td>\n",
       "      <td>0</td>\n",
       "      <td>0</td>\n",
       "      <td>0</td>\n",
       "      <td>0</td>\n",
       "    </tr>\n",
       "    <tr>\n",
       "      <th>1</th>\n",
       "      <td>2002</td>\n",
       "      <td>143250</td>\n",
       "      <td>4999</td>\n",
       "      <td>252.0</td>\n",
       "      <td>8.0</td>\n",
       "      <td>0</td>\n",
       "      <td>0</td>\n",
       "      <td>0</td>\n",
       "      <td>0</td>\n",
       "      <td>0</td>\n",
       "      <td>...</td>\n",
       "      <td>0</td>\n",
       "      <td>0</td>\n",
       "      <td>0</td>\n",
       "      <td>0</td>\n",
       "      <td>0</td>\n",
       "      <td>0</td>\n",
       "      <td>0</td>\n",
       "      <td>0</td>\n",
       "      <td>0</td>\n",
       "      <td>1</td>\n",
       "    </tr>\n",
       "    <tr>\n",
       "      <th>2</th>\n",
       "      <td>2002</td>\n",
       "      <td>136731</td>\n",
       "      <td>13900</td>\n",
       "      <td>320.0</td>\n",
       "      <td>8.0</td>\n",
       "      <td>1</td>\n",
       "      <td>0</td>\n",
       "      <td>0</td>\n",
       "      <td>0</td>\n",
       "      <td>0</td>\n",
       "      <td>...</td>\n",
       "      <td>0</td>\n",
       "      <td>0</td>\n",
       "      <td>0</td>\n",
       "      <td>0</td>\n",
       "      <td>0</td>\n",
       "      <td>0</td>\n",
       "      <td>0</td>\n",
       "      <td>0</td>\n",
       "      <td>0</td>\n",
       "      <td>2</td>\n",
       "    </tr>\n",
       "    <tr>\n",
       "      <th>3</th>\n",
       "      <td>2017</td>\n",
       "      <td>19500</td>\n",
       "      <td>45000</td>\n",
       "      <td>420.0</td>\n",
       "      <td>8.0</td>\n",
       "      <td>1</td>\n",
       "      <td>0</td>\n",
       "      <td>0</td>\n",
       "      <td>0</td>\n",
       "      <td>0</td>\n",
       "      <td>...</td>\n",
       "      <td>0</td>\n",
       "      <td>0</td>\n",
       "      <td>0</td>\n",
       "      <td>0</td>\n",
       "      <td>0</td>\n",
       "      <td>0</td>\n",
       "      <td>1</td>\n",
       "      <td>0</td>\n",
       "      <td>0</td>\n",
       "      <td>3</td>\n",
       "    </tr>\n",
       "    <tr>\n",
       "      <th>4</th>\n",
       "      <td>2021</td>\n",
       "      <td>7388</td>\n",
       "      <td>97500</td>\n",
       "      <td>208.0</td>\n",
       "      <td>4.0</td>\n",
       "      <td>1</td>\n",
       "      <td>0</td>\n",
       "      <td>0</td>\n",
       "      <td>0</td>\n",
       "      <td>0</td>\n",
       "      <td>...</td>\n",
       "      <td>0</td>\n",
       "      <td>0</td>\n",
       "      <td>0</td>\n",
       "      <td>0</td>\n",
       "      <td>0</td>\n",
       "      <td>0</td>\n",
       "      <td>0</td>\n",
       "      <td>0</td>\n",
       "      <td>0</td>\n",
       "      <td>4</td>\n",
       "    </tr>\n",
       "  </tbody>\n",
       "</table>\n",
       "<p>5 rows × 434 columns</p>\n",
       "</div>"
      ],
      "text/plain": [
       "   model_year  milage  price     hp  cyclinder  accident_none reported  \\\n",
       "0        2007  213000   4200  172.0        4.0                       1   \n",
       "1        2002  143250   4999  252.0        8.0                       0   \n",
       "2        2002  136731  13900  320.0        8.0                       1   \n",
       "3        2017   19500  45000  420.0        8.0                       1   \n",
       "4        2021    7388  97500  208.0        4.0                       1   \n",
       "\n",
       "   ext_col_alfa white  ext_col_alpine white  ext_col_alta white  \\\n",
       "0                   0                     0                   0   \n",
       "1                   0                     0                   0   \n",
       "2                   0                     0                   0   \n",
       "3                   0                     0                   0   \n",
       "4                   0                     0                   0   \n",
       "\n",
       "   ext_col_ametrin metallic  ...  transmission_f  transmission_m/t  \\\n",
       "0                         0  ...               0                 0   \n",
       "1                         0  ...               0                 0   \n",
       "2                         0  ...               0                 0   \n",
       "3                         0  ...               0                 0   \n",
       "4                         0  ...               0                 0   \n",
       "\n",
       "   transmission_manual  transmission_scheduled for or in production  \\\n",
       "0                    0                                            0   \n",
       "1                    0                                            0   \n",
       "2                    0                                            0   \n",
       "3                    0                                            0   \n",
       "4                    0                                            0   \n",
       "\n",
       "   transmission_single-speed fixed gear  \\\n",
       "0                                     0   \n",
       "1                                     0   \n",
       "2                                     0   \n",
       "3                                     0   \n",
       "4                                     0   \n",
       "\n",
       "   transmission_transmission overdrive switch  \\\n",
       "0                                           0   \n",
       "1                                           0   \n",
       "2                                           0   \n",
       "3                                           0   \n",
       "4                                           0   \n",
       "\n",
       "   transmission_transmission w/dual shift mode  transmission_variable  \\\n",
       "0                                            0                      0   \n",
       "1                                            0                      0   \n",
       "2                                            0                      0   \n",
       "3                                            1                      0   \n",
       "4                                            0                      0   \n",
       "\n",
       "   transmission_–  id  \n",
       "0               0   0  \n",
       "1               0   1  \n",
       "2               0   2  \n",
       "3               0   3  \n",
       "4               0   4  \n",
       "\n",
       "[5 rows x 434 columns]"
      ]
     },
     "execution_count": 81,
     "metadata": {},
     "output_type": "execute_result"
    }
   ],
   "source": [
    "copy.head()"
   ]
  },
  {
   "cell_type": "code",
   "execution_count": 84,
   "id": "6d5261b7",
   "metadata": {},
   "outputs": [
    {
     "data": {
      "text/plain": [
       "(314223, 434)"
      ]
     },
     "execution_count": 84,
     "metadata": {},
     "output_type": "execute_result"
    }
   ],
   "source": [
    "copy.shape"
   ]
  },
  {
   "cell_type": "code",
   "execution_count": 85,
   "id": "37faabb1",
   "metadata": {},
   "outputs": [],
   "source": [
    "# Create a new DataFrame with rows where 'id' is between 188533 and 314222\n",
    "df_train = copy[(copy['id'] >= 0) & (copy['id'] < 188533)]"
   ]
  },
  {
   "cell_type": "code",
   "execution_count": 86,
   "id": "8a86eea9",
   "metadata": {},
   "outputs": [
    {
     "data": {
      "text/plain": [
       "(188533, 434)"
      ]
     },
     "execution_count": 86,
     "metadata": {},
     "output_type": "execute_result"
    }
   ],
   "source": [
    "df_train.shape"
   ]
  },
  {
   "cell_type": "code",
   "execution_count": 82,
   "id": "969c795d",
   "metadata": {},
   "outputs": [],
   "source": [
    "# Create a new DataFrame with rows where 'id' is between 188533 and 314222\n",
    "df_test = copy[(copy['id'] >= 188533) & (copy['id'] <= 314222)]"
   ]
  },
  {
   "cell_type": "code",
   "execution_count": 83,
   "id": "82489814",
   "metadata": {},
   "outputs": [
    {
     "data": {
      "text/plain": [
       "(125690, 434)"
      ]
     },
     "execution_count": 83,
     "metadata": {},
     "output_type": "execute_result"
    }
   ],
   "source": [
    "df_test.shape"
   ]
  },
  {
   "cell_type": "code",
   "execution_count": null,
   "id": "6db92fb3",
   "metadata": {},
   "outputs": [],
   "source": []
  },
  {
   "cell_type": "code",
   "execution_count": 106,
   "id": "ff06d4ab",
   "metadata": {},
   "outputs": [
    {
     "name": "stderr",
     "output_type": "stream",
     "text": [
      "C:\\Users\\JoyBoy\\AppData\\Local\\Temp\\ipykernel_10460\\543436428.py:1: SettingWithCopyWarning: \n",
      "A value is trying to be set on a copy of a slice from a DataFrame\n",
      "\n",
      "See the caveats in the documentation: https://pandas.pydata.org/pandas-docs/stable/user_guide/indexing.html#returning-a-view-versus-a-copy\n",
      "  df_train.drop(columns=['id'],inplace=True)\n",
      "C:\\Users\\JoyBoy\\AppData\\Local\\Temp\\ipykernel_10460\\543436428.py:2: SettingWithCopyWarning: \n",
      "A value is trying to be set on a copy of a slice from a DataFrame\n",
      "\n",
      "See the caveats in the documentation: https://pandas.pydata.org/pandas-docs/stable/user_guide/indexing.html#returning-a-view-versus-a-copy\n",
      "  df_test.drop(columns=['id'],inplace=True)\n"
     ]
    }
   ],
   "source": [
    "df_train.drop(columns=['id'],inplace=True)\n",
    "df_test.drop(columns=['id'],inplace=True)"
   ]
  },
  {
   "cell_type": "code",
   "execution_count": null,
   "id": "e6552d7f",
   "metadata": {},
   "outputs": [],
   "source": []
  },
  {
   "cell_type": "code",
   "execution_count": 107,
   "id": "808130eb",
   "metadata": {},
   "outputs": [
    {
     "data": {
      "text/html": [
       "<div>\n",
       "<style scoped>\n",
       "    .dataframe tbody tr th:only-of-type {\n",
       "        vertical-align: middle;\n",
       "    }\n",
       "\n",
       "    .dataframe tbody tr th {\n",
       "        vertical-align: top;\n",
       "    }\n",
       "\n",
       "    .dataframe thead th {\n",
       "        text-align: right;\n",
       "    }\n",
       "</style>\n",
       "<table border=\"1\" class=\"dataframe\">\n",
       "  <thead>\n",
       "    <tr style=\"text-align: right;\">\n",
       "      <th></th>\n",
       "      <th>model_year</th>\n",
       "      <th>milage</th>\n",
       "      <th>price</th>\n",
       "      <th>hp</th>\n",
       "      <th>cyclinder</th>\n",
       "      <th>accident_none reported</th>\n",
       "      <th>ext_col_alfa white</th>\n",
       "      <th>ext_col_alpine white</th>\n",
       "      <th>ext_col_alta white</th>\n",
       "      <th>ext_col_ametrin metallic</th>\n",
       "      <th>...</th>\n",
       "      <th>transmission_cvt-f</th>\n",
       "      <th>transmission_f</th>\n",
       "      <th>transmission_m/t</th>\n",
       "      <th>transmission_manual</th>\n",
       "      <th>transmission_scheduled for or in production</th>\n",
       "      <th>transmission_single-speed fixed gear</th>\n",
       "      <th>transmission_transmission overdrive switch</th>\n",
       "      <th>transmission_transmission w/dual shift mode</th>\n",
       "      <th>transmission_variable</th>\n",
       "      <th>transmission_–</th>\n",
       "    </tr>\n",
       "  </thead>\n",
       "  <tbody>\n",
       "    <tr>\n",
       "      <th>0</th>\n",
       "      <td>2007</td>\n",
       "      <td>213000</td>\n",
       "      <td>4200</td>\n",
       "      <td>172.0</td>\n",
       "      <td>4.0</td>\n",
       "      <td>1</td>\n",
       "      <td>0</td>\n",
       "      <td>0</td>\n",
       "      <td>0</td>\n",
       "      <td>0</td>\n",
       "      <td>...</td>\n",
       "      <td>0</td>\n",
       "      <td>0</td>\n",
       "      <td>0</td>\n",
       "      <td>0</td>\n",
       "      <td>0</td>\n",
       "      <td>0</td>\n",
       "      <td>0</td>\n",
       "      <td>0</td>\n",
       "      <td>0</td>\n",
       "      <td>0</td>\n",
       "    </tr>\n",
       "    <tr>\n",
       "      <th>1</th>\n",
       "      <td>2002</td>\n",
       "      <td>143250</td>\n",
       "      <td>4999</td>\n",
       "      <td>252.0</td>\n",
       "      <td>8.0</td>\n",
       "      <td>0</td>\n",
       "      <td>0</td>\n",
       "      <td>0</td>\n",
       "      <td>0</td>\n",
       "      <td>0</td>\n",
       "      <td>...</td>\n",
       "      <td>0</td>\n",
       "      <td>0</td>\n",
       "      <td>0</td>\n",
       "      <td>0</td>\n",
       "      <td>0</td>\n",
       "      <td>0</td>\n",
       "      <td>0</td>\n",
       "      <td>0</td>\n",
       "      <td>0</td>\n",
       "      <td>0</td>\n",
       "    </tr>\n",
       "  </tbody>\n",
       "</table>\n",
       "<p>2 rows × 433 columns</p>\n",
       "</div>"
      ],
      "text/plain": [
       "   model_year  milage  price     hp  cyclinder  accident_none reported  \\\n",
       "0        2007  213000   4200  172.0        4.0                       1   \n",
       "1        2002  143250   4999  252.0        8.0                       0   \n",
       "\n",
       "   ext_col_alfa white  ext_col_alpine white  ext_col_alta white  \\\n",
       "0                   0                     0                   0   \n",
       "1                   0                     0                   0   \n",
       "\n",
       "   ext_col_ametrin metallic  ...  transmission_cvt-f  transmission_f  \\\n",
       "0                         0  ...                   0               0   \n",
       "1                         0  ...                   0               0   \n",
       "\n",
       "   transmission_m/t  transmission_manual  \\\n",
       "0                 0                    0   \n",
       "1                 0                    0   \n",
       "\n",
       "   transmission_scheduled for or in production  \\\n",
       "0                                            0   \n",
       "1                                            0   \n",
       "\n",
       "   transmission_single-speed fixed gear  \\\n",
       "0                                     0   \n",
       "1                                     0   \n",
       "\n",
       "   transmission_transmission overdrive switch  \\\n",
       "0                                           0   \n",
       "1                                           0   \n",
       "\n",
       "   transmission_transmission w/dual shift mode  transmission_variable  \\\n",
       "0                                            0                      0   \n",
       "1                                            0                      0   \n",
       "\n",
       "   transmission_–  \n",
       "0               0  \n",
       "1               0  \n",
       "\n",
       "[2 rows x 433 columns]"
      ]
     },
     "execution_count": 107,
     "metadata": {},
     "output_type": "execute_result"
    }
   ],
   "source": [
    "df_train.head(2)"
   ]
  },
  {
   "cell_type": "code",
   "execution_count": 109,
   "id": "fdd4755a",
   "metadata": {},
   "outputs": [
    {
     "data": {
      "text/html": [
       "<div>\n",
       "<style scoped>\n",
       "    .dataframe tbody tr th:only-of-type {\n",
       "        vertical-align: middle;\n",
       "    }\n",
       "\n",
       "    .dataframe tbody tr th {\n",
       "        vertical-align: top;\n",
       "    }\n",
       "\n",
       "    .dataframe thead th {\n",
       "        text-align: right;\n",
       "    }\n",
       "</style>\n",
       "<table border=\"1\" class=\"dataframe\">\n",
       "  <thead>\n",
       "    <tr style=\"text-align: right;\">\n",
       "      <th></th>\n",
       "      <th>model_year</th>\n",
       "      <th>milage</th>\n",
       "      <th>price</th>\n",
       "      <th>hp</th>\n",
       "      <th>cyclinder</th>\n",
       "      <th>accident_none reported</th>\n",
       "      <th>ext_col_alfa white</th>\n",
       "      <th>ext_col_alpine white</th>\n",
       "      <th>ext_col_alta white</th>\n",
       "      <th>ext_col_ametrin metallic</th>\n",
       "      <th>...</th>\n",
       "      <th>transmission_cvt-f</th>\n",
       "      <th>transmission_f</th>\n",
       "      <th>transmission_m/t</th>\n",
       "      <th>transmission_manual</th>\n",
       "      <th>transmission_scheduled for or in production</th>\n",
       "      <th>transmission_single-speed fixed gear</th>\n",
       "      <th>transmission_transmission overdrive switch</th>\n",
       "      <th>transmission_transmission w/dual shift mode</th>\n",
       "      <th>transmission_variable</th>\n",
       "      <th>transmission_–</th>\n",
       "    </tr>\n",
       "  </thead>\n",
       "  <tbody>\n",
       "    <tr>\n",
       "      <th>0</th>\n",
       "      <td>2015</td>\n",
       "      <td>98000</td>\n",
       "      <td>-1</td>\n",
       "      <td>240.0</td>\n",
       "      <td>4.0</td>\n",
       "      <td>1</td>\n",
       "      <td>0</td>\n",
       "      <td>0</td>\n",
       "      <td>0</td>\n",
       "      <td>0</td>\n",
       "      <td>...</td>\n",
       "      <td>0</td>\n",
       "      <td>0</td>\n",
       "      <td>0</td>\n",
       "      <td>0</td>\n",
       "      <td>0</td>\n",
       "      <td>0</td>\n",
       "      <td>0</td>\n",
       "      <td>0</td>\n",
       "      <td>0</td>\n",
       "      <td>0</td>\n",
       "    </tr>\n",
       "    <tr>\n",
       "      <th>1</th>\n",
       "      <td>2020</td>\n",
       "      <td>9142</td>\n",
       "      <td>-1</td>\n",
       "      <td>395.0</td>\n",
       "      <td>6.0</td>\n",
       "      <td>1</td>\n",
       "      <td>0</td>\n",
       "      <td>0</td>\n",
       "      <td>0</td>\n",
       "      <td>0</td>\n",
       "      <td>...</td>\n",
       "      <td>0</td>\n",
       "      <td>0</td>\n",
       "      <td>0</td>\n",
       "      <td>0</td>\n",
       "      <td>0</td>\n",
       "      <td>0</td>\n",
       "      <td>0</td>\n",
       "      <td>0</td>\n",
       "      <td>0</td>\n",
       "      <td>0</td>\n",
       "    </tr>\n",
       "  </tbody>\n",
       "</table>\n",
       "<p>2 rows × 433 columns</p>\n",
       "</div>"
      ],
      "text/plain": [
       "   model_year  milage  price     hp  cyclinder  accident_none reported  \\\n",
       "0        2015   98000     -1  240.0        4.0                       1   \n",
       "1        2020    9142     -1  395.0        6.0                       1   \n",
       "\n",
       "   ext_col_alfa white  ext_col_alpine white  ext_col_alta white  \\\n",
       "0                   0                     0                   0   \n",
       "1                   0                     0                   0   \n",
       "\n",
       "   ext_col_ametrin metallic  ...  transmission_cvt-f  transmission_f  \\\n",
       "0                         0  ...                   0               0   \n",
       "1                         0  ...                   0               0   \n",
       "\n",
       "   transmission_m/t  transmission_manual  \\\n",
       "0                 0                    0   \n",
       "1                 0                    0   \n",
       "\n",
       "   transmission_scheduled for or in production  \\\n",
       "0                                            0   \n",
       "1                                            0   \n",
       "\n",
       "   transmission_single-speed fixed gear  \\\n",
       "0                                     0   \n",
       "1                                     0   \n",
       "\n",
       "   transmission_transmission overdrive switch  \\\n",
       "0                                           0   \n",
       "1                                           0   \n",
       "\n",
       "   transmission_transmission w/dual shift mode  transmission_variable  \\\n",
       "0                                            0                      0   \n",
       "1                                            0                      0   \n",
       "\n",
       "   transmission_–  \n",
       "0               0  \n",
       "1               0  \n",
       "\n",
       "[2 rows x 433 columns]"
      ]
     },
     "execution_count": 109,
     "metadata": {},
     "output_type": "execute_result"
    }
   ],
   "source": [
    "df_test.head(2)"
   ]
  },
  {
   "cell_type": "code",
   "execution_count": null,
   "id": "d3c064c6",
   "metadata": {},
   "outputs": [],
   "source": []
  },
  {
   "cell_type": "markdown",
   "id": "1827e06d",
   "metadata": {},
   "source": [
    "# Independent and Depending Value"
   ]
  },
  {
   "cell_type": "code",
   "execution_count": null,
   "id": "2cc96d42",
   "metadata": {},
   "outputs": [],
   "source": []
  },
  {
   "cell_type": "code",
   "execution_count": 110,
   "id": "0cad5562",
   "metadata": {},
   "outputs": [],
   "source": [
    "y = df_train['price']\n",
    "x = df_train.drop(columns='price')"
   ]
  },
  {
   "cell_type": "code",
   "execution_count": null,
   "id": "6230fc24",
   "metadata": {},
   "outputs": [],
   "source": []
  },
  {
   "cell_type": "markdown",
   "id": "4d7034c6",
   "metadata": {},
   "source": [
    "# Train_test split"
   ]
  },
  {
   "cell_type": "code",
   "execution_count": 111,
   "id": "113e35b1",
   "metadata": {},
   "outputs": [],
   "source": [
    "from sklearn.model_selection import train_test_split"
   ]
  },
  {
   "cell_type": "code",
   "execution_count": 112,
   "id": "f5081563",
   "metadata": {},
   "outputs": [],
   "source": [
    "x_train,x_test,y_train,y_test = train_test_split(x,y,test_size=0.2,random_state=9,stratify=y)"
   ]
  },
  {
   "cell_type": "code",
   "execution_count": 113,
   "id": "4bd7ddab",
   "metadata": {},
   "outputs": [
    {
     "name": "stdout",
     "output_type": "stream",
     "text": [
      "(150826, 432)\n",
      "(37707, 432)\n",
      "(150826,)\n",
      "(37707,)\n"
     ]
    }
   ],
   "source": [
    "print(x_train.shape)\n",
    "print(x_test.shape)\n",
    "print(y_train.shape)\n",
    "print(y_test.shape)"
   ]
  },
  {
   "cell_type": "code",
   "execution_count": null,
   "id": "37c9a749",
   "metadata": {},
   "outputs": [],
   "source": []
  },
  {
   "cell_type": "markdown",
   "id": "20941ca6",
   "metadata": {},
   "source": [
    "# Feature Scaling"
   ]
  },
  {
   "cell_type": "code",
   "execution_count": null,
   "id": "61ccd081",
   "metadata": {},
   "outputs": [],
   "source": []
  },
  {
   "cell_type": "code",
   "execution_count": 114,
   "id": "5e7ff403",
   "metadata": {},
   "outputs": [],
   "source": [
    "from sklearn.preprocessing import StandardScaler"
   ]
  },
  {
   "cell_type": "code",
   "execution_count": 115,
   "id": "18f8e5df",
   "metadata": {},
   "outputs": [],
   "source": [
    "scaler = StandardScaler()"
   ]
  },
  {
   "cell_type": "code",
   "execution_count": 116,
   "id": "7ce23641",
   "metadata": {},
   "outputs": [
    {
     "data": {
      "text/html": [
       "<style>#sk-container-id-4 {color: black;}#sk-container-id-4 pre{padding: 0;}#sk-container-id-4 div.sk-toggleable {background-color: white;}#sk-container-id-4 label.sk-toggleable__label {cursor: pointer;display: block;width: 100%;margin-bottom: 0;padding: 0.3em;box-sizing: border-box;text-align: center;}#sk-container-id-4 label.sk-toggleable__label-arrow:before {content: \"▸\";float: left;margin-right: 0.25em;color: #696969;}#sk-container-id-4 label.sk-toggleable__label-arrow:hover:before {color: black;}#sk-container-id-4 div.sk-estimator:hover label.sk-toggleable__label-arrow:before {color: black;}#sk-container-id-4 div.sk-toggleable__content {max-height: 0;max-width: 0;overflow: hidden;text-align: left;background-color: #f0f8ff;}#sk-container-id-4 div.sk-toggleable__content pre {margin: 0.2em;color: black;border-radius: 0.25em;background-color: #f0f8ff;}#sk-container-id-4 input.sk-toggleable__control:checked~div.sk-toggleable__content {max-height: 200px;max-width: 100%;overflow: auto;}#sk-container-id-4 input.sk-toggleable__control:checked~label.sk-toggleable__label-arrow:before {content: \"▾\";}#sk-container-id-4 div.sk-estimator input.sk-toggleable__control:checked~label.sk-toggleable__label {background-color: #d4ebff;}#sk-container-id-4 div.sk-label input.sk-toggleable__control:checked~label.sk-toggleable__label {background-color: #d4ebff;}#sk-container-id-4 input.sk-hidden--visually {border: 0;clip: rect(1px 1px 1px 1px);clip: rect(1px, 1px, 1px, 1px);height: 1px;margin: -1px;overflow: hidden;padding: 0;position: absolute;width: 1px;}#sk-container-id-4 div.sk-estimator {font-family: monospace;background-color: #f0f8ff;border: 1px dotted black;border-radius: 0.25em;box-sizing: border-box;margin-bottom: 0.5em;}#sk-container-id-4 div.sk-estimator:hover {background-color: #d4ebff;}#sk-container-id-4 div.sk-parallel-item::after {content: \"\";width: 100%;border-bottom: 1px solid gray;flex-grow: 1;}#sk-container-id-4 div.sk-label:hover label.sk-toggleable__label {background-color: #d4ebff;}#sk-container-id-4 div.sk-serial::before {content: \"\";position: absolute;border-left: 1px solid gray;box-sizing: border-box;top: 0;bottom: 0;left: 50%;z-index: 0;}#sk-container-id-4 div.sk-serial {display: flex;flex-direction: column;align-items: center;background-color: white;padding-right: 0.2em;padding-left: 0.2em;position: relative;}#sk-container-id-4 div.sk-item {position: relative;z-index: 1;}#sk-container-id-4 div.sk-parallel {display: flex;align-items: stretch;justify-content: center;background-color: white;position: relative;}#sk-container-id-4 div.sk-item::before, #sk-container-id-4 div.sk-parallel-item::before {content: \"\";position: absolute;border-left: 1px solid gray;box-sizing: border-box;top: 0;bottom: 0;left: 50%;z-index: -1;}#sk-container-id-4 div.sk-parallel-item {display: flex;flex-direction: column;z-index: 1;position: relative;background-color: white;}#sk-container-id-4 div.sk-parallel-item:first-child::after {align-self: flex-end;width: 50%;}#sk-container-id-4 div.sk-parallel-item:last-child::after {align-self: flex-start;width: 50%;}#sk-container-id-4 div.sk-parallel-item:only-child::after {width: 0;}#sk-container-id-4 div.sk-dashed-wrapped {border: 1px dashed gray;margin: 0 0.4em 0.5em 0.4em;box-sizing: border-box;padding-bottom: 0.4em;background-color: white;}#sk-container-id-4 div.sk-label label {font-family: monospace;font-weight: bold;display: inline-block;line-height: 1.2em;}#sk-container-id-4 div.sk-label-container {text-align: center;}#sk-container-id-4 div.sk-container {/* jupyter's `normalize.less` sets `[hidden] { display: none; }` but bootstrap.min.css set `[hidden] { display: none !important; }` so we also need the `!important` here to be able to override the default hidden behavior on the sphinx rendered scikit-learn.org. See: https://github.com/scikit-learn/scikit-learn/issues/21755 */display: inline-block !important;position: relative;}#sk-container-id-4 div.sk-text-repr-fallback {display: none;}</style><div id=\"sk-container-id-4\" class=\"sk-top-container\"><div class=\"sk-text-repr-fallback\"><pre>StandardScaler()</pre><b>In a Jupyter environment, please rerun this cell to show the HTML representation or trust the notebook. <br />On GitHub, the HTML representation is unable to render, please try loading this page with nbviewer.org.</b></div><div class=\"sk-container\" hidden><div class=\"sk-item\"><div class=\"sk-estimator sk-toggleable\"><input class=\"sk-toggleable__control sk-hidden--visually\" id=\"sk-estimator-id-4\" type=\"checkbox\" checked><label for=\"sk-estimator-id-4\" class=\"sk-toggleable__label sk-toggleable__label-arrow\">StandardScaler</label><div class=\"sk-toggleable__content\"><pre>StandardScaler()</pre></div></div></div></div></div>"
      ],
      "text/plain": [
       "StandardScaler()"
      ]
     },
     "execution_count": 116,
     "metadata": {},
     "output_type": "execute_result"
    }
   ],
   "source": [
    "scaler.fit(x_train)"
   ]
  },
  {
   "cell_type": "code",
   "execution_count": 117,
   "id": "f1ac43c5",
   "metadata": {},
   "outputs": [],
   "source": [
    "x_train_scaled = scaler.transform(x_train)\n",
    "x_test_scaled = scaler.transform(x_test)"
   ]
  },
  {
   "cell_type": "code",
   "execution_count": 118,
   "id": "93c7b528",
   "metadata": {},
   "outputs": [],
   "source": [
    "x_train_scaled = pd.DataFrame(x_train_scaled, columns = x_train.columns)\n",
    "x_test_scaled = pd.DataFrame(x_test_scaled, columns = x_test.columns)"
   ]
  },
  {
   "cell_type": "code",
   "execution_count": 119,
   "id": "2f6dac3e",
   "metadata": {},
   "outputs": [
    {
     "data": {
      "text/html": [
       "<div>\n",
       "<style scoped>\n",
       "    .dataframe tbody tr th:only-of-type {\n",
       "        vertical-align: middle;\n",
       "    }\n",
       "\n",
       "    .dataframe tbody tr th {\n",
       "        vertical-align: top;\n",
       "    }\n",
       "\n",
       "    .dataframe thead th {\n",
       "        text-align: right;\n",
       "    }\n",
       "</style>\n",
       "<table border=\"1\" class=\"dataframe\">\n",
       "  <thead>\n",
       "    <tr style=\"text-align: right;\">\n",
       "      <th></th>\n",
       "      <th>model_year</th>\n",
       "      <th>milage</th>\n",
       "      <th>hp</th>\n",
       "      <th>cyclinder</th>\n",
       "      <th>accident_none reported</th>\n",
       "      <th>ext_col_alfa white</th>\n",
       "      <th>ext_col_alpine white</th>\n",
       "      <th>ext_col_alta white</th>\n",
       "      <th>ext_col_ametrin metallic</th>\n",
       "      <th>ext_col_anodized blue metallic</th>\n",
       "      <th>...</th>\n",
       "      <th>transmission_cvt-f</th>\n",
       "      <th>transmission_f</th>\n",
       "      <th>transmission_m/t</th>\n",
       "      <th>transmission_manual</th>\n",
       "      <th>transmission_scheduled for or in production</th>\n",
       "      <th>transmission_single-speed fixed gear</th>\n",
       "      <th>transmission_transmission overdrive switch</th>\n",
       "      <th>transmission_transmission w/dual shift mode</th>\n",
       "      <th>transmission_variable</th>\n",
       "      <th>transmission_–</th>\n",
       "    </tr>\n",
       "  </thead>\n",
       "  <tbody>\n",
       "    <tr>\n",
       "      <th>0</th>\n",
       "      <td>0.382702</td>\n",
       "      <td>-0.517211</td>\n",
       "      <td>-0.437247</td>\n",
       "      <td>-0.268792</td>\n",
       "      <td>0.532462</td>\n",
       "      <td>-0.022005</td>\n",
       "      <td>-0.03908</td>\n",
       "      <td>-0.014105</td>\n",
       "      <td>-0.006307</td>\n",
       "      <td>-0.00854</td>\n",
       "      <td>...</td>\n",
       "      <td>-0.008143</td>\n",
       "      <td>-0.01669</td>\n",
       "      <td>-0.078895</td>\n",
       "      <td>-0.012078</td>\n",
       "      <td>-0.006307</td>\n",
       "      <td>-0.00892</td>\n",
       "      <td>-0.02903</td>\n",
       "      <td>-0.336668</td>\n",
       "      <td>-0.018571</td>\n",
       "      <td>-0.021394</td>\n",
       "    </tr>\n",
       "    <tr>\n",
       "      <th>1</th>\n",
       "      <td>0.912187</td>\n",
       "      <td>-0.981133</td>\n",
       "      <td>0.407586</td>\n",
       "      <td>1.171791</td>\n",
       "      <td>0.532462</td>\n",
       "      <td>-0.022005</td>\n",
       "      <td>-0.03908</td>\n",
       "      <td>-0.014105</td>\n",
       "      <td>-0.006307</td>\n",
       "      <td>-0.00854</td>\n",
       "      <td>...</td>\n",
       "      <td>-0.008143</td>\n",
       "      <td>-0.01669</td>\n",
       "      <td>-0.078895</td>\n",
       "      <td>-0.012078</td>\n",
       "      <td>-0.006307</td>\n",
       "      <td>-0.00892</td>\n",
       "      <td>-0.02903</td>\n",
       "      <td>-0.336668</td>\n",
       "      <td>-0.018571</td>\n",
       "      <td>-0.021394</td>\n",
       "    </tr>\n",
       "  </tbody>\n",
       "</table>\n",
       "<p>2 rows × 432 columns</p>\n",
       "</div>"
      ],
      "text/plain": [
       "   model_year    milage        hp  cyclinder  accident_none reported  \\\n",
       "0    0.382702 -0.517211 -0.437247  -0.268792                0.532462   \n",
       "1    0.912187 -0.981133  0.407586   1.171791                0.532462   \n",
       "\n",
       "   ext_col_alfa white  ext_col_alpine white  ext_col_alta white  \\\n",
       "0           -0.022005              -0.03908           -0.014105   \n",
       "1           -0.022005              -0.03908           -0.014105   \n",
       "\n",
       "   ext_col_ametrin metallic  ext_col_anodized blue metallic  ...  \\\n",
       "0                 -0.006307                        -0.00854  ...   \n",
       "1                 -0.006307                        -0.00854  ...   \n",
       "\n",
       "   transmission_cvt-f  transmission_f  transmission_m/t  transmission_manual  \\\n",
       "0           -0.008143        -0.01669         -0.078895            -0.012078   \n",
       "1           -0.008143        -0.01669         -0.078895            -0.012078   \n",
       "\n",
       "   transmission_scheduled for or in production  \\\n",
       "0                                    -0.006307   \n",
       "1                                    -0.006307   \n",
       "\n",
       "   transmission_single-speed fixed gear  \\\n",
       "0                              -0.00892   \n",
       "1                              -0.00892   \n",
       "\n",
       "   transmission_transmission overdrive switch  \\\n",
       "0                                    -0.02903   \n",
       "1                                    -0.02903   \n",
       "\n",
       "   transmission_transmission w/dual shift mode  transmission_variable  \\\n",
       "0                                    -0.336668              -0.018571   \n",
       "1                                    -0.336668              -0.018571   \n",
       "\n",
       "   transmission_–  \n",
       "0       -0.021394  \n",
       "1       -0.021394  \n",
       "\n",
       "[2 rows x 432 columns]"
      ]
     },
     "execution_count": 119,
     "metadata": {},
     "output_type": "execute_result"
    }
   ],
   "source": [
    "x_train_scaled.head(2)"
   ]
  },
  {
   "cell_type": "code",
   "execution_count": null,
   "id": "2c9f7e3a",
   "metadata": {},
   "outputs": [],
   "source": []
  },
  {
   "cell_type": "code",
   "execution_count": 120,
   "id": "471f8b86",
   "metadata": {},
   "outputs": [
    {
     "data": {
      "text/html": [
       "<div>\n",
       "<style scoped>\n",
       "    .dataframe tbody tr th:only-of-type {\n",
       "        vertical-align: middle;\n",
       "    }\n",
       "\n",
       "    .dataframe tbody tr th {\n",
       "        vertical-align: top;\n",
       "    }\n",
       "\n",
       "    .dataframe thead th {\n",
       "        text-align: right;\n",
       "    }\n",
       "</style>\n",
       "<table border=\"1\" class=\"dataframe\">\n",
       "  <thead>\n",
       "    <tr style=\"text-align: right;\">\n",
       "      <th></th>\n",
       "      <th>model_year</th>\n",
       "      <th>milage</th>\n",
       "      <th>price</th>\n",
       "      <th>hp</th>\n",
       "      <th>cyclinder</th>\n",
       "      <th>accident_none reported</th>\n",
       "      <th>ext_col_alfa white</th>\n",
       "      <th>ext_col_alpine white</th>\n",
       "      <th>ext_col_alta white</th>\n",
       "      <th>ext_col_ametrin metallic</th>\n",
       "      <th>...</th>\n",
       "      <th>transmission_cvt-f</th>\n",
       "      <th>transmission_f</th>\n",
       "      <th>transmission_m/t</th>\n",
       "      <th>transmission_manual</th>\n",
       "      <th>transmission_scheduled for or in production</th>\n",
       "      <th>transmission_single-speed fixed gear</th>\n",
       "      <th>transmission_transmission overdrive switch</th>\n",
       "      <th>transmission_transmission w/dual shift mode</th>\n",
       "      <th>transmission_variable</th>\n",
       "      <th>transmission_–</th>\n",
       "    </tr>\n",
       "  </thead>\n",
       "  <tbody>\n",
       "    <tr>\n",
       "      <th>0</th>\n",
       "      <td>2015</td>\n",
       "      <td>98000</td>\n",
       "      <td>-1</td>\n",
       "      <td>240.0</td>\n",
       "      <td>4.000000</td>\n",
       "      <td>1</td>\n",
       "      <td>0</td>\n",
       "      <td>0</td>\n",
       "      <td>0</td>\n",
       "      <td>0</td>\n",
       "      <td>...</td>\n",
       "      <td>0</td>\n",
       "      <td>0</td>\n",
       "      <td>0</td>\n",
       "      <td>0</td>\n",
       "      <td>0</td>\n",
       "      <td>0</td>\n",
       "      <td>0</td>\n",
       "      <td>0</td>\n",
       "      <td>0</td>\n",
       "      <td>0</td>\n",
       "    </tr>\n",
       "    <tr>\n",
       "      <th>1</th>\n",
       "      <td>2020</td>\n",
       "      <td>9142</td>\n",
       "      <td>-1</td>\n",
       "      <td>395.0</td>\n",
       "      <td>6.000000</td>\n",
       "      <td>1</td>\n",
       "      <td>0</td>\n",
       "      <td>0</td>\n",
       "      <td>0</td>\n",
       "      <td>0</td>\n",
       "      <td>...</td>\n",
       "      <td>0</td>\n",
       "      <td>0</td>\n",
       "      <td>0</td>\n",
       "      <td>0</td>\n",
       "      <td>0</td>\n",
       "      <td>0</td>\n",
       "      <td>0</td>\n",
       "      <td>0</td>\n",
       "      <td>0</td>\n",
       "      <td>0</td>\n",
       "    </tr>\n",
       "    <tr>\n",
       "      <th>2</th>\n",
       "      <td>2022</td>\n",
       "      <td>28121</td>\n",
       "      <td>-1</td>\n",
       "      <td>328.0</td>\n",
       "      <td>6.373552</td>\n",
       "      <td>1</td>\n",
       "      <td>0</td>\n",
       "      <td>0</td>\n",
       "      <td>0</td>\n",
       "      <td>0</td>\n",
       "      <td>...</td>\n",
       "      <td>0</td>\n",
       "      <td>0</td>\n",
       "      <td>0</td>\n",
       "      <td>0</td>\n",
       "      <td>0</td>\n",
       "      <td>0</td>\n",
       "      <td>0</td>\n",
       "      <td>0</td>\n",
       "      <td>0</td>\n",
       "      <td>0</td>\n",
       "    </tr>\n",
       "    <tr>\n",
       "      <th>3</th>\n",
       "      <td>2016</td>\n",
       "      <td>61258</td>\n",
       "      <td>-1</td>\n",
       "      <td>328.0</td>\n",
       "      <td>6.373552</td>\n",
       "      <td>1</td>\n",
       "      <td>0</td>\n",
       "      <td>0</td>\n",
       "      <td>0</td>\n",
       "      <td>0</td>\n",
       "      <td>...</td>\n",
       "      <td>0</td>\n",
       "      <td>0</td>\n",
       "      <td>0</td>\n",
       "      <td>0</td>\n",
       "      <td>0</td>\n",
       "      <td>0</td>\n",
       "      <td>0</td>\n",
       "      <td>0</td>\n",
       "      <td>0</td>\n",
       "      <td>0</td>\n",
       "    </tr>\n",
       "    <tr>\n",
       "      <th>4</th>\n",
       "      <td>2018</td>\n",
       "      <td>59000</td>\n",
       "      <td>-1</td>\n",
       "      <td>252.0</td>\n",
       "      <td>4.000000</td>\n",
       "      <td>1</td>\n",
       "      <td>0</td>\n",
       "      <td>0</td>\n",
       "      <td>0</td>\n",
       "      <td>0</td>\n",
       "      <td>...</td>\n",
       "      <td>0</td>\n",
       "      <td>0</td>\n",
       "      <td>0</td>\n",
       "      <td>0</td>\n",
       "      <td>0</td>\n",
       "      <td>0</td>\n",
       "      <td>0</td>\n",
       "      <td>0</td>\n",
       "      <td>0</td>\n",
       "      <td>0</td>\n",
       "    </tr>\n",
       "  </tbody>\n",
       "</table>\n",
       "<p>5 rows × 433 columns</p>\n",
       "</div>"
      ],
      "text/plain": [
       "   model_year  milage  price     hp  cyclinder  accident_none reported  \\\n",
       "0        2015   98000     -1  240.0   4.000000                       1   \n",
       "1        2020    9142     -1  395.0   6.000000                       1   \n",
       "2        2022   28121     -1  328.0   6.373552                       1   \n",
       "3        2016   61258     -1  328.0   6.373552                       1   \n",
       "4        2018   59000     -1  252.0   4.000000                       1   \n",
       "\n",
       "   ext_col_alfa white  ext_col_alpine white  ext_col_alta white  \\\n",
       "0                   0                     0                   0   \n",
       "1                   0                     0                   0   \n",
       "2                   0                     0                   0   \n",
       "3                   0                     0                   0   \n",
       "4                   0                     0                   0   \n",
       "\n",
       "   ext_col_ametrin metallic  ...  transmission_cvt-f  transmission_f  \\\n",
       "0                         0  ...                   0               0   \n",
       "1                         0  ...                   0               0   \n",
       "2                         0  ...                   0               0   \n",
       "3                         0  ...                   0               0   \n",
       "4                         0  ...                   0               0   \n",
       "\n",
       "   transmission_m/t  transmission_manual  \\\n",
       "0                 0                    0   \n",
       "1                 0                    0   \n",
       "2                 0                    0   \n",
       "3                 0                    0   \n",
       "4                 0                    0   \n",
       "\n",
       "   transmission_scheduled for or in production  \\\n",
       "0                                            0   \n",
       "1                                            0   \n",
       "2                                            0   \n",
       "3                                            0   \n",
       "4                                            0   \n",
       "\n",
       "   transmission_single-speed fixed gear  \\\n",
       "0                                     0   \n",
       "1                                     0   \n",
       "2                                     0   \n",
       "3                                     0   \n",
       "4                                     0   \n",
       "\n",
       "   transmission_transmission overdrive switch  \\\n",
       "0                                           0   \n",
       "1                                           0   \n",
       "2                                           0   \n",
       "3                                           0   \n",
       "4                                           0   \n",
       "\n",
       "   transmission_transmission w/dual shift mode  transmission_variable  \\\n",
       "0                                            0                      0   \n",
       "1                                            0                      0   \n",
       "2                                            0                      0   \n",
       "3                                            0                      0   \n",
       "4                                            0                      0   \n",
       "\n",
       "   transmission_–  \n",
       "0               0  \n",
       "1               0  \n",
       "2               0  \n",
       "3               0  \n",
       "4               0  \n",
       "\n",
       "[5 rows x 433 columns]"
      ]
     },
     "execution_count": 120,
     "metadata": {},
     "output_type": "execute_result"
    }
   ],
   "source": [
    "df_test.head()"
   ]
  },
  {
   "cell_type": "code",
   "execution_count": 121,
   "id": "df0e1dc7",
   "metadata": {},
   "outputs": [
    {
     "name": "stderr",
     "output_type": "stream",
     "text": [
      "C:\\Users\\JoyBoy\\AppData\\Local\\Temp\\ipykernel_10460\\3564148871.py:1: SettingWithCopyWarning: \n",
      "A value is trying to be set on a copy of a slice from a DataFrame\n",
      "\n",
      "See the caveats in the documentation: https://pandas.pydata.org/pandas-docs/stable/user_guide/indexing.html#returning-a-view-versus-a-copy\n",
      "  df_test.drop(columns=['price'],inplace=True)\n"
     ]
    }
   ],
   "source": [
    "df_test.drop(columns=['price'],inplace=True)"
   ]
  },
  {
   "cell_type": "code",
   "execution_count": 122,
   "id": "88c5ec30",
   "metadata": {},
   "outputs": [
    {
     "data": {
      "text/html": [
       "<div>\n",
       "<style scoped>\n",
       "    .dataframe tbody tr th:only-of-type {\n",
       "        vertical-align: middle;\n",
       "    }\n",
       "\n",
       "    .dataframe tbody tr th {\n",
       "        vertical-align: top;\n",
       "    }\n",
       "\n",
       "    .dataframe thead th {\n",
       "        text-align: right;\n",
       "    }\n",
       "</style>\n",
       "<table border=\"1\" class=\"dataframe\">\n",
       "  <thead>\n",
       "    <tr style=\"text-align: right;\">\n",
       "      <th></th>\n",
       "      <th>model_year</th>\n",
       "      <th>milage</th>\n",
       "      <th>hp</th>\n",
       "      <th>cyclinder</th>\n",
       "      <th>accident_none reported</th>\n",
       "      <th>ext_col_alfa white</th>\n",
       "      <th>ext_col_alpine white</th>\n",
       "      <th>ext_col_alta white</th>\n",
       "      <th>ext_col_ametrin metallic</th>\n",
       "      <th>ext_col_anodized blue metallic</th>\n",
       "      <th>...</th>\n",
       "      <th>transmission_cvt-f</th>\n",
       "      <th>transmission_f</th>\n",
       "      <th>transmission_m/t</th>\n",
       "      <th>transmission_manual</th>\n",
       "      <th>transmission_scheduled for or in production</th>\n",
       "      <th>transmission_single-speed fixed gear</th>\n",
       "      <th>transmission_transmission overdrive switch</th>\n",
       "      <th>transmission_transmission w/dual shift mode</th>\n",
       "      <th>transmission_variable</th>\n",
       "      <th>transmission_–</th>\n",
       "    </tr>\n",
       "  </thead>\n",
       "  <tbody>\n",
       "    <tr>\n",
       "      <th>0</th>\n",
       "      <td>2015</td>\n",
       "      <td>98000</td>\n",
       "      <td>240.0</td>\n",
       "      <td>4.000000</td>\n",
       "      <td>1</td>\n",
       "      <td>0</td>\n",
       "      <td>0</td>\n",
       "      <td>0</td>\n",
       "      <td>0</td>\n",
       "      <td>0</td>\n",
       "      <td>...</td>\n",
       "      <td>0</td>\n",
       "      <td>0</td>\n",
       "      <td>0</td>\n",
       "      <td>0</td>\n",
       "      <td>0</td>\n",
       "      <td>0</td>\n",
       "      <td>0</td>\n",
       "      <td>0</td>\n",
       "      <td>0</td>\n",
       "      <td>0</td>\n",
       "    </tr>\n",
       "    <tr>\n",
       "      <th>1</th>\n",
       "      <td>2020</td>\n",
       "      <td>9142</td>\n",
       "      <td>395.0</td>\n",
       "      <td>6.000000</td>\n",
       "      <td>1</td>\n",
       "      <td>0</td>\n",
       "      <td>0</td>\n",
       "      <td>0</td>\n",
       "      <td>0</td>\n",
       "      <td>0</td>\n",
       "      <td>...</td>\n",
       "      <td>0</td>\n",
       "      <td>0</td>\n",
       "      <td>0</td>\n",
       "      <td>0</td>\n",
       "      <td>0</td>\n",
       "      <td>0</td>\n",
       "      <td>0</td>\n",
       "      <td>0</td>\n",
       "      <td>0</td>\n",
       "      <td>0</td>\n",
       "    </tr>\n",
       "    <tr>\n",
       "      <th>2</th>\n",
       "      <td>2022</td>\n",
       "      <td>28121</td>\n",
       "      <td>328.0</td>\n",
       "      <td>6.373552</td>\n",
       "      <td>1</td>\n",
       "      <td>0</td>\n",
       "      <td>0</td>\n",
       "      <td>0</td>\n",
       "      <td>0</td>\n",
       "      <td>0</td>\n",
       "      <td>...</td>\n",
       "      <td>0</td>\n",
       "      <td>0</td>\n",
       "      <td>0</td>\n",
       "      <td>0</td>\n",
       "      <td>0</td>\n",
       "      <td>0</td>\n",
       "      <td>0</td>\n",
       "      <td>0</td>\n",
       "      <td>0</td>\n",
       "      <td>0</td>\n",
       "    </tr>\n",
       "    <tr>\n",
       "      <th>3</th>\n",
       "      <td>2016</td>\n",
       "      <td>61258</td>\n",
       "      <td>328.0</td>\n",
       "      <td>6.373552</td>\n",
       "      <td>1</td>\n",
       "      <td>0</td>\n",
       "      <td>0</td>\n",
       "      <td>0</td>\n",
       "      <td>0</td>\n",
       "      <td>0</td>\n",
       "      <td>...</td>\n",
       "      <td>0</td>\n",
       "      <td>0</td>\n",
       "      <td>0</td>\n",
       "      <td>0</td>\n",
       "      <td>0</td>\n",
       "      <td>0</td>\n",
       "      <td>0</td>\n",
       "      <td>0</td>\n",
       "      <td>0</td>\n",
       "      <td>0</td>\n",
       "    </tr>\n",
       "    <tr>\n",
       "      <th>4</th>\n",
       "      <td>2018</td>\n",
       "      <td>59000</td>\n",
       "      <td>252.0</td>\n",
       "      <td>4.000000</td>\n",
       "      <td>1</td>\n",
       "      <td>0</td>\n",
       "      <td>0</td>\n",
       "      <td>0</td>\n",
       "      <td>0</td>\n",
       "      <td>0</td>\n",
       "      <td>...</td>\n",
       "      <td>0</td>\n",
       "      <td>0</td>\n",
       "      <td>0</td>\n",
       "      <td>0</td>\n",
       "      <td>0</td>\n",
       "      <td>0</td>\n",
       "      <td>0</td>\n",
       "      <td>0</td>\n",
       "      <td>0</td>\n",
       "      <td>0</td>\n",
       "    </tr>\n",
       "  </tbody>\n",
       "</table>\n",
       "<p>5 rows × 432 columns</p>\n",
       "</div>"
      ],
      "text/plain": [
       "   model_year  milage     hp  cyclinder  accident_none reported  \\\n",
       "0        2015   98000  240.0   4.000000                       1   \n",
       "1        2020    9142  395.0   6.000000                       1   \n",
       "2        2022   28121  328.0   6.373552                       1   \n",
       "3        2016   61258  328.0   6.373552                       1   \n",
       "4        2018   59000  252.0   4.000000                       1   \n",
       "\n",
       "   ext_col_alfa white  ext_col_alpine white  ext_col_alta white  \\\n",
       "0                   0                     0                   0   \n",
       "1                   0                     0                   0   \n",
       "2                   0                     0                   0   \n",
       "3                   0                     0                   0   \n",
       "4                   0                     0                   0   \n",
       "\n",
       "   ext_col_ametrin metallic  ext_col_anodized blue metallic  ...  \\\n",
       "0                         0                               0  ...   \n",
       "1                         0                               0  ...   \n",
       "2                         0                               0  ...   \n",
       "3                         0                               0  ...   \n",
       "4                         0                               0  ...   \n",
       "\n",
       "   transmission_cvt-f  transmission_f  transmission_m/t  transmission_manual  \\\n",
       "0                   0               0                 0                    0   \n",
       "1                   0               0                 0                    0   \n",
       "2                   0               0                 0                    0   \n",
       "3                   0               0                 0                    0   \n",
       "4                   0               0                 0                    0   \n",
       "\n",
       "   transmission_scheduled for or in production  \\\n",
       "0                                            0   \n",
       "1                                            0   \n",
       "2                                            0   \n",
       "3                                            0   \n",
       "4                                            0   \n",
       "\n",
       "   transmission_single-speed fixed gear  \\\n",
       "0                                     0   \n",
       "1                                     0   \n",
       "2                                     0   \n",
       "3                                     0   \n",
       "4                                     0   \n",
       "\n",
       "   transmission_transmission overdrive switch  \\\n",
       "0                                           0   \n",
       "1                                           0   \n",
       "2                                           0   \n",
       "3                                           0   \n",
       "4                                           0   \n",
       "\n",
       "   transmission_transmission w/dual shift mode  transmission_variable  \\\n",
       "0                                            0                      0   \n",
       "1                                            0                      0   \n",
       "2                                            0                      0   \n",
       "3                                            0                      0   \n",
       "4                                            0                      0   \n",
       "\n",
       "   transmission_–  \n",
       "0               0  \n",
       "1               0  \n",
       "2               0  \n",
       "3               0  \n",
       "4               0  \n",
       "\n",
       "[5 rows x 432 columns]"
      ]
     },
     "execution_count": 122,
     "metadata": {},
     "output_type": "execute_result"
    }
   ],
   "source": [
    "df_test.head()"
   ]
  },
  {
   "cell_type": "code",
   "execution_count": 123,
   "id": "3cec5726",
   "metadata": {},
   "outputs": [],
   "source": [
    "df_test_scaled = scaler.transform(df_test)"
   ]
  },
  {
   "cell_type": "code",
   "execution_count": 125,
   "id": "9bc7c3b4",
   "metadata": {},
   "outputs": [
    {
     "data": {
      "text/html": [
       "<div>\n",
       "<style scoped>\n",
       "    .dataframe tbody tr th:only-of-type {\n",
       "        vertical-align: middle;\n",
       "    }\n",
       "\n",
       "    .dataframe tbody tr th {\n",
       "        vertical-align: top;\n",
       "    }\n",
       "\n",
       "    .dataframe thead th {\n",
       "        text-align: right;\n",
       "    }\n",
       "</style>\n",
       "<table border=\"1\" class=\"dataframe\">\n",
       "  <thead>\n",
       "    <tr style=\"text-align: right;\">\n",
       "      <th></th>\n",
       "      <th>0</th>\n",
       "      <th>1</th>\n",
       "      <th>2</th>\n",
       "      <th>3</th>\n",
       "      <th>4</th>\n",
       "      <th>5</th>\n",
       "      <th>6</th>\n",
       "      <th>7</th>\n",
       "      <th>8</th>\n",
       "      <th>9</th>\n",
       "      <th>...</th>\n",
       "      <th>422</th>\n",
       "      <th>423</th>\n",
       "      <th>424</th>\n",
       "      <th>425</th>\n",
       "      <th>426</th>\n",
       "      <th>427</th>\n",
       "      <th>428</th>\n",
       "      <th>429</th>\n",
       "      <th>430</th>\n",
       "      <th>431</th>\n",
       "    </tr>\n",
       "  </thead>\n",
       "  <tbody>\n",
       "    <tr>\n",
       "      <th>0</th>\n",
       "      <td>-0.146783</td>\n",
       "      <td>0.647614</td>\n",
       "      <td>-0.965267</td>\n",
       "      <td>-1.709375</td>\n",
       "      <td>0.532462</td>\n",
       "      <td>-0.022005</td>\n",
       "      <td>-0.03908</td>\n",
       "      <td>-0.014105</td>\n",
       "      <td>-0.006307</td>\n",
       "      <td>-0.00854</td>\n",
       "      <td>...</td>\n",
       "      <td>-0.008143</td>\n",
       "      <td>-0.01669</td>\n",
       "      <td>-0.078895</td>\n",
       "      <td>-0.012078</td>\n",
       "      <td>-0.006307</td>\n",
       "      <td>-0.00892</td>\n",
       "      <td>-0.02903</td>\n",
       "      <td>-0.336668</td>\n",
       "      <td>-0.018571</td>\n",
       "      <td>-0.021394</td>\n",
       "    </tr>\n",
       "    <tr>\n",
       "      <th>1</th>\n",
       "      <td>0.735692</td>\n",
       "      <td>-1.136939</td>\n",
       "      <td>0.522790</td>\n",
       "      <td>-0.268792</td>\n",
       "      <td>0.532462</td>\n",
       "      <td>-0.022005</td>\n",
       "      <td>-0.03908</td>\n",
       "      <td>-0.014105</td>\n",
       "      <td>-0.006307</td>\n",
       "      <td>-0.00854</td>\n",
       "      <td>...</td>\n",
       "      <td>-0.008143</td>\n",
       "      <td>-0.01669</td>\n",
       "      <td>-0.078895</td>\n",
       "      <td>-0.012078</td>\n",
       "      <td>-0.006307</td>\n",
       "      <td>-0.00892</td>\n",
       "      <td>-0.02903</td>\n",
       "      <td>-0.336668</td>\n",
       "      <td>-0.018571</td>\n",
       "      <td>-0.021394</td>\n",
       "    </tr>\n",
       "    <tr>\n",
       "      <th>2</th>\n",
       "      <td>1.088683</td>\n",
       "      <td>-0.755780</td>\n",
       "      <td>-0.120434</td>\n",
       "      <td>0.000274</td>\n",
       "      <td>0.532462</td>\n",
       "      <td>-0.022005</td>\n",
       "      <td>-0.03908</td>\n",
       "      <td>-0.014105</td>\n",
       "      <td>-0.006307</td>\n",
       "      <td>-0.00854</td>\n",
       "      <td>...</td>\n",
       "      <td>-0.008143</td>\n",
       "      <td>-0.01669</td>\n",
       "      <td>-0.078895</td>\n",
       "      <td>-0.012078</td>\n",
       "      <td>-0.006307</td>\n",
       "      <td>-0.00892</td>\n",
       "      <td>-0.02903</td>\n",
       "      <td>-0.336668</td>\n",
       "      <td>-0.018571</td>\n",
       "      <td>-0.021394</td>\n",
       "    </tr>\n",
       "    <tr>\n",
       "      <th>3</th>\n",
       "      <td>0.029712</td>\n",
       "      <td>-0.090283</td>\n",
       "      <td>-0.120434</td>\n",
       "      <td>0.000274</td>\n",
       "      <td>0.532462</td>\n",
       "      <td>-0.022005</td>\n",
       "      <td>-0.03908</td>\n",
       "      <td>-0.014105</td>\n",
       "      <td>-0.006307</td>\n",
       "      <td>-0.00854</td>\n",
       "      <td>...</td>\n",
       "      <td>-0.008143</td>\n",
       "      <td>-0.01669</td>\n",
       "      <td>-0.078895</td>\n",
       "      <td>-0.012078</td>\n",
       "      <td>-0.006307</td>\n",
       "      <td>-0.00892</td>\n",
       "      <td>-0.02903</td>\n",
       "      <td>-0.336668</td>\n",
       "      <td>-0.018571</td>\n",
       "      <td>-0.021394</td>\n",
       "    </tr>\n",
       "    <tr>\n",
       "      <th>4</th>\n",
       "      <td>0.382702</td>\n",
       "      <td>-0.135631</td>\n",
       "      <td>-0.850062</td>\n",
       "      <td>-1.709375</td>\n",
       "      <td>0.532462</td>\n",
       "      <td>-0.022005</td>\n",
       "      <td>-0.03908</td>\n",
       "      <td>-0.014105</td>\n",
       "      <td>-0.006307</td>\n",
       "      <td>-0.00854</td>\n",
       "      <td>...</td>\n",
       "      <td>-0.008143</td>\n",
       "      <td>-0.01669</td>\n",
       "      <td>-0.078895</td>\n",
       "      <td>-0.012078</td>\n",
       "      <td>-0.006307</td>\n",
       "      <td>-0.00892</td>\n",
       "      <td>-0.02903</td>\n",
       "      <td>-0.336668</td>\n",
       "      <td>-0.018571</td>\n",
       "      <td>-0.021394</td>\n",
       "    </tr>\n",
       "    <tr>\n",
       "      <th>...</th>\n",
       "      <td>...</td>\n",
       "      <td>...</td>\n",
       "      <td>...</td>\n",
       "      <td>...</td>\n",
       "      <td>...</td>\n",
       "      <td>...</td>\n",
       "      <td>...</td>\n",
       "      <td>...</td>\n",
       "      <td>...</td>\n",
       "      <td>...</td>\n",
       "      <td>...</td>\n",
       "      <td>...</td>\n",
       "      <td>...</td>\n",
       "      <td>...</td>\n",
       "      <td>...</td>\n",
       "      <td>...</td>\n",
       "      <td>...</td>\n",
       "      <td>...</td>\n",
       "      <td>...</td>\n",
       "      <td>...</td>\n",
       "      <td>...</td>\n",
       "    </tr>\n",
       "    <tr>\n",
       "      <th>125685</th>\n",
       "      <td>-0.323278</td>\n",
       "      <td>0.352692</td>\n",
       "      <td>0.205978</td>\n",
       "      <td>-0.268792</td>\n",
       "      <td>0.532462</td>\n",
       "      <td>-0.022005</td>\n",
       "      <td>-0.03908</td>\n",
       "      <td>-0.014105</td>\n",
       "      <td>-0.006307</td>\n",
       "      <td>-0.00854</td>\n",
       "      <td>...</td>\n",
       "      <td>-0.008143</td>\n",
       "      <td>-0.01669</td>\n",
       "      <td>-0.078895</td>\n",
       "      <td>-0.012078</td>\n",
       "      <td>-0.006307</td>\n",
       "      <td>-0.00892</td>\n",
       "      <td>-0.02903</td>\n",
       "      <td>-0.336668</td>\n",
       "      <td>-0.018571</td>\n",
       "      <td>-0.021394</td>\n",
       "    </tr>\n",
       "    <tr>\n",
       "      <th>125686</th>\n",
       "      <td>0.559197</td>\n",
       "      <td>-0.731379</td>\n",
       "      <td>-0.120434</td>\n",
       "      <td>0.000274</td>\n",
       "      <td>0.532462</td>\n",
       "      <td>-0.022005</td>\n",
       "      <td>-0.03908</td>\n",
       "      <td>-0.014105</td>\n",
       "      <td>-0.006307</td>\n",
       "      <td>-0.00854</td>\n",
       "      <td>...</td>\n",
       "      <td>-0.008143</td>\n",
       "      <td>-0.01669</td>\n",
       "      <td>-0.078895</td>\n",
       "      <td>-0.012078</td>\n",
       "      <td>-0.006307</td>\n",
       "      <td>-0.00892</td>\n",
       "      <td>-0.02903</td>\n",
       "      <td>-0.336668</td>\n",
       "      <td>-0.018571</td>\n",
       "      <td>-0.021394</td>\n",
       "    </tr>\n",
       "    <tr>\n",
       "      <th>125687</th>\n",
       "      <td>-0.676268</td>\n",
       "      <td>0.238600</td>\n",
       "      <td>-0.072433</td>\n",
       "      <td>-0.268792</td>\n",
       "      <td>0.532462</td>\n",
       "      <td>-0.022005</td>\n",
       "      <td>-0.03908</td>\n",
       "      <td>-0.014105</td>\n",
       "      <td>-0.006307</td>\n",
       "      <td>-0.00854</td>\n",
       "      <td>...</td>\n",
       "      <td>-0.008143</td>\n",
       "      <td>-0.01669</td>\n",
       "      <td>-0.078895</td>\n",
       "      <td>-0.012078</td>\n",
       "      <td>-0.006307</td>\n",
       "      <td>-0.00892</td>\n",
       "      <td>-0.02903</td>\n",
       "      <td>-0.336668</td>\n",
       "      <td>-0.018571</td>\n",
       "      <td>-0.021394</td>\n",
       "    </tr>\n",
       "    <tr>\n",
       "      <th>125688</th>\n",
       "      <td>-0.676268</td>\n",
       "      <td>0.928779</td>\n",
       "      <td>-0.072433</td>\n",
       "      <td>-0.268792</td>\n",
       "      <td>0.532462</td>\n",
       "      <td>-0.022005</td>\n",
       "      <td>-0.03908</td>\n",
       "      <td>-0.014105</td>\n",
       "      <td>-0.006307</td>\n",
       "      <td>-0.00854</td>\n",
       "      <td>...</td>\n",
       "      <td>-0.008143</td>\n",
       "      <td>-0.01669</td>\n",
       "      <td>-0.078895</td>\n",
       "      <td>-0.012078</td>\n",
       "      <td>-0.006307</td>\n",
       "      <td>-0.00892</td>\n",
       "      <td>-0.02903</td>\n",
       "      <td>-0.336668</td>\n",
       "      <td>-0.018571</td>\n",
       "      <td>-0.021394</td>\n",
       "    </tr>\n",
       "    <tr>\n",
       "      <th>125689</th>\n",
       "      <td>0.382702</td>\n",
       "      <td>0.021822</td>\n",
       "      <td>0.138775</td>\n",
       "      <td>1.171791</td>\n",
       "      <td>0.532462</td>\n",
       "      <td>-0.022005</td>\n",
       "      <td>-0.03908</td>\n",
       "      <td>-0.014105</td>\n",
       "      <td>-0.006307</td>\n",
       "      <td>-0.00854</td>\n",
       "      <td>...</td>\n",
       "      <td>-0.008143</td>\n",
       "      <td>-0.01669</td>\n",
       "      <td>-0.078895</td>\n",
       "      <td>-0.012078</td>\n",
       "      <td>-0.006307</td>\n",
       "      <td>-0.00892</td>\n",
       "      <td>-0.02903</td>\n",
       "      <td>-0.336668</td>\n",
       "      <td>-0.018571</td>\n",
       "      <td>-0.021394</td>\n",
       "    </tr>\n",
       "  </tbody>\n",
       "</table>\n",
       "<p>125690 rows × 432 columns</p>\n",
       "</div>"
      ],
      "text/plain": [
       "             0         1         2         3         4         5        6    \\\n",
       "0      -0.146783  0.647614 -0.965267 -1.709375  0.532462 -0.022005 -0.03908   \n",
       "1       0.735692 -1.136939  0.522790 -0.268792  0.532462 -0.022005 -0.03908   \n",
       "2       1.088683 -0.755780 -0.120434  0.000274  0.532462 -0.022005 -0.03908   \n",
       "3       0.029712 -0.090283 -0.120434  0.000274  0.532462 -0.022005 -0.03908   \n",
       "4       0.382702 -0.135631 -0.850062 -1.709375  0.532462 -0.022005 -0.03908   \n",
       "...          ...       ...       ...       ...       ...       ...      ...   \n",
       "125685 -0.323278  0.352692  0.205978 -0.268792  0.532462 -0.022005 -0.03908   \n",
       "125686  0.559197 -0.731379 -0.120434  0.000274  0.532462 -0.022005 -0.03908   \n",
       "125687 -0.676268  0.238600 -0.072433 -0.268792  0.532462 -0.022005 -0.03908   \n",
       "125688 -0.676268  0.928779 -0.072433 -0.268792  0.532462 -0.022005 -0.03908   \n",
       "125689  0.382702  0.021822  0.138775  1.171791  0.532462 -0.022005 -0.03908   \n",
       "\n",
       "             7         8        9    ...       422      423       424  \\\n",
       "0      -0.014105 -0.006307 -0.00854  ... -0.008143 -0.01669 -0.078895   \n",
       "1      -0.014105 -0.006307 -0.00854  ... -0.008143 -0.01669 -0.078895   \n",
       "2      -0.014105 -0.006307 -0.00854  ... -0.008143 -0.01669 -0.078895   \n",
       "3      -0.014105 -0.006307 -0.00854  ... -0.008143 -0.01669 -0.078895   \n",
       "4      -0.014105 -0.006307 -0.00854  ... -0.008143 -0.01669 -0.078895   \n",
       "...          ...       ...      ...  ...       ...      ...       ...   \n",
       "125685 -0.014105 -0.006307 -0.00854  ... -0.008143 -0.01669 -0.078895   \n",
       "125686 -0.014105 -0.006307 -0.00854  ... -0.008143 -0.01669 -0.078895   \n",
       "125687 -0.014105 -0.006307 -0.00854  ... -0.008143 -0.01669 -0.078895   \n",
       "125688 -0.014105 -0.006307 -0.00854  ... -0.008143 -0.01669 -0.078895   \n",
       "125689 -0.014105 -0.006307 -0.00854  ... -0.008143 -0.01669 -0.078895   \n",
       "\n",
       "             425       426      427      428       429       430       431  \n",
       "0      -0.012078 -0.006307 -0.00892 -0.02903 -0.336668 -0.018571 -0.021394  \n",
       "1      -0.012078 -0.006307 -0.00892 -0.02903 -0.336668 -0.018571 -0.021394  \n",
       "2      -0.012078 -0.006307 -0.00892 -0.02903 -0.336668 -0.018571 -0.021394  \n",
       "3      -0.012078 -0.006307 -0.00892 -0.02903 -0.336668 -0.018571 -0.021394  \n",
       "4      -0.012078 -0.006307 -0.00892 -0.02903 -0.336668 -0.018571 -0.021394  \n",
       "...          ...       ...      ...      ...       ...       ...       ...  \n",
       "125685 -0.012078 -0.006307 -0.00892 -0.02903 -0.336668 -0.018571 -0.021394  \n",
       "125686 -0.012078 -0.006307 -0.00892 -0.02903 -0.336668 -0.018571 -0.021394  \n",
       "125687 -0.012078 -0.006307 -0.00892 -0.02903 -0.336668 -0.018571 -0.021394  \n",
       "125688 -0.012078 -0.006307 -0.00892 -0.02903 -0.336668 -0.018571 -0.021394  \n",
       "125689 -0.012078 -0.006307 -0.00892 -0.02903 -0.336668 -0.018571 -0.021394  \n",
       "\n",
       "[125690 rows x 432 columns]"
      ]
     },
     "execution_count": 125,
     "metadata": {},
     "output_type": "execute_result"
    }
   ],
   "source": [
    "pd.DataFrame(df_test_scaled)"
   ]
  },
  {
   "cell_type": "code",
   "execution_count": null,
   "id": "48ca4e3a",
   "metadata": {},
   "outputs": [],
   "source": []
  },
  {
   "cell_type": "code",
   "execution_count": 126,
   "id": "69235b58",
   "metadata": {},
   "outputs": [
    {
     "name": "stdout",
     "output_type": "stream",
     "text": [
      "(150826, 432)\n",
      "(37707, 432)\n",
      "(150826,)\n",
      "(37707,)\n"
     ]
    }
   ],
   "source": [
    "print(x_train_scaled.shape)\n",
    "print(x_test_scaled.shape)\n",
    "print(y_train.shape)\n",
    "print(y_test.shape)"
   ]
  },
  {
   "cell_type": "code",
   "execution_count": 127,
   "id": "451e3379",
   "metadata": {},
   "outputs": [
    {
     "name": "stdout",
     "output_type": "stream",
     "text": [
      "(125690, 432)\n"
     ]
    }
   ],
   "source": [
    "print(df_test_scaled.shape)"
   ]
  },
  {
   "cell_type": "code",
   "execution_count": null,
   "id": "97e5acee",
   "metadata": {},
   "outputs": [],
   "source": []
  },
  {
   "cell_type": "markdown",
   "id": "b7ae4e40",
   "metadata": {},
   "source": [
    "# Model Building Part"
   ]
  },
  {
   "cell_type": "code",
   "execution_count": null,
   "id": "9ad6e83e",
   "metadata": {},
   "outputs": [],
   "source": []
  },
  {
   "cell_type": "code",
   "execution_count": null,
   "id": "786167a4",
   "metadata": {},
   "outputs": [],
   "source": []
  },
  {
   "cell_type": "code",
   "execution_count": null,
   "id": "58fbd2bc",
   "metadata": {},
   "outputs": [],
   "source": []
  },
  {
   "cell_type": "code",
   "execution_count": null,
   "id": "1ad70e22",
   "metadata": {},
   "outputs": [],
   "source": []
  },
  {
   "cell_type": "code",
   "execution_count": null,
   "id": "fde70374",
   "metadata": {},
   "outputs": [],
   "source": []
  },
  {
   "cell_type": "code",
   "execution_count": null,
   "id": "f36e3beb",
   "metadata": {},
   "outputs": [],
   "source": []
  },
  {
   "cell_type": "code",
   "execution_count": null,
   "id": "2224afcb",
   "metadata": {},
   "outputs": [],
   "source": []
  },
  {
   "cell_type": "code",
   "execution_count": null,
   "id": "83ec9942",
   "metadata": {},
   "outputs": [],
   "source": []
  },
  {
   "cell_type": "code",
   "execution_count": null,
   "id": "1361e9ca",
   "metadata": {},
   "outputs": [],
   "source": []
  }
 ],
 "metadata": {
  "kernelspec": {
   "display_name": "Python 3 (ipykernel)",
   "language": "python",
   "name": "python3"
  },
  "language_info": {
   "codemirror_mode": {
    "name": "ipython",
    "version": 3
   },
   "file_extension": ".py",
   "mimetype": "text/x-python",
   "name": "python",
   "nbconvert_exporter": "python",
   "pygments_lexer": "ipython3",
   "version": "3.11.5"
  },
  "varInspector": {
   "cols": {
    "lenName": 16,
    "lenType": 16,
    "lenVar": 40
   },
   "kernels_config": {
    "python": {
     "delete_cmd_postfix": "",
     "delete_cmd_prefix": "del ",
     "library": "var_list.py",
     "varRefreshCmd": "print(var_dic_list())"
    },
    "r": {
     "delete_cmd_postfix": ") ",
     "delete_cmd_prefix": "rm(",
     "library": "var_list.r",
     "varRefreshCmd": "cat(var_dic_list()) "
    }
   },
   "types_to_exclude": [
    "module",
    "function",
    "builtin_function_or_method",
    "instance",
    "_Feature"
   ],
   "window_display": false
  }
 },
 "nbformat": 4,
 "nbformat_minor": 5
}
