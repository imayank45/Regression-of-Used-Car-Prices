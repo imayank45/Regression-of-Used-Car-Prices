{
 "cells": [
  {
   "cell_type": "markdown",
   "id": "934b8e68",
   "metadata": {},
   "source": [
    "# Importing necessary libraries"
   ]
  },
  {
   "cell_type": "code",
   "execution_count": 1,
   "id": "90daa636",
   "metadata": {},
   "outputs": [],
   "source": [
    "import re\n",
    "\n",
    "import pandas as pd\n",
    "\n",
    "import seaborn as sns\n",
    "import matplotlib.pyplot as plt\n",
    "\n",
    "\n"
   ]
  },
  {
   "cell_type": "markdown",
   "id": "70310417",
   "metadata": {},
   "source": [
    "# Loading data"
   ]
  },
  {
   "cell_type": "code",
   "execution_count": 2,
   "id": "53944d64",
   "metadata": {},
   "outputs": [],
   "source": [
    "train= pd.read_csv('datasets/train.csv')\n",
    "test = pd.read_csv('datasets/test.csv')"
   ]
  },
  {
   "cell_type": "code",
   "execution_count": 3,
   "id": "c76b986a",
   "metadata": {},
   "outputs": [],
   "source": [
    "test['price'] = -1"
   ]
  },
  {
   "cell_type": "code",
   "execution_count": 4,
   "id": "9b59a6f4",
   "metadata": {},
   "outputs": [],
   "source": [
    "df = pd.concat([train,test])"
   ]
  },
  {
   "cell_type": "code",
   "execution_count": 5,
   "id": "f8e7c655",
   "metadata": {},
   "outputs": [
    {
     "data": {
      "text/html": [
       "<div>\n",
       "<style scoped>\n",
       "    .dataframe tbody tr th:only-of-type {\n",
       "        vertical-align: middle;\n",
       "    }\n",
       "\n",
       "    .dataframe tbody tr th {\n",
       "        vertical-align: top;\n",
       "    }\n",
       "\n",
       "    .dataframe thead th {\n",
       "        text-align: right;\n",
       "    }\n",
       "</style>\n",
       "<table border=\"1\" class=\"dataframe\">\n",
       "  <thead>\n",
       "    <tr style=\"text-align: right;\">\n",
       "      <th></th>\n",
       "      <th>id</th>\n",
       "      <th>brand</th>\n",
       "      <th>model</th>\n",
       "      <th>model_year</th>\n",
       "      <th>milage</th>\n",
       "      <th>fuel_type</th>\n",
       "      <th>engine</th>\n",
       "      <th>transmission</th>\n",
       "      <th>ext_col</th>\n",
       "      <th>int_col</th>\n",
       "      <th>accident</th>\n",
       "      <th>clean_title</th>\n",
       "      <th>price</th>\n",
       "    </tr>\n",
       "  </thead>\n",
       "  <tbody>\n",
       "    <tr>\n",
       "      <th>0</th>\n",
       "      <td>0</td>\n",
       "      <td>MINI</td>\n",
       "      <td>Cooper S Base</td>\n",
       "      <td>2007</td>\n",
       "      <td>213000</td>\n",
       "      <td>Gasoline</td>\n",
       "      <td>172.0HP 1.6L 4 Cylinder Engine Gasoline Fuel</td>\n",
       "      <td>A/T</td>\n",
       "      <td>Yellow</td>\n",
       "      <td>Gray</td>\n",
       "      <td>None reported</td>\n",
       "      <td>Yes</td>\n",
       "      <td>4200</td>\n",
       "    </tr>\n",
       "    <tr>\n",
       "      <th>1</th>\n",
       "      <td>1</td>\n",
       "      <td>Lincoln</td>\n",
       "      <td>LS V8</td>\n",
       "      <td>2002</td>\n",
       "      <td>143250</td>\n",
       "      <td>Gasoline</td>\n",
       "      <td>252.0HP 3.9L 8 Cylinder Engine Gasoline Fuel</td>\n",
       "      <td>A/T</td>\n",
       "      <td>Silver</td>\n",
       "      <td>Beige</td>\n",
       "      <td>At least 1 accident or damage reported</td>\n",
       "      <td>Yes</td>\n",
       "      <td>4999</td>\n",
       "    </tr>\n",
       "    <tr>\n",
       "      <th>2</th>\n",
       "      <td>2</td>\n",
       "      <td>Chevrolet</td>\n",
       "      <td>Silverado 2500 LT</td>\n",
       "      <td>2002</td>\n",
       "      <td>136731</td>\n",
       "      <td>E85 Flex Fuel</td>\n",
       "      <td>320.0HP 5.3L 8 Cylinder Engine Flex Fuel Capab...</td>\n",
       "      <td>A/T</td>\n",
       "      <td>Blue</td>\n",
       "      <td>Gray</td>\n",
       "      <td>None reported</td>\n",
       "      <td>Yes</td>\n",
       "      <td>13900</td>\n",
       "    </tr>\n",
       "    <tr>\n",
       "      <th>3</th>\n",
       "      <td>3</td>\n",
       "      <td>Genesis</td>\n",
       "      <td>G90 5.0 Ultimate</td>\n",
       "      <td>2017</td>\n",
       "      <td>19500</td>\n",
       "      <td>Gasoline</td>\n",
       "      <td>420.0HP 5.0L 8 Cylinder Engine Gasoline Fuel</td>\n",
       "      <td>Transmission w/Dual Shift Mode</td>\n",
       "      <td>Black</td>\n",
       "      <td>Black</td>\n",
       "      <td>None reported</td>\n",
       "      <td>Yes</td>\n",
       "      <td>45000</td>\n",
       "    </tr>\n",
       "    <tr>\n",
       "      <th>4</th>\n",
       "      <td>4</td>\n",
       "      <td>Mercedes-Benz</td>\n",
       "      <td>Metris Base</td>\n",
       "      <td>2021</td>\n",
       "      <td>7388</td>\n",
       "      <td>Gasoline</td>\n",
       "      <td>208.0HP 2.0L 4 Cylinder Engine Gasoline Fuel</td>\n",
       "      <td>7-Speed A/T</td>\n",
       "      <td>Black</td>\n",
       "      <td>Beige</td>\n",
       "      <td>None reported</td>\n",
       "      <td>Yes</td>\n",
       "      <td>97500</td>\n",
       "    </tr>\n",
       "  </tbody>\n",
       "</table>\n",
       "</div>"
      ],
      "text/plain": [
       "   id          brand              model  model_year  milage      fuel_type  \\\n",
       "0   0           MINI      Cooper S Base        2007  213000       Gasoline   \n",
       "1   1        Lincoln              LS V8        2002  143250       Gasoline   \n",
       "2   2      Chevrolet  Silverado 2500 LT        2002  136731  E85 Flex Fuel   \n",
       "3   3        Genesis   G90 5.0 Ultimate        2017   19500       Gasoline   \n",
       "4   4  Mercedes-Benz        Metris Base        2021    7388       Gasoline   \n",
       "\n",
       "                                              engine  \\\n",
       "0       172.0HP 1.6L 4 Cylinder Engine Gasoline Fuel   \n",
       "1       252.0HP 3.9L 8 Cylinder Engine Gasoline Fuel   \n",
       "2  320.0HP 5.3L 8 Cylinder Engine Flex Fuel Capab...   \n",
       "3       420.0HP 5.0L 8 Cylinder Engine Gasoline Fuel   \n",
       "4       208.0HP 2.0L 4 Cylinder Engine Gasoline Fuel   \n",
       "\n",
       "                     transmission ext_col int_col  \\\n",
       "0                             A/T  Yellow    Gray   \n",
       "1                             A/T  Silver   Beige   \n",
       "2                             A/T    Blue    Gray   \n",
       "3  Transmission w/Dual Shift Mode   Black   Black   \n",
       "4                     7-Speed A/T   Black   Beige   \n",
       "\n",
       "                                 accident clean_title  price  \n",
       "0                           None reported         Yes   4200  \n",
       "1  At least 1 accident or damage reported         Yes   4999  \n",
       "2                           None reported         Yes  13900  \n",
       "3                           None reported         Yes  45000  \n",
       "4                           None reported         Yes  97500  "
      ]
     },
     "execution_count": 5,
     "metadata": {},
     "output_type": "execute_result"
    }
   ],
   "source": [
    "df.head()"
   ]
  },
  {
   "cell_type": "code",
   "execution_count": 6,
   "id": "8e4f8af0",
   "metadata": {},
   "outputs": [
    {
     "data": {
      "text/html": [
       "<div>\n",
       "<style scoped>\n",
       "    .dataframe tbody tr th:only-of-type {\n",
       "        vertical-align: middle;\n",
       "    }\n",
       "\n",
       "    .dataframe tbody tr th {\n",
       "        vertical-align: top;\n",
       "    }\n",
       "\n",
       "    .dataframe thead th {\n",
       "        text-align: right;\n",
       "    }\n",
       "</style>\n",
       "<table border=\"1\" class=\"dataframe\">\n",
       "  <thead>\n",
       "    <tr style=\"text-align: right;\">\n",
       "      <th></th>\n",
       "      <th>id</th>\n",
       "      <th>brand</th>\n",
       "      <th>model</th>\n",
       "      <th>model_year</th>\n",
       "      <th>milage</th>\n",
       "      <th>fuel_type</th>\n",
       "      <th>engine</th>\n",
       "      <th>transmission</th>\n",
       "      <th>ext_col</th>\n",
       "      <th>int_col</th>\n",
       "      <th>accident</th>\n",
       "      <th>clean_title</th>\n",
       "      <th>price</th>\n",
       "    </tr>\n",
       "  </thead>\n",
       "  <tbody>\n",
       "    <tr>\n",
       "      <th>125685</th>\n",
       "      <td>314218</td>\n",
       "      <td>Mercedes-Benz</td>\n",
       "      <td>GL-Class GL 450 4MATIC</td>\n",
       "      <td>2014</td>\n",
       "      <td>83315</td>\n",
       "      <td>Gasoline</td>\n",
       "      <td>362.0HP 3.0L V6 Cylinder Engine Gasoline Fuel</td>\n",
       "      <td>7-Speed A/T</td>\n",
       "      <td>Black</td>\n",
       "      <td>Black</td>\n",
       "      <td>None reported</td>\n",
       "      <td>Yes</td>\n",
       "      <td>-1</td>\n",
       "    </tr>\n",
       "    <tr>\n",
       "      <th>125686</th>\n",
       "      <td>314219</td>\n",
       "      <td>Audi</td>\n",
       "      <td>Q7 55 Prestige</td>\n",
       "      <td>2019</td>\n",
       "      <td>29336</td>\n",
       "      <td>Gasoline</td>\n",
       "      <td>3.0 Liter Turbo</td>\n",
       "      <td>Automatic</td>\n",
       "      <td>White</td>\n",
       "      <td>Black</td>\n",
       "      <td>None reported</td>\n",
       "      <td>NaN</td>\n",
       "      <td>-1</td>\n",
       "    </tr>\n",
       "    <tr>\n",
       "      <th>125687</th>\n",
       "      <td>314220</td>\n",
       "      <td>Audi</td>\n",
       "      <td>A6 3.0T Premium Plus</td>\n",
       "      <td>2012</td>\n",
       "      <td>77634</td>\n",
       "      <td>Gasoline</td>\n",
       "      <td>333.0HP 3.0L V6 Cylinder Engine Gasoline Fuel</td>\n",
       "      <td>A/T</td>\n",
       "      <td>Black</td>\n",
       "      <td>Black</td>\n",
       "      <td>None reported</td>\n",
       "      <td>Yes</td>\n",
       "      <td>-1</td>\n",
       "    </tr>\n",
       "    <tr>\n",
       "      <th>125688</th>\n",
       "      <td>314221</td>\n",
       "      <td>Audi</td>\n",
       "      <td>Q7 3.0T Premium</td>\n",
       "      <td>2012</td>\n",
       "      <td>112000</td>\n",
       "      <td>Gasoline</td>\n",
       "      <td>333.0HP 3.0L V6 Cylinder Engine Gasoline Fuel</td>\n",
       "      <td>A/T</td>\n",
       "      <td>Black</td>\n",
       "      <td>Black</td>\n",
       "      <td>None reported</td>\n",
       "      <td>Yes</td>\n",
       "      <td>-1</td>\n",
       "    </tr>\n",
       "    <tr>\n",
       "      <th>125689</th>\n",
       "      <td>314222</td>\n",
       "      <td>Chevrolet</td>\n",
       "      <td>Tahoe LT</td>\n",
       "      <td>2018</td>\n",
       "      <td>66840</td>\n",
       "      <td>Gasoline</td>\n",
       "      <td>355.0HP 5.3L 8 Cylinder Engine Gasoline Fuel</td>\n",
       "      <td>A/T</td>\n",
       "      <td>Silver</td>\n",
       "      <td>Black</td>\n",
       "      <td>None reported</td>\n",
       "      <td>Yes</td>\n",
       "      <td>-1</td>\n",
       "    </tr>\n",
       "  </tbody>\n",
       "</table>\n",
       "</div>"
      ],
      "text/plain": [
       "            id          brand                   model  model_year  milage  \\\n",
       "125685  314218  Mercedes-Benz  GL-Class GL 450 4MATIC        2014   83315   \n",
       "125686  314219           Audi          Q7 55 Prestige        2019   29336   \n",
       "125687  314220           Audi    A6 3.0T Premium Plus        2012   77634   \n",
       "125688  314221           Audi         Q7 3.0T Premium        2012  112000   \n",
       "125689  314222      Chevrolet                Tahoe LT        2018   66840   \n",
       "\n",
       "       fuel_type                                         engine transmission  \\\n",
       "125685  Gasoline  362.0HP 3.0L V6 Cylinder Engine Gasoline Fuel  7-Speed A/T   \n",
       "125686  Gasoline                                3.0 Liter Turbo    Automatic   \n",
       "125687  Gasoline  333.0HP 3.0L V6 Cylinder Engine Gasoline Fuel          A/T   \n",
       "125688  Gasoline  333.0HP 3.0L V6 Cylinder Engine Gasoline Fuel          A/T   \n",
       "125689  Gasoline   355.0HP 5.3L 8 Cylinder Engine Gasoline Fuel          A/T   \n",
       "\n",
       "       ext_col int_col       accident clean_title  price  \n",
       "125685   Black   Black  None reported         Yes     -1  \n",
       "125686   White   Black  None reported         NaN     -1  \n",
       "125687   Black   Black  None reported         Yes     -1  \n",
       "125688   Black   Black  None reported         Yes     -1  \n",
       "125689  Silver   Black  None reported         Yes     -1  "
      ]
     },
     "execution_count": 6,
     "metadata": {},
     "output_type": "execute_result"
    }
   ],
   "source": [
    "df.tail()"
   ]
  },
  {
   "cell_type": "code",
   "execution_count": 7,
   "id": "52b18b4e",
   "metadata": {},
   "outputs": [
    {
     "data": {
      "text/plain": [
       "(314223, 13)"
      ]
     },
     "execution_count": 7,
     "metadata": {},
     "output_type": "execute_result"
    }
   ],
   "source": [
    "df.shape"
   ]
  },
  {
   "cell_type": "markdown",
   "id": "66abfa34",
   "metadata": {},
   "source": [
    "# Data Preprocessing Steps"
   ]
  },
  {
   "cell_type": "markdown",
   "id": "10181009",
   "metadata": {},
   "source": [
    "## 1. lowercasing"
   ]
  },
  {
   "cell_type": "code",
   "execution_count": 8,
   "id": "03474608",
   "metadata": {},
   "outputs": [],
   "source": [
    "for col in df.columns:\n",
    "    if df[col].dtype == 'object':\n",
    "        df[col] = df[col].str.lower()"
   ]
  },
  {
   "cell_type": "code",
   "execution_count": 9,
   "id": "4407092d",
   "metadata": {},
   "outputs": [
    {
     "data": {
      "text/html": [
       "<div>\n",
       "<style scoped>\n",
       "    .dataframe tbody tr th:only-of-type {\n",
       "        vertical-align: middle;\n",
       "    }\n",
       "\n",
       "    .dataframe tbody tr th {\n",
       "        vertical-align: top;\n",
       "    }\n",
       "\n",
       "    .dataframe thead th {\n",
       "        text-align: right;\n",
       "    }\n",
       "</style>\n",
       "<table border=\"1\" class=\"dataframe\">\n",
       "  <thead>\n",
       "    <tr style=\"text-align: right;\">\n",
       "      <th></th>\n",
       "      <th>id</th>\n",
       "      <th>brand</th>\n",
       "      <th>model</th>\n",
       "      <th>model_year</th>\n",
       "      <th>milage</th>\n",
       "      <th>fuel_type</th>\n",
       "      <th>engine</th>\n",
       "      <th>transmission</th>\n",
       "      <th>ext_col</th>\n",
       "      <th>int_col</th>\n",
       "      <th>accident</th>\n",
       "      <th>clean_title</th>\n",
       "      <th>price</th>\n",
       "    </tr>\n",
       "  </thead>\n",
       "  <tbody>\n",
       "    <tr>\n",
       "      <th>0</th>\n",
       "      <td>0</td>\n",
       "      <td>mini</td>\n",
       "      <td>cooper s base</td>\n",
       "      <td>2007</td>\n",
       "      <td>213000</td>\n",
       "      <td>gasoline</td>\n",
       "      <td>172.0hp 1.6l 4 cylinder engine gasoline fuel</td>\n",
       "      <td>a/t</td>\n",
       "      <td>yellow</td>\n",
       "      <td>gray</td>\n",
       "      <td>none reported</td>\n",
       "      <td>yes</td>\n",
       "      <td>4200</td>\n",
       "    </tr>\n",
       "    <tr>\n",
       "      <th>1</th>\n",
       "      <td>1</td>\n",
       "      <td>lincoln</td>\n",
       "      <td>ls v8</td>\n",
       "      <td>2002</td>\n",
       "      <td>143250</td>\n",
       "      <td>gasoline</td>\n",
       "      <td>252.0hp 3.9l 8 cylinder engine gasoline fuel</td>\n",
       "      <td>a/t</td>\n",
       "      <td>silver</td>\n",
       "      <td>beige</td>\n",
       "      <td>at least 1 accident or damage reported</td>\n",
       "      <td>yes</td>\n",
       "      <td>4999</td>\n",
       "    </tr>\n",
       "    <tr>\n",
       "      <th>2</th>\n",
       "      <td>2</td>\n",
       "      <td>chevrolet</td>\n",
       "      <td>silverado 2500 lt</td>\n",
       "      <td>2002</td>\n",
       "      <td>136731</td>\n",
       "      <td>e85 flex fuel</td>\n",
       "      <td>320.0hp 5.3l 8 cylinder engine flex fuel capab...</td>\n",
       "      <td>a/t</td>\n",
       "      <td>blue</td>\n",
       "      <td>gray</td>\n",
       "      <td>none reported</td>\n",
       "      <td>yes</td>\n",
       "      <td>13900</td>\n",
       "    </tr>\n",
       "    <tr>\n",
       "      <th>3</th>\n",
       "      <td>3</td>\n",
       "      <td>genesis</td>\n",
       "      <td>g90 5.0 ultimate</td>\n",
       "      <td>2017</td>\n",
       "      <td>19500</td>\n",
       "      <td>gasoline</td>\n",
       "      <td>420.0hp 5.0l 8 cylinder engine gasoline fuel</td>\n",
       "      <td>transmission w/dual shift mode</td>\n",
       "      <td>black</td>\n",
       "      <td>black</td>\n",
       "      <td>none reported</td>\n",
       "      <td>yes</td>\n",
       "      <td>45000</td>\n",
       "    </tr>\n",
       "    <tr>\n",
       "      <th>4</th>\n",
       "      <td>4</td>\n",
       "      <td>mercedes-benz</td>\n",
       "      <td>metris base</td>\n",
       "      <td>2021</td>\n",
       "      <td>7388</td>\n",
       "      <td>gasoline</td>\n",
       "      <td>208.0hp 2.0l 4 cylinder engine gasoline fuel</td>\n",
       "      <td>7-speed a/t</td>\n",
       "      <td>black</td>\n",
       "      <td>beige</td>\n",
       "      <td>none reported</td>\n",
       "      <td>yes</td>\n",
       "      <td>97500</td>\n",
       "    </tr>\n",
       "  </tbody>\n",
       "</table>\n",
       "</div>"
      ],
      "text/plain": [
       "   id          brand              model  model_year  milage      fuel_type  \\\n",
       "0   0           mini      cooper s base        2007  213000       gasoline   \n",
       "1   1        lincoln              ls v8        2002  143250       gasoline   \n",
       "2   2      chevrolet  silverado 2500 lt        2002  136731  e85 flex fuel   \n",
       "3   3        genesis   g90 5.0 ultimate        2017   19500       gasoline   \n",
       "4   4  mercedes-benz        metris base        2021    7388       gasoline   \n",
       "\n",
       "                                              engine  \\\n",
       "0       172.0hp 1.6l 4 cylinder engine gasoline fuel   \n",
       "1       252.0hp 3.9l 8 cylinder engine gasoline fuel   \n",
       "2  320.0hp 5.3l 8 cylinder engine flex fuel capab...   \n",
       "3       420.0hp 5.0l 8 cylinder engine gasoline fuel   \n",
       "4       208.0hp 2.0l 4 cylinder engine gasoline fuel   \n",
       "\n",
       "                     transmission ext_col int_col  \\\n",
       "0                             a/t  yellow    gray   \n",
       "1                             a/t  silver   beige   \n",
       "2                             a/t    blue    gray   \n",
       "3  transmission w/dual shift mode   black   black   \n",
       "4                     7-speed a/t   black   beige   \n",
       "\n",
       "                                 accident clean_title  price  \n",
       "0                           none reported         yes   4200  \n",
       "1  at least 1 accident or damage reported         yes   4999  \n",
       "2                           none reported         yes  13900  \n",
       "3                           none reported         yes  45000  \n",
       "4                           none reported         yes  97500  "
      ]
     },
     "execution_count": 9,
     "metadata": {},
     "output_type": "execute_result"
    }
   ],
   "source": [
    "df.head()"
   ]
  },
  {
   "cell_type": "markdown",
   "id": "a0e8eba8",
   "metadata": {},
   "source": [
    "## 2. stripping"
   ]
  },
  {
   "cell_type": "code",
   "execution_count": 10,
   "id": "d0ea9e8c",
   "metadata": {},
   "outputs": [],
   "source": [
    "for col in df.columns:\n",
    "    if df[col].dtype == 'object':\n",
    "        df[col] = df[col].str.strip()"
   ]
  },
  {
   "cell_type": "code",
   "execution_count": 11,
   "id": "633137f0",
   "metadata": {},
   "outputs": [
    {
     "data": {
      "text/html": [
       "<div>\n",
       "<style scoped>\n",
       "    .dataframe tbody tr th:only-of-type {\n",
       "        vertical-align: middle;\n",
       "    }\n",
       "\n",
       "    .dataframe tbody tr th {\n",
       "        vertical-align: top;\n",
       "    }\n",
       "\n",
       "    .dataframe thead th {\n",
       "        text-align: right;\n",
       "    }\n",
       "</style>\n",
       "<table border=\"1\" class=\"dataframe\">\n",
       "  <thead>\n",
       "    <tr style=\"text-align: right;\">\n",
       "      <th></th>\n",
       "      <th>id</th>\n",
       "      <th>brand</th>\n",
       "      <th>model</th>\n",
       "      <th>model_year</th>\n",
       "      <th>milage</th>\n",
       "      <th>fuel_type</th>\n",
       "      <th>engine</th>\n",
       "      <th>transmission</th>\n",
       "      <th>ext_col</th>\n",
       "      <th>int_col</th>\n",
       "      <th>accident</th>\n",
       "      <th>clean_title</th>\n",
       "      <th>price</th>\n",
       "    </tr>\n",
       "  </thead>\n",
       "  <tbody>\n",
       "    <tr>\n",
       "      <th>0</th>\n",
       "      <td>0</td>\n",
       "      <td>mini</td>\n",
       "      <td>cooper s base</td>\n",
       "      <td>2007</td>\n",
       "      <td>213000</td>\n",
       "      <td>gasoline</td>\n",
       "      <td>172.0hp 1.6l 4 cylinder engine gasoline fuel</td>\n",
       "      <td>a/t</td>\n",
       "      <td>yellow</td>\n",
       "      <td>gray</td>\n",
       "      <td>none reported</td>\n",
       "      <td>yes</td>\n",
       "      <td>4200</td>\n",
       "    </tr>\n",
       "    <tr>\n",
       "      <th>1</th>\n",
       "      <td>1</td>\n",
       "      <td>lincoln</td>\n",
       "      <td>ls v8</td>\n",
       "      <td>2002</td>\n",
       "      <td>143250</td>\n",
       "      <td>gasoline</td>\n",
       "      <td>252.0hp 3.9l 8 cylinder engine gasoline fuel</td>\n",
       "      <td>a/t</td>\n",
       "      <td>silver</td>\n",
       "      <td>beige</td>\n",
       "      <td>at least 1 accident or damage reported</td>\n",
       "      <td>yes</td>\n",
       "      <td>4999</td>\n",
       "    </tr>\n",
       "    <tr>\n",
       "      <th>2</th>\n",
       "      <td>2</td>\n",
       "      <td>chevrolet</td>\n",
       "      <td>silverado 2500 lt</td>\n",
       "      <td>2002</td>\n",
       "      <td>136731</td>\n",
       "      <td>e85 flex fuel</td>\n",
       "      <td>320.0hp 5.3l 8 cylinder engine flex fuel capab...</td>\n",
       "      <td>a/t</td>\n",
       "      <td>blue</td>\n",
       "      <td>gray</td>\n",
       "      <td>none reported</td>\n",
       "      <td>yes</td>\n",
       "      <td>13900</td>\n",
       "    </tr>\n",
       "    <tr>\n",
       "      <th>3</th>\n",
       "      <td>3</td>\n",
       "      <td>genesis</td>\n",
       "      <td>g90 5.0 ultimate</td>\n",
       "      <td>2017</td>\n",
       "      <td>19500</td>\n",
       "      <td>gasoline</td>\n",
       "      <td>420.0hp 5.0l 8 cylinder engine gasoline fuel</td>\n",
       "      <td>transmission w/dual shift mode</td>\n",
       "      <td>black</td>\n",
       "      <td>black</td>\n",
       "      <td>none reported</td>\n",
       "      <td>yes</td>\n",
       "      <td>45000</td>\n",
       "    </tr>\n",
       "    <tr>\n",
       "      <th>4</th>\n",
       "      <td>4</td>\n",
       "      <td>mercedes-benz</td>\n",
       "      <td>metris base</td>\n",
       "      <td>2021</td>\n",
       "      <td>7388</td>\n",
       "      <td>gasoline</td>\n",
       "      <td>208.0hp 2.0l 4 cylinder engine gasoline fuel</td>\n",
       "      <td>7-speed a/t</td>\n",
       "      <td>black</td>\n",
       "      <td>beige</td>\n",
       "      <td>none reported</td>\n",
       "      <td>yes</td>\n",
       "      <td>97500</td>\n",
       "    </tr>\n",
       "  </tbody>\n",
       "</table>\n",
       "</div>"
      ],
      "text/plain": [
       "   id          brand              model  model_year  milage      fuel_type  \\\n",
       "0   0           mini      cooper s base        2007  213000       gasoline   \n",
       "1   1        lincoln              ls v8        2002  143250       gasoline   \n",
       "2   2      chevrolet  silverado 2500 lt        2002  136731  e85 flex fuel   \n",
       "3   3        genesis   g90 5.0 ultimate        2017   19500       gasoline   \n",
       "4   4  mercedes-benz        metris base        2021    7388       gasoline   \n",
       "\n",
       "                                              engine  \\\n",
       "0       172.0hp 1.6l 4 cylinder engine gasoline fuel   \n",
       "1       252.0hp 3.9l 8 cylinder engine gasoline fuel   \n",
       "2  320.0hp 5.3l 8 cylinder engine flex fuel capab...   \n",
       "3       420.0hp 5.0l 8 cylinder engine gasoline fuel   \n",
       "4       208.0hp 2.0l 4 cylinder engine gasoline fuel   \n",
       "\n",
       "                     transmission ext_col int_col  \\\n",
       "0                             a/t  yellow    gray   \n",
       "1                             a/t  silver   beige   \n",
       "2                             a/t    blue    gray   \n",
       "3  transmission w/dual shift mode   black   black   \n",
       "4                     7-speed a/t   black   beige   \n",
       "\n",
       "                                 accident clean_title  price  \n",
       "0                           none reported         yes   4200  \n",
       "1  at least 1 accident or damage reported         yes   4999  \n",
       "2                           none reported         yes  13900  \n",
       "3                           none reported         yes  45000  \n",
       "4                           none reported         yes  97500  "
      ]
     },
     "execution_count": 11,
     "metadata": {},
     "output_type": "execute_result"
    }
   ],
   "source": [
    "df.head()"
   ]
  },
  {
   "cell_type": "code",
   "execution_count": 12,
   "id": "21ef4a12",
   "metadata": {},
   "outputs": [
    {
     "data": {
      "text/plain": [
       "(314223, 13)"
      ]
     },
     "execution_count": 12,
     "metadata": {},
     "output_type": "execute_result"
    }
   ],
   "source": [
    "df.shape"
   ]
  },
  {
   "cell_type": "markdown",
   "id": "5c26a5ca",
   "metadata": {},
   "source": [
    "## 3. splitting engine columns into hp, litre, cyclinder"
   ]
  },
  {
   "cell_type": "code",
   "execution_count": 13,
   "id": "414ba47a",
   "metadata": {},
   "outputs": [],
   "source": [
    "def extract_engine_data(engine):\n",
    "    hp_pattern = r'(\\d+\\.?\\d*)hp'\n",
    "    litre_pattern = r'(\\d+\\.?\\d*)l'\n",
    "    cylinder_pattern = r'(\\d+)\\scylinder'\n",
    "    hp = re.search(hp_pattern, engine)\n",
    "    litre = re.search(litre_pattern, engine)\n",
    "    cylinder = re.search(cylinder_pattern, engine)\n",
    "\n",
    "    hp_value = float(hp.group(1)) if hp else None\n",
    "    litre_value = float(litre.group(1)) if litre else None\n",
    "    cylinder_value = int(cylinder.group(1)) if cylinder else None\n",
    "\n",
    "    return pd.Series([hp_value, litre_value, cylinder_value])\n",
    "\n",
    "df[['hp', 'litre', 'cyclinder']] = df['engine'].apply(extract_engine_data)"
   ]
  },
  {
   "cell_type": "code",
   "execution_count": 14,
   "id": "8cc54d14",
   "metadata": {},
   "outputs": [
    {
     "data": {
      "text/html": [
       "<div>\n",
       "<style scoped>\n",
       "    .dataframe tbody tr th:only-of-type {\n",
       "        vertical-align: middle;\n",
       "    }\n",
       "\n",
       "    .dataframe tbody tr th {\n",
       "        vertical-align: top;\n",
       "    }\n",
       "\n",
       "    .dataframe thead th {\n",
       "        text-align: right;\n",
       "    }\n",
       "</style>\n",
       "<table border=\"1\" class=\"dataframe\">\n",
       "  <thead>\n",
       "    <tr style=\"text-align: right;\">\n",
       "      <th></th>\n",
       "      <th>id</th>\n",
       "      <th>brand</th>\n",
       "      <th>model</th>\n",
       "      <th>model_year</th>\n",
       "      <th>milage</th>\n",
       "      <th>fuel_type</th>\n",
       "      <th>engine</th>\n",
       "      <th>transmission</th>\n",
       "      <th>ext_col</th>\n",
       "      <th>int_col</th>\n",
       "      <th>accident</th>\n",
       "      <th>clean_title</th>\n",
       "      <th>price</th>\n",
       "      <th>hp</th>\n",
       "      <th>litre</th>\n",
       "      <th>cyclinder</th>\n",
       "    </tr>\n",
       "  </thead>\n",
       "  <tbody>\n",
       "    <tr>\n",
       "      <th>0</th>\n",
       "      <td>0</td>\n",
       "      <td>mini</td>\n",
       "      <td>cooper s base</td>\n",
       "      <td>2007</td>\n",
       "      <td>213000</td>\n",
       "      <td>gasoline</td>\n",
       "      <td>172.0hp 1.6l 4 cylinder engine gasoline fuel</td>\n",
       "      <td>a/t</td>\n",
       "      <td>yellow</td>\n",
       "      <td>gray</td>\n",
       "      <td>none reported</td>\n",
       "      <td>yes</td>\n",
       "      <td>4200</td>\n",
       "      <td>172.0</td>\n",
       "      <td>1.6</td>\n",
       "      <td>4.0</td>\n",
       "    </tr>\n",
       "    <tr>\n",
       "      <th>1</th>\n",
       "      <td>1</td>\n",
       "      <td>lincoln</td>\n",
       "      <td>ls v8</td>\n",
       "      <td>2002</td>\n",
       "      <td>143250</td>\n",
       "      <td>gasoline</td>\n",
       "      <td>252.0hp 3.9l 8 cylinder engine gasoline fuel</td>\n",
       "      <td>a/t</td>\n",
       "      <td>silver</td>\n",
       "      <td>beige</td>\n",
       "      <td>at least 1 accident or damage reported</td>\n",
       "      <td>yes</td>\n",
       "      <td>4999</td>\n",
       "      <td>252.0</td>\n",
       "      <td>3.9</td>\n",
       "      <td>8.0</td>\n",
       "    </tr>\n",
       "    <tr>\n",
       "      <th>2</th>\n",
       "      <td>2</td>\n",
       "      <td>chevrolet</td>\n",
       "      <td>silverado 2500 lt</td>\n",
       "      <td>2002</td>\n",
       "      <td>136731</td>\n",
       "      <td>e85 flex fuel</td>\n",
       "      <td>320.0hp 5.3l 8 cylinder engine flex fuel capab...</td>\n",
       "      <td>a/t</td>\n",
       "      <td>blue</td>\n",
       "      <td>gray</td>\n",
       "      <td>none reported</td>\n",
       "      <td>yes</td>\n",
       "      <td>13900</td>\n",
       "      <td>320.0</td>\n",
       "      <td>5.3</td>\n",
       "      <td>8.0</td>\n",
       "    </tr>\n",
       "    <tr>\n",
       "      <th>3</th>\n",
       "      <td>3</td>\n",
       "      <td>genesis</td>\n",
       "      <td>g90 5.0 ultimate</td>\n",
       "      <td>2017</td>\n",
       "      <td>19500</td>\n",
       "      <td>gasoline</td>\n",
       "      <td>420.0hp 5.0l 8 cylinder engine gasoline fuel</td>\n",
       "      <td>transmission w/dual shift mode</td>\n",
       "      <td>black</td>\n",
       "      <td>black</td>\n",
       "      <td>none reported</td>\n",
       "      <td>yes</td>\n",
       "      <td>45000</td>\n",
       "      <td>420.0</td>\n",
       "      <td>5.0</td>\n",
       "      <td>8.0</td>\n",
       "    </tr>\n",
       "    <tr>\n",
       "      <th>4</th>\n",
       "      <td>4</td>\n",
       "      <td>mercedes-benz</td>\n",
       "      <td>metris base</td>\n",
       "      <td>2021</td>\n",
       "      <td>7388</td>\n",
       "      <td>gasoline</td>\n",
       "      <td>208.0hp 2.0l 4 cylinder engine gasoline fuel</td>\n",
       "      <td>7-speed a/t</td>\n",
       "      <td>black</td>\n",
       "      <td>beige</td>\n",
       "      <td>none reported</td>\n",
       "      <td>yes</td>\n",
       "      <td>97500</td>\n",
       "      <td>208.0</td>\n",
       "      <td>2.0</td>\n",
       "      <td>4.0</td>\n",
       "    </tr>\n",
       "  </tbody>\n",
       "</table>\n",
       "</div>"
      ],
      "text/plain": [
       "   id          brand              model  model_year  milage      fuel_type  \\\n",
       "0   0           mini      cooper s base        2007  213000       gasoline   \n",
       "1   1        lincoln              ls v8        2002  143250       gasoline   \n",
       "2   2      chevrolet  silverado 2500 lt        2002  136731  e85 flex fuel   \n",
       "3   3        genesis   g90 5.0 ultimate        2017   19500       gasoline   \n",
       "4   4  mercedes-benz        metris base        2021    7388       gasoline   \n",
       "\n",
       "                                              engine  \\\n",
       "0       172.0hp 1.6l 4 cylinder engine gasoline fuel   \n",
       "1       252.0hp 3.9l 8 cylinder engine gasoline fuel   \n",
       "2  320.0hp 5.3l 8 cylinder engine flex fuel capab...   \n",
       "3       420.0hp 5.0l 8 cylinder engine gasoline fuel   \n",
       "4       208.0hp 2.0l 4 cylinder engine gasoline fuel   \n",
       "\n",
       "                     transmission ext_col int_col  \\\n",
       "0                             a/t  yellow    gray   \n",
       "1                             a/t  silver   beige   \n",
       "2                             a/t    blue    gray   \n",
       "3  transmission w/dual shift mode   black   black   \n",
       "4                     7-speed a/t   black   beige   \n",
       "\n",
       "                                 accident clean_title  price     hp  litre  \\\n",
       "0                           none reported         yes   4200  172.0    1.6   \n",
       "1  at least 1 accident or damage reported         yes   4999  252.0    3.9   \n",
       "2                           none reported         yes  13900  320.0    5.3   \n",
       "3                           none reported         yes  45000  420.0    5.0   \n",
       "4                           none reported         yes  97500  208.0    2.0   \n",
       "\n",
       "   cyclinder  \n",
       "0        4.0  \n",
       "1        8.0  \n",
       "2        8.0  \n",
       "3        8.0  \n",
       "4        4.0  "
      ]
     },
     "execution_count": 14,
     "metadata": {},
     "output_type": "execute_result"
    }
   ],
   "source": [
    "df.head()"
   ]
  },
  {
   "cell_type": "markdown",
   "id": "8bf8cc98",
   "metadata": {},
   "source": [
    "## 4. Dropping id and engine columns (no relevance)"
   ]
  },
  {
   "cell_type": "code",
   "execution_count": 15,
   "id": "e0a9e7e7",
   "metadata": {},
   "outputs": [],
   "source": [
    "df.drop(columns=['id','engine'],inplace=True)"
   ]
  },
  {
   "cell_type": "code",
   "execution_count": 16,
   "id": "6a997cb6",
   "metadata": {},
   "outputs": [
    {
     "data": {
      "text/html": [
       "<div>\n",
       "<style scoped>\n",
       "    .dataframe tbody tr th:only-of-type {\n",
       "        vertical-align: middle;\n",
       "    }\n",
       "\n",
       "    .dataframe tbody tr th {\n",
       "        vertical-align: top;\n",
       "    }\n",
       "\n",
       "    .dataframe thead th {\n",
       "        text-align: right;\n",
       "    }\n",
       "</style>\n",
       "<table border=\"1\" class=\"dataframe\">\n",
       "  <thead>\n",
       "    <tr style=\"text-align: right;\">\n",
       "      <th></th>\n",
       "      <th>brand</th>\n",
       "      <th>model</th>\n",
       "      <th>model_year</th>\n",
       "      <th>milage</th>\n",
       "      <th>fuel_type</th>\n",
       "      <th>transmission</th>\n",
       "      <th>ext_col</th>\n",
       "      <th>int_col</th>\n",
       "      <th>accident</th>\n",
       "      <th>clean_title</th>\n",
       "      <th>price</th>\n",
       "      <th>hp</th>\n",
       "      <th>litre</th>\n",
       "      <th>cyclinder</th>\n",
       "    </tr>\n",
       "  </thead>\n",
       "  <tbody>\n",
       "    <tr>\n",
       "      <th>0</th>\n",
       "      <td>mini</td>\n",
       "      <td>cooper s base</td>\n",
       "      <td>2007</td>\n",
       "      <td>213000</td>\n",
       "      <td>gasoline</td>\n",
       "      <td>a/t</td>\n",
       "      <td>yellow</td>\n",
       "      <td>gray</td>\n",
       "      <td>none reported</td>\n",
       "      <td>yes</td>\n",
       "      <td>4200</td>\n",
       "      <td>172.0</td>\n",
       "      <td>1.6</td>\n",
       "      <td>4.0</td>\n",
       "    </tr>\n",
       "    <tr>\n",
       "      <th>1</th>\n",
       "      <td>lincoln</td>\n",
       "      <td>ls v8</td>\n",
       "      <td>2002</td>\n",
       "      <td>143250</td>\n",
       "      <td>gasoline</td>\n",
       "      <td>a/t</td>\n",
       "      <td>silver</td>\n",
       "      <td>beige</td>\n",
       "      <td>at least 1 accident or damage reported</td>\n",
       "      <td>yes</td>\n",
       "      <td>4999</td>\n",
       "      <td>252.0</td>\n",
       "      <td>3.9</td>\n",
       "      <td>8.0</td>\n",
       "    </tr>\n",
       "    <tr>\n",
       "      <th>2</th>\n",
       "      <td>chevrolet</td>\n",
       "      <td>silverado 2500 lt</td>\n",
       "      <td>2002</td>\n",
       "      <td>136731</td>\n",
       "      <td>e85 flex fuel</td>\n",
       "      <td>a/t</td>\n",
       "      <td>blue</td>\n",
       "      <td>gray</td>\n",
       "      <td>none reported</td>\n",
       "      <td>yes</td>\n",
       "      <td>13900</td>\n",
       "      <td>320.0</td>\n",
       "      <td>5.3</td>\n",
       "      <td>8.0</td>\n",
       "    </tr>\n",
       "    <tr>\n",
       "      <th>3</th>\n",
       "      <td>genesis</td>\n",
       "      <td>g90 5.0 ultimate</td>\n",
       "      <td>2017</td>\n",
       "      <td>19500</td>\n",
       "      <td>gasoline</td>\n",
       "      <td>transmission w/dual shift mode</td>\n",
       "      <td>black</td>\n",
       "      <td>black</td>\n",
       "      <td>none reported</td>\n",
       "      <td>yes</td>\n",
       "      <td>45000</td>\n",
       "      <td>420.0</td>\n",
       "      <td>5.0</td>\n",
       "      <td>8.0</td>\n",
       "    </tr>\n",
       "    <tr>\n",
       "      <th>4</th>\n",
       "      <td>mercedes-benz</td>\n",
       "      <td>metris base</td>\n",
       "      <td>2021</td>\n",
       "      <td>7388</td>\n",
       "      <td>gasoline</td>\n",
       "      <td>7-speed a/t</td>\n",
       "      <td>black</td>\n",
       "      <td>beige</td>\n",
       "      <td>none reported</td>\n",
       "      <td>yes</td>\n",
       "      <td>97500</td>\n",
       "      <td>208.0</td>\n",
       "      <td>2.0</td>\n",
       "      <td>4.0</td>\n",
       "    </tr>\n",
       "  </tbody>\n",
       "</table>\n",
       "</div>"
      ],
      "text/plain": [
       "           brand              model  model_year  milage      fuel_type  \\\n",
       "0           mini      cooper s base        2007  213000       gasoline   \n",
       "1        lincoln              ls v8        2002  143250       gasoline   \n",
       "2      chevrolet  silverado 2500 lt        2002  136731  e85 flex fuel   \n",
       "3        genesis   g90 5.0 ultimate        2017   19500       gasoline   \n",
       "4  mercedes-benz        metris base        2021    7388       gasoline   \n",
       "\n",
       "                     transmission ext_col int_col  \\\n",
       "0                             a/t  yellow    gray   \n",
       "1                             a/t  silver   beige   \n",
       "2                             a/t    blue    gray   \n",
       "3  transmission w/dual shift mode   black   black   \n",
       "4                     7-speed a/t   black   beige   \n",
       "\n",
       "                                 accident clean_title  price     hp  litre  \\\n",
       "0                           none reported         yes   4200  172.0    1.6   \n",
       "1  at least 1 accident or damage reported         yes   4999  252.0    3.9   \n",
       "2                           none reported         yes  13900  320.0    5.3   \n",
       "3                           none reported         yes  45000  420.0    5.0   \n",
       "4                           none reported         yes  97500  208.0    2.0   \n",
       "\n",
       "   cyclinder  \n",
       "0        4.0  \n",
       "1        8.0  \n",
       "2        8.0  \n",
       "3        8.0  \n",
       "4        4.0  "
      ]
     },
     "execution_count": 16,
     "metadata": {},
     "output_type": "execute_result"
    }
   ],
   "source": [
    "df.head()"
   ]
  },
  {
   "cell_type": "markdown",
   "id": "b959b5e2",
   "metadata": {},
   "source": [
    "## 5. Dealiing with null values"
   ]
  },
  {
   "cell_type": "code",
   "execution_count": 17,
   "id": "2324897c",
   "metadata": {},
   "outputs": [
    {
     "data": {
      "text/plain": [
       "brand            0.000000\n",
       "model            0.000000\n",
       "model_year       0.000000\n",
       "milage           0.000000\n",
       "fuel_type        2.694265\n",
       "transmission     0.000000\n",
       "ext_col          0.000000\n",
       "int_col          0.000000\n",
       "accident         1.299714\n",
       "clean_title     11.347992\n",
       "price            0.000000\n",
       "hp              17.643521\n",
       "litre            7.517273\n",
       "cyclinder       20.051047\n",
       "dtype: float64"
      ]
     },
     "execution_count": 17,
     "metadata": {},
     "output_type": "execute_result"
    }
   ],
   "source": [
    "df.isnull().mean()*100"
   ]
  },
  {
   "cell_type": "markdown",
   "id": "fccfe7a8",
   "metadata": {},
   "source": [
    " ### i) cyclinder"
   ]
  },
  {
   "cell_type": "code",
   "execution_count": 18,
   "id": "50749e43",
   "metadata": {},
   "outputs": [
    {
     "data": {
      "text/plain": [
       "0.1567543187615395"
      ]
     },
     "execution_count": 18,
     "metadata": {},
     "output_type": "execute_result"
    }
   ],
   "source": [
    "df['cyclinder'].skew()"
   ]
  },
  {
   "cell_type": "code",
   "execution_count": 19,
   "id": "3e5e413c",
   "metadata": {},
   "outputs": [],
   "source": [
    "df['cyclinder'] = df['cyclinder'].fillna(df['cyclinder'].mean())"
   ]
  },
  {
   "cell_type": "code",
   "execution_count": 20,
   "id": "de605819",
   "metadata": {},
   "outputs": [
    {
     "data": {
      "text/plain": [
       "0.17531238718780123"
      ]
     },
     "execution_count": 20,
     "metadata": {},
     "output_type": "execute_result"
    }
   ],
   "source": [
    "df['cyclinder'].skew()"
   ]
  },
  {
   "cell_type": "markdown",
   "id": "6175a8b9",
   "metadata": {},
   "source": [
    "### ii) litre"
   ]
  },
  {
   "cell_type": "code",
   "execution_count": 21,
   "id": "2fd1988e",
   "metadata": {},
   "outputs": [
    {
     "data": {
      "text/plain": [
       "0.46238950111654226"
      ]
     },
     "execution_count": 21,
     "metadata": {},
     "output_type": "execute_result"
    }
   ],
   "source": [
    "df['litre'].skew()"
   ]
  },
  {
   "cell_type": "code",
   "execution_count": 22,
   "id": "9497ba03",
   "metadata": {},
   "outputs": [],
   "source": [
    "df['litre'] = df['litre'].fillna(df['litre'].mean())"
   ]
  },
  {
   "cell_type": "code",
   "execution_count": 23,
   "id": "b0721b9d",
   "metadata": {
    "scrolled": true
   },
   "outputs": [
    {
     "data": {
      "text/plain": [
       "0.48081441768185873"
      ]
     },
     "execution_count": 23,
     "metadata": {},
     "output_type": "execute_result"
    }
   ],
   "source": [
    "df['litre'].skew()"
   ]
  },
  {
   "cell_type": "markdown",
   "id": "af509fd7",
   "metadata": {},
   "source": [
    "### iii) hp"
   ]
  },
  {
   "cell_type": "code",
   "execution_count": 24,
   "id": "8051caba",
   "metadata": {},
   "outputs": [
    {
     "data": {
      "text/plain": [
       "0.7807458062369438"
      ]
     },
     "execution_count": 24,
     "metadata": {},
     "output_type": "execute_result"
    }
   ],
   "source": [
    "df['hp'].skew()"
   ]
  },
  {
   "cell_type": "code",
   "execution_count": 25,
   "id": "4e165429",
   "metadata": {},
   "outputs": [],
   "source": [
    "df['hp'] = df['hp'].fillna(df['hp'].median())"
   ]
  },
  {
   "cell_type": "code",
   "execution_count": 26,
   "id": "16894ace",
   "metadata": {},
   "outputs": [
    {
     "data": {
      "text/plain": [
       "0.9324091766293578"
      ]
     },
     "execution_count": 26,
     "metadata": {},
     "output_type": "execute_result"
    }
   ],
   "source": [
    "df['hp'].skew()"
   ]
  },
  {
   "cell_type": "markdown",
   "id": "7d8e57ed",
   "metadata": {},
   "source": [
    "### iv) fuel_type  ---- confusion regarding - and not supported"
   ]
  },
  {
   "cell_type": "code",
   "execution_count": 27,
   "id": "3366a79a",
   "metadata": {},
   "outputs": [
    {
     "data": {
      "text/plain": [
       "array(['gasoline', 'e85 flex fuel', nan, 'hybrid', 'diesel',\n",
       "       'plug-in hybrid', '–', 'not supported'], dtype=object)"
      ]
     },
     "execution_count": 27,
     "metadata": {},
     "output_type": "execute_result"
    }
   ],
   "source": [
    "df['fuel_type'].unique()"
   ]
  },
  {
   "cell_type": "code",
   "execution_count": 69,
   "id": "0d976a27",
   "metadata": {},
   "outputs": [
    {
     "data": {
      "text/plain": [
       "314223"
      ]
     },
     "execution_count": 69,
     "metadata": {},
     "output_type": "execute_result"
    }
   ],
   "source": [
    "len(df['fuel_type'] == 'nan')"
   ]
  },
  {
   "cell_type": "code",
   "execution_count": 70,
   "id": "803c13d2",
   "metadata": {},
   "outputs": [],
   "source": [
    "df['fuel_type'] = df['fuel_type'].fillna(df['fuel_type'].mode()[0])"
   ]
  },
  {
   "cell_type": "code",
   "execution_count": 76,
   "id": "9fb888da",
   "metadata": {},
   "outputs": [
    {
     "ename": "ValueError",
     "evalue": "The truth value of a Series is ambiguous. Use a.empty, a.bool(), a.item(), a.any() or a.all().",
     "output_type": "error",
     "traceback": [
      "\u001b[1;31m---------------------------------------------------------------------------\u001b[0m",
      "\u001b[1;31mValueError\u001b[0m                                Traceback (most recent call last)",
      "Cell \u001b[1;32mIn[76], line 3\u001b[0m\n\u001b[0;32m      1\u001b[0m df[\u001b[38;5;124m'\u001b[39m\u001b[38;5;124mfuel_type\u001b[39m\u001b[38;5;124m'\u001b[39m] \u001b[38;5;241m=\u001b[39m df[\u001b[38;5;124m'\u001b[39m\u001b[38;5;124mfuel_type\u001b[39m\u001b[38;5;124m'\u001b[39m]\u001b[38;5;241m.\u001b[39mreplace([\u001b[38;5;124m'\u001b[39m\u001b[38;5;124mnot supported\u001b[39m\u001b[38;5;124m'\u001b[39m],\u001b[38;5;124m'\u001b[39m\u001b[38;5;124mothers\u001b[39m\u001b[38;5;124m'\u001b[39m)\n\u001b[0;32m      2\u001b[0m \u001b[38;5;28;01mfor\u001b[39;00m i \u001b[38;5;129;01min\u001b[39;00m \u001b[38;5;28mrange\u001b[39m(df\u001b[38;5;241m.\u001b[39mshape[\u001b[38;5;241m0\u001b[39m]):\n\u001b[1;32m----> 3\u001b[0m     \u001b[38;5;28;01mif\u001b[39;00m df\u001b[38;5;241m.\u001b[39mloc[i,\u001b[38;5;124m'\u001b[39m\u001b[38;5;124mfuel_type\u001b[39m\u001b[38;5;124m'\u001b[39m] \u001b[38;5;241m==\u001b[39m \u001b[38;5;124m'\u001b[39m\u001b[38;5;124m-\u001b[39m\u001b[38;5;124m'\u001b[39m:\n\u001b[0;32m      4\u001b[0m         df\u001b[38;5;241m.\u001b[39mloc[i,\u001b[38;5;124m'\u001b[39m\u001b[38;5;124mfuel_type\u001b[39m\u001b[38;5;124m'\u001b[39m] \u001b[38;5;241m=\u001b[39m \u001b[38;5;124m'\u001b[39m\u001b[38;5;124mothers\u001b[39m\u001b[38;5;124m'\u001b[39m\n",
      "File \u001b[1;32m~\\anaconda3\\Lib\\site-packages\\pandas\\core\\generic.py:1527\u001b[0m, in \u001b[0;36mNDFrame.__nonzero__\u001b[1;34m(self)\u001b[0m\n\u001b[0;32m   1525\u001b[0m \u001b[38;5;129m@final\u001b[39m\n\u001b[0;32m   1526\u001b[0m \u001b[38;5;28;01mdef\u001b[39;00m \u001b[38;5;21m__nonzero__\u001b[39m(\u001b[38;5;28mself\u001b[39m) \u001b[38;5;241m-\u001b[39m\u001b[38;5;241m>\u001b[39m NoReturn:\n\u001b[1;32m-> 1527\u001b[0m     \u001b[38;5;28;01mraise\u001b[39;00m \u001b[38;5;167;01mValueError\u001b[39;00m(\n\u001b[0;32m   1528\u001b[0m         \u001b[38;5;124mf\u001b[39m\u001b[38;5;124m\"\u001b[39m\u001b[38;5;124mThe truth value of a \u001b[39m\u001b[38;5;132;01m{\u001b[39;00m\u001b[38;5;28mtype\u001b[39m(\u001b[38;5;28mself\u001b[39m)\u001b[38;5;241m.\u001b[39m\u001b[38;5;18m__name__\u001b[39m\u001b[38;5;132;01m}\u001b[39;00m\u001b[38;5;124m is ambiguous. \u001b[39m\u001b[38;5;124m\"\u001b[39m\n\u001b[0;32m   1529\u001b[0m         \u001b[38;5;124m\"\u001b[39m\u001b[38;5;124mUse a.empty, a.bool(), a.item(), a.any() or a.all().\u001b[39m\u001b[38;5;124m\"\u001b[39m\n\u001b[0;32m   1530\u001b[0m     )\n",
      "\u001b[1;31mValueError\u001b[0m: The truth value of a Series is ambiguous. Use a.empty, a.bool(), a.item(), a.any() or a.all()."
     ]
    }
   ],
   "source": [
    "df['fuel_type'] = df['fuel_type'].replace(['not supported'],'others')\n",
    "for i in range(df.shape[0]):\n",
    "    if df.loc[i,'fuel_type'] == '-':\n",
    "        df.loc[i,'fuel_type'] = 'others'"
   ]
  },
  {
   "cell_type": "code",
   "execution_count": 74,
   "id": "22bbe936",
   "metadata": {},
   "outputs": [
    {
     "data": {
      "image/png": "[encoded data removed]",
      "text/plain": [
       "<Figure size 1000x600 with 1 Axes>"
      ]
     },
     "metadata": {},
     "output_type": "display_data"
    }
   ],
   "source": [
    "plt.figure(figsize=(10,6))\n",
    "sns.barplot(x='fuel_type',y='price',data=df)\n",
    "plt.tight_layout()\n",
    "\n",
    "# needed to handle null but got stuck with categories like '-' and 'not supported'"
   ]
  },
  {
   "cell_type": "code",
   "execution_count": 64,
   "id": "cb9b61e0",
   "metadata": {},
   "outputs": [
    {
     "name": "stderr",
     "output_type": "stream",
     "text": [
      "C:\\Users\\Mayank\\AppData\\Local\\Temp\\ipykernel_16380\\4277794465.py:1: FutureWarning: The default value of numeric_only in DataFrame.corr is deprecated. In a future version, it will default to False. Select only valid columns or specify the value of numeric_only to silence this warning.\n",
      "  sns.heatmap(df.corr(),annot=True)\n"
     ]
    },
    {
     "data": {
      "text/plain": [
       "<Axes: >"
      ]
     },
     "execution_count": 64,
     "metadata": {},
     "output_type": "execute_result"
    },
    {
     "data": {
      "image/png": "[encoded data removed]",
      "text/plain": [
       "<Figure size 640x480 with 2 Axes>"
      ]
     },
     "metadata": {},
     "output_type": "display_data"
    }
   ],
   "source": [
    "sns.heatmap(df.corr(),annot=True)"
   ]
  },
  {
   "cell_type": "code",
   "execution_count": 62,
   "id": "8454d5f7",
   "metadata": {
    "scrolled": false
   },
   "outputs": [
    {
     "name": "stderr",
     "output_type": "stream",
     "text": [
      "C:\\Users\\Mayank\\AppData\\Local\\Temp\\ipykernel_16380\\441180871.py:1: FutureWarning: The default value of numeric_only in DataFrame.corr is deprecated. In a future version, it will default to False. Select only valid columns or specify the value of numeric_only to silence this warning.\n",
      "  df.corr()['price']\n"
     ]
    },
    {
     "data": {
      "text/plain": [
       "model_year    0.170135\n",
       "milage       -0.207208\n",
       "price         1.000000\n",
       "hp            0.152095\n",
       "litre         0.069639\n",
       "cyclinder     0.074278\n",
       "Name: price, dtype: float64"
      ]
     },
     "execution_count": 62,
     "metadata": {},
     "output_type": "execute_result"
    }
   ],
   "source": [
    "df.corr()['price']"
   ]
  },
  {
   "cell_type": "code",
   "execution_count": 61,
   "id": "2b5854a3",
   "metadata": {},
   "outputs": [
    {
     "data": {
      "text/plain": [
       "Index(['brand', 'model', 'model_year', 'milage', 'fuel_type', 'transmission',\n",
       "       'ext_col', 'int_col', 'accident', 'clean_title', 'price', 'hp', 'litre',\n",
       "       'cyclinder'],\n",
       "      dtype='object')"
      ]
     },
     "execution_count": 61,
     "metadata": {},
     "output_type": "execute_result"
    }
   ],
   "source": [
    "df.columns"
   ]
  },
  {
   "cell_type": "markdown",
   "id": "d193549f",
   "metadata": {},
   "source": [
    "## 6. EDA wrt transmission"
   ]
  },
  {
   "cell_type": "code",
   "execution_count": 29,
   "id": "756ec546",
   "metadata": {},
   "outputs": [
    {
     "data": {
      "text/plain": [
       "a/t                                                   83036\n",
       "8-speed a/t                                           34601\n",
       "transmission w/dual shift mode                        32079\n",
       "6-speed a/t                                           30105\n",
       "6-speed m/t                                           19863\n",
       "7-speed a/t                                           18498\n",
       "automatic                                             17866\n",
       "8-speed automatic                                     13977\n",
       "10-speed a/t                                          13347\n",
       "9-speed a/t                                            6450\n",
       "5-speed a/t                                            5458\n",
       "10-speed automatic                                     5268\n",
       "6-speed automatic                                      4690\n",
       "4-speed a/t                                            4212\n",
       "5-speed m/t                                            4048\n",
       "9-speed automatic                                      3878\n",
       "cvt transmission                                       3327\n",
       "1-speed a/t                                            3160\n",
       "7-speed automatic with auto-shift                      1972\n",
       "m/t                                                    1920\n",
       "automatic cvt                                          1370\n",
       "8-speed automatic with auto-shift                       894\n",
       "7-speed m/t                                             635\n",
       "1-speed automatic                                       600\n",
       "6-speed manual                                          341\n",
       "7-speed automatic                                       290\n",
       "5-speed automatic                                       290\n",
       "transmission overdrive switch                           280\n",
       "7-speed manual                                          240\n",
       "6-speed automatic with auto-shift                       173\n",
       "2                                                       155\n",
       "–                                                       127\n",
       "variable                                                124\n",
       "2-speed a/t                                             116\n",
       "f                                                       107\n",
       "4-speed automatic                                        83\n",
       "10-speed automatic with overdrive                        79\n",
       "6 speed mt                                               66\n",
       "9-speed automatic with auto-shift                        61\n",
       "6-speed electronically controlled automatic with o       60\n",
       "8-speed manual                                           51\n",
       "7-speed                                                  50\n",
       "manual                                                   45\n",
       "6-speed                                                  41\n",
       "2-speed automatic                                        35\n",
       "6 speed at/mt                                            34\n",
       "7-speed dct automatic                                    29\n",
       "single-speed fixed gear                                  28\n",
       "cvt-f                                                    27\n",
       "8-speed at                                               22\n",
       "scheduled for or in production                           15\n",
       "Name: transmission, dtype: int64"
      ]
     },
     "execution_count": 29,
     "metadata": {},
     "output_type": "execute_result"
    }
   ],
   "source": [
    "df['transmission'].value_counts()\n",
    "# we can apply one hot encoding for categories having value count greate than 10,000\n",
    "# and remaing categories will be in another encoded column"
   ]
  },
  {
   "cell_type": "code",
   "execution_count": 30,
   "id": "fa99907e",
   "metadata": {},
   "outputs": [
    {
     "data": {
      "text/plain": [
       "array(['a/t', 'transmission w/dual shift mode', '7-speed a/t',\n",
       "       '8-speed a/t', '10-speed automatic', '1-speed a/t', '6-speed a/t',\n",
       "       '10-speed a/t', '9-speed a/t', '8-speed automatic',\n",
       "       '9-speed automatic', '5-speed a/t', 'automatic',\n",
       "       '7-speed automatic with auto-shift', 'cvt transmission',\n",
       "       '5-speed m/t', 'm/t', '6-speed m/t', '6-speed automatic',\n",
       "       '4-speed automatic', '7-speed m/t', '2-speed a/t',\n",
       "       '1-speed automatic', 'automatic cvt', '4-speed a/t',\n",
       "       '6-speed manual', 'transmission overdrive switch',\n",
       "       '8-speed automatic with auto-shift', '7-speed manual',\n",
       "       '7-speed automatic', '9-speed automatic with auto-shift',\n",
       "       '6-speed automatic with auto-shift',\n",
       "       '6-speed electronically controlled automatic with o', 'f', 'cvt-f',\n",
       "       '8-speed manual', 'manual', '–', '2', '6 speed at/mt',\n",
       "       '5-speed automatic', '2-speed automatic', '7-speed', 'variable',\n",
       "       'single-speed fixed gear', '8-speed at',\n",
       "       '10-speed automatic with overdrive', '7-speed dct automatic',\n",
       "       'scheduled for or in production', '6-speed', '6 speed mt'],\n",
       "      dtype=object)"
      ]
     },
     "execution_count": 30,
     "metadata": {},
     "output_type": "execute_result"
    }
   ],
   "source": [
    "df['transmission'].unique()"
   ]
  },
  {
   "cell_type": "code",
   "execution_count": null,
   "id": "8f5c0fec",
   "metadata": {},
   "outputs": [],
   "source": []
  },
  {
   "cell_type": "code",
   "execution_count": null,
   "id": "78780523",
   "metadata": {},
   "outputs": [],
   "source": []
  },
  {
   "cell_type": "markdown",
   "id": "5c16aee2",
   "metadata": {},
   "source": [
    "## Pre-Processing"
   ]
  },
  {
   "cell_type": "markdown",
   "id": "9eaed1d7",
   "metadata": {},
   "source": [
    "### Engine ------------------------->"
   ]
  },
  {
   "cell_type": "code",
   "execution_count": 31,
   "id": "e9920f00",
   "metadata": {
    "scrolled": true
   },
   "outputs": [
    {
     "data": {
      "text/html": [
       "<div>\n",
       "<style scoped>\n",
       "    .dataframe tbody tr th:only-of-type {\n",
       "        vertical-align: middle;\n",
       "    }\n",
       "\n",
       "    .dataframe tbody tr th {\n",
       "        vertical-align: top;\n",
       "    }\n",
       "\n",
       "    .dataframe thead th {\n",
       "        text-align: right;\n",
       "    }\n",
       "</style>\n",
       "<table border=\"1\" class=\"dataframe\">\n",
       "  <thead>\n",
       "    <tr style=\"text-align: right;\">\n",
       "      <th></th>\n",
       "      <th>brand</th>\n",
       "      <th>model</th>\n",
       "      <th>model_year</th>\n",
       "      <th>milage</th>\n",
       "      <th>fuel_type</th>\n",
       "      <th>transmission</th>\n",
       "      <th>ext_col</th>\n",
       "      <th>int_col</th>\n",
       "      <th>accident</th>\n",
       "      <th>clean_title</th>\n",
       "      <th>price</th>\n",
       "      <th>hp</th>\n",
       "      <th>litre</th>\n",
       "      <th>cyclinder</th>\n",
       "    </tr>\n",
       "  </thead>\n",
       "  <tbody>\n",
       "    <tr>\n",
       "      <th>0</th>\n",
       "      <td>mini</td>\n",
       "      <td>cooper s base</td>\n",
       "      <td>2007</td>\n",
       "      <td>213000</td>\n",
       "      <td>gasoline</td>\n",
       "      <td>a/t</td>\n",
       "      <td>yellow</td>\n",
       "      <td>gray</td>\n",
       "      <td>none reported</td>\n",
       "      <td>yes</td>\n",
       "      <td>4200</td>\n",
       "      <td>172.0</td>\n",
       "      <td>1.6</td>\n",
       "      <td>4.0</td>\n",
       "    </tr>\n",
       "    <tr>\n",
       "      <th>1</th>\n",
       "      <td>lincoln</td>\n",
       "      <td>ls v8</td>\n",
       "      <td>2002</td>\n",
       "      <td>143250</td>\n",
       "      <td>gasoline</td>\n",
       "      <td>a/t</td>\n",
       "      <td>silver</td>\n",
       "      <td>beige</td>\n",
       "      <td>at least 1 accident or damage reported</td>\n",
       "      <td>yes</td>\n",
       "      <td>4999</td>\n",
       "      <td>252.0</td>\n",
       "      <td>3.9</td>\n",
       "      <td>8.0</td>\n",
       "    </tr>\n",
       "    <tr>\n",
       "      <th>2</th>\n",
       "      <td>chevrolet</td>\n",
       "      <td>silverado 2500 lt</td>\n",
       "      <td>2002</td>\n",
       "      <td>136731</td>\n",
       "      <td>e85 flex fuel</td>\n",
       "      <td>a/t</td>\n",
       "      <td>blue</td>\n",
       "      <td>gray</td>\n",
       "      <td>none reported</td>\n",
       "      <td>yes</td>\n",
       "      <td>13900</td>\n",
       "      <td>320.0</td>\n",
       "      <td>5.3</td>\n",
       "      <td>8.0</td>\n",
       "    </tr>\n",
       "    <tr>\n",
       "      <th>3</th>\n",
       "      <td>genesis</td>\n",
       "      <td>g90 5.0 ultimate</td>\n",
       "      <td>2017</td>\n",
       "      <td>19500</td>\n",
       "      <td>gasoline</td>\n",
       "      <td>transmission w/dual shift mode</td>\n",
       "      <td>black</td>\n",
       "      <td>black</td>\n",
       "      <td>none reported</td>\n",
       "      <td>yes</td>\n",
       "      <td>45000</td>\n",
       "      <td>420.0</td>\n",
       "      <td>5.0</td>\n",
       "      <td>8.0</td>\n",
       "    </tr>\n",
       "  </tbody>\n",
       "</table>\n",
       "</div>"
      ],
      "text/plain": [
       "       brand              model  model_year  milage      fuel_type  \\\n",
       "0       mini      cooper s base        2007  213000       gasoline   \n",
       "1    lincoln              ls v8        2002  143250       gasoline   \n",
       "2  chevrolet  silverado 2500 lt        2002  136731  e85 flex fuel   \n",
       "3    genesis   g90 5.0 ultimate        2017   19500       gasoline   \n",
       "\n",
       "                     transmission ext_col int_col  \\\n",
       "0                             a/t  yellow    gray   \n",
       "1                             a/t  silver   beige   \n",
       "2                             a/t    blue    gray   \n",
       "3  transmission w/dual shift mode   black   black   \n",
       "\n",
       "                                 accident clean_title  price     hp  litre  \\\n",
       "0                           none reported         yes   4200  172.0    1.6   \n",
       "1  at least 1 accident or damage reported         yes   4999  252.0    3.9   \n",
       "2                           none reported         yes  13900  320.0    5.3   \n",
       "3                           none reported         yes  45000  420.0    5.0   \n",
       "\n",
       "   cyclinder  \n",
       "0        4.0  \n",
       "1        8.0  \n",
       "2        8.0  \n",
       "3        8.0  "
      ]
     },
     "execution_count": 31,
     "metadata": {},
     "output_type": "execute_result"
    }
   ],
   "source": [
    "df.head(4)"
   ]
  },
  {
   "cell_type": "code",
   "execution_count": 32,
   "id": "00707efa",
   "metadata": {},
   "outputs": [
    {
     "data": {
      "text/plain": [
       "brand            0.000000\n",
       "model            0.000000\n",
       "model_year       0.000000\n",
       "milage           0.000000\n",
       "fuel_type        2.694265\n",
       "transmission     0.000000\n",
       "ext_col          0.000000\n",
       "int_col          0.000000\n",
       "accident         1.299714\n",
       "clean_title     11.347992\n",
       "price            0.000000\n",
       "hp               0.000000\n",
       "litre            0.000000\n",
       "cyclinder        0.000000\n",
       "dtype: float64"
      ]
     },
     "execution_count": 32,
     "metadata": {},
     "output_type": "execute_result"
    }
   ],
   "source": [
    "df.isnull().mean()*100"
   ]
  },
  {
   "cell_type": "code",
   "execution_count": null,
   "id": "d0af554b",
   "metadata": {},
   "outputs": [],
   "source": []
  },
  {
   "cell_type": "code",
   "execution_count": null,
   "id": "26124ede",
   "metadata": {},
   "outputs": [],
   "source": []
  },
  {
   "cell_type": "code",
   "execution_count": 33,
   "id": "7436276a",
   "metadata": {},
   "outputs": [
    {
     "name": "stdout",
     "output_type": "stream",
     "text": [
      "[1.6       3.9       5.3       5.        2.        3.        2.7\n",
      " 3.6       3.8046063 6.2       4.4       4.        4.6       5.2\n",
      " 3.7       5.7       6.7       3.5       2.8       5.5       5.4\n",
      " 6.8       3.8       2.5       3.4       2.4       3.3       2.3\n",
      " 3.2       4.7       1.8       6.        4.8       5.6       4.3\n",
      " 4.2       1.5       6.4       8.3       6.3       2.1       1.4\n",
      " 4.5       1.3       2.9       1.7       6.6       2.2       6.1\n",
      " 7.3       6.5       0.65      6.75      7.        1.        5.9\n",
      " 8.1       5.8       1.2       8.4       8.        7.4      ]\n",
      "[ 4.          8.          6.          6.37355205 10.         12.\n",
      "  5.          3.        ]\n"
     ]
    }
   ],
   "source": [
    "print(df['litre'].unique())\n",
    "print(df['cyclinder'].unique())"
   ]
  },
  {
   "cell_type": "code",
   "execution_count": 34,
   "id": "bc38b9e9",
   "metadata": {},
   "outputs": [
    {
     "name": "stdout",
     "output_type": "stream",
     "text": [
      "       litre  cyclinder\n",
      "1686    0.65   6.373552\n",
      "7262    0.65   6.373552\n",
      "7766    0.65   6.373552\n",
      "11441   0.65   6.373552\n",
      "13393   0.65   6.373552\n",
      "        litre  cyclinder\n",
      "3286      1.0        3.0\n",
      "107057    1.0        3.0\n",
      "120372    1.0        3.0\n",
      "       litre  cyclinder\n",
      "9091     1.2   6.373552\n",
      "11738    1.2   6.373552\n",
      "30055    1.2   6.373552\n",
      "33311    1.2   6.373552\n",
      "35583    1.2   6.373552\n",
      "      litre  cyclinder\n",
      "548     1.3   6.373552\n",
      "1419    1.3   6.373552\n",
      "3758    1.3   6.373552\n",
      "3774    1.3   6.373552\n",
      "5163    1.3   6.373552\n",
      "      litre  cyclinder\n",
      "467     1.4        4.0\n",
      "659     1.4        4.0\n",
      "1229    1.4        4.0\n",
      "1309    1.4        4.0\n",
      "1794    1.4        4.0\n",
      "      litre  cyclinder\n",
      "360     1.5   6.373552\n",
      "820     1.5   6.373552\n",
      "1605    1.5   3.000000\n",
      "1738    1.5   4.000000\n",
      "2225    1.5   4.000000\n",
      "      litre  cyclinder\n",
      "0       1.6        4.0\n",
      "90      1.6        4.0\n",
      "397     1.6        4.0\n",
      "728     1.6        4.0\n",
      "1184    1.6        4.0\n",
      "       litre  cyclinder\n",
      "752      1.7        4.0\n",
      "7053     1.7        4.0\n",
      "7701     1.7        4.0\n",
      "15148    1.7        4.0\n",
      "20590    1.7        4.0\n",
      "     litre  cyclinder\n",
      "108    1.8        4.0\n",
      "339    1.8        4.0\n",
      "386    1.8        4.0\n",
      "406    1.8        4.0\n",
      "575    1.8        4.0\n",
      "    litre  cyclinder\n",
      "4     2.0        4.0\n",
      "5     2.0        4.0\n",
      "24    2.0        4.0\n",
      "29    2.0        4.0\n",
      "30    2.0        4.0\n",
      "       litre  cyclinder\n",
      "462      2.1        4.0\n",
      "3664     2.1        4.0\n",
      "8118     2.1        4.0\n",
      "10550    2.1        4.0\n",
      "15951    2.1        4.0\n",
      "      litre  cyclinder\n",
      "913     2.2        4.0\n",
      "1753    2.2        4.0\n",
      "2270    2.2        4.0\n",
      "4176    2.2        4.0\n",
      "7440    2.2        4.0\n",
      "     litre  cyclinder\n",
      "85     2.3   4.000000\n",
      "89     2.3   4.000000\n",
      "143    2.3   4.000000\n",
      "147    2.3   6.373552\n",
      "206    2.3   4.000000\n",
      "     litre  cyclinder\n",
      "74     2.4   4.000000\n",
      "81     2.4   4.000000\n",
      "111    2.4   6.373552\n",
      "136    2.4   4.000000\n",
      "264    2.4   4.000000\n",
      "     litre  cyclinder\n",
      "68     2.5        4.0\n",
      "132    2.5        4.0\n",
      "193    2.5        6.0\n",
      "216    2.5        4.0\n",
      "221    2.5        4.0\n",
      "     litre  cyclinder\n",
      "8      2.7   6.373552\n",
      "115    2.7   6.000000\n",
      "295    2.7   6.000000\n",
      "362    2.7   6.000000\n",
      "395    2.7   6.000000\n",
      "      litre  cyclinder\n",
      "34      2.8        6.0\n",
      "348     2.8        6.0\n",
      "1097    2.8        6.0\n",
      "3224    2.8        6.0\n",
      "5078    2.8        6.0\n",
      "      litre  cyclinder\n",
      "560     2.9        6.0\n",
      "1046    2.9        6.0\n",
      "1451    2.9        6.0\n",
      "2172    2.9        6.0\n",
      "2173    2.9        6.0\n",
      "    litre  cyclinder\n",
      "6     3.0        6.0\n",
      "9     3.0        6.0\n",
      "13    3.0        6.0\n",
      "17    3.0        6.0\n",
      "23    3.0        6.0\n",
      "     litre  cyclinder\n",
      "104    3.2        6.0\n",
      "128    3.2        6.0\n",
      "333    3.2        6.0\n",
      "491    3.2        6.0\n",
      "647    3.2        6.0\n",
      "      litre  cyclinder\n",
      "76      3.3   6.000000\n",
      "141     3.3   6.000000\n",
      "823     3.3   6.373552\n",
      "992     3.3   6.000000\n",
      "1101    3.3   6.000000\n",
      "     litre  cyclinder\n",
      "72     3.4   6.373552\n",
      "146    3.4   6.000000\n",
      "413    3.4   6.000000\n",
      "459    3.4   6.373552\n",
      "566    3.4   6.000000\n",
      "    litre  cyclinder\n",
      "33    3.5   6.000000\n",
      "50    3.5   6.000000\n",
      "69    3.5   6.000000\n",
      "71    3.5   6.000000\n",
      "84    3.5   6.373552\n",
      "     litre  cyclinder\n",
      "10     3.6   6.000000\n",
      "39     3.6   6.373552\n",
      "55     3.6   6.000000\n",
      "61     3.6   6.000000\n",
      "121    3.6   6.000000\n",
      "     litre  cyclinder\n",
      "22     3.7        6.0\n",
      "120    3.7        6.0\n",
      "124    3.7        6.0\n",
      "135    3.7        6.0\n",
      "183    3.7        6.0\n",
      "     litre  cyclinder\n",
      "53     3.8   6.000000\n",
      "70     3.8   6.373552\n",
      "75     3.8   6.000000\n",
      "142    3.8   6.000000\n",
      "162    3.8   6.000000\n",
      "       litre  cyclinder\n",
      "11  3.804606   6.373552\n",
      "32  3.804606   6.373552\n",
      "44  3.804606   6.373552\n",
      "51  3.804606   6.373552\n",
      "52  3.804606   6.373552\n",
      "      litre  cyclinder\n",
      "1       3.9        8.0\n",
      "57      3.9        8.0\n",
      "1466    3.9        8.0\n",
      "2086    3.9        6.0\n",
      "3424    3.9        8.0\n",
      "    litre  cyclinder\n",
      "15    4.0   8.000000\n",
      "19    4.0   8.000000\n",
      "28    4.0   6.000000\n",
      "43    4.0   6.373552\n",
      "67    4.0   8.000000\n",
      "      litre  cyclinder\n",
      "214     4.2        8.0\n",
      "616     4.2        8.0\n",
      "1685    4.2        8.0\n",
      "1706    4.2        8.0\n",
      "1813    4.2        8.0\n",
      "      litre  cyclinder\n",
      "182     4.3        6.0\n",
      "1059    4.3        6.0\n",
      "1171    4.3        6.0\n",
      "1704    4.3        8.0\n",
      "2028    4.3        8.0\n",
      "     litre  cyclinder\n",
      "14     4.4        8.0\n",
      "54     4.4        8.0\n",
      "58     4.4        8.0\n",
      "64     4.4        8.0\n",
      "110    4.4        8.0\n",
      "       litre  cyclinder\n",
      "531      4.5        6.0\n",
      "9814     4.5        6.0\n",
      "21877    4.5        8.0\n",
      "29163    4.5        6.0\n",
      "42366    4.5        8.0\n",
      "     litre  cyclinder\n",
      "18     4.6        8.0\n",
      "92     4.6        8.0\n",
      "171    4.6        8.0\n",
      "222    4.6        8.0\n",
      "246    4.6        8.0\n",
      "     litre  cyclinder\n",
      "105    4.7        8.0\n",
      "118    4.7        8.0\n",
      "252    4.7        8.0\n",
      "267    4.7        8.0\n",
      "288    4.7        8.0\n",
      "     litre  cyclinder\n",
      "165    4.8        8.0\n",
      "191    4.8        8.0\n",
      "224    4.8        8.0\n",
      "241    4.8        8.0\n",
      "486    4.8        8.0\n",
      "    litre  cyclinder\n",
      "3     5.0        8.0\n",
      "21    5.0        8.0\n",
      "27    5.0        8.0\n",
      "59    5.0        8.0\n",
      "77    5.0        8.0\n",
      "     litre  cyclinder\n",
      "20     5.2   6.373552\n",
      "292    5.2  10.000000\n",
      "499    5.2   8.000000\n",
      "507    5.2   8.000000\n",
      "676    5.2   8.000000\n",
      "     litre  cyclinder\n",
      "2      5.3        8.0\n",
      "7      5.3        8.0\n",
      "63     5.3        8.0\n",
      "99     5.3        8.0\n",
      "102    5.3        8.0\n",
      "     litre  cyclinder\n",
      "46     5.4        8.0\n",
      "185    5.4        8.0\n",
      "370    5.4        8.0\n",
      "405    5.4        8.0\n",
      "975    5.4        8.0\n",
      "     litre  cyclinder\n",
      "37     5.5        8.0\n",
      "101    5.5        8.0\n",
      "294    5.5        8.0\n",
      "305    5.5        8.0\n",
      "354    5.5        8.0\n",
      "      litre  cyclinder\n",
      "177     5.6   8.000000\n",
      "233     5.6   8.000000\n",
      "403     5.6   8.000000\n",
      "748     5.6   8.000000\n",
      "1065    5.6   6.373552\n",
      "     litre  cyclinder\n",
      "25     5.7   8.000000\n",
      "45     5.7   6.373552\n",
      "96     5.7   8.000000\n",
      "127    5.7   8.000000\n",
      "156    5.7   8.000000\n",
      "       litre  cyclinder\n",
      "8327     5.8   8.000000\n",
      "33493    5.8   8.000000\n",
      "34865    5.8   8.000000\n",
      "36922    5.8   6.373552\n",
      "42619    5.8   6.373552\n",
      "       litre  cyclinder\n",
      "4318     5.9        6.0\n",
      "6325     5.9        8.0\n",
      "7072     5.9       12.0\n",
      "8289     5.9        6.0\n",
      "10453    5.9        8.0\n",
      "     litre  cyclinder\n",
      "133    6.0   6.373552\n",
      "148    6.0   8.000000\n",
      "175    6.0  12.000000\n",
      "199    6.0  12.000000\n",
      "777    6.0   8.000000\n",
      "      litre  cyclinder\n",
      "1047    6.1        8.0\n",
      "1657    6.1        8.0\n",
      "6926    6.1        8.0\n",
      "7075    6.1        8.0\n",
      "7669    6.1        8.0\n",
      "    litre  cyclinder\n",
      "12    6.2        8.0\n",
      "16    6.2        8.0\n",
      "42    6.2        8.0\n",
      "62    6.2        8.0\n",
      "65    6.2        8.0\n",
      "      litre  cyclinder\n",
      "433     6.3   6.373552\n",
      "942     6.3   8.000000\n",
      "2312    6.3   8.000000\n",
      "2465    6.3   8.000000\n",
      "5176    6.3   6.373552\n",
      "     litre  cyclinder\n",
      "361    6.4   8.000000\n",
      "540    6.4   8.000000\n",
      "608    6.4   8.000000\n",
      "614    6.4   6.373552\n",
      "701    6.4   8.000000\n",
      "      litre  cyclinder\n",
      "1554    6.5  12.000000\n",
      "1559    6.5   6.373552\n",
      "1751    6.5  12.000000\n",
      "1769    6.5  12.000000\n",
      "1784    6.5  12.000000\n",
      "      litre  cyclinder\n",
      "759     6.6        8.0\n",
      "909     6.6       12.0\n",
      "1133    6.6        8.0\n",
      "1334    6.6       12.0\n",
      "1588    6.6        8.0\n",
      "     litre  cyclinder\n",
      "26     6.7        8.0\n",
      "41     6.7        8.0\n",
      "87     6.7        6.0\n",
      "353    6.7        6.0\n",
      "358    6.7        8.0\n",
      "       litre  cyclinder\n",
      "2242    6.75        8.0\n",
      "7670    6.75        8.0\n",
      "10469   6.75        8.0\n",
      "14484   6.75        8.0\n",
      "30422   6.75        8.0\n",
      "      litre  cyclinder\n",
      "48      6.8  10.000000\n",
      "113     6.8  10.000000\n",
      "1597    6.8  10.000000\n",
      "3577    6.8   6.373552\n",
      "4018    6.8  10.000000\n",
      "      litre  cyclinder\n",
      "2272    7.0        8.0\n",
      "2520    7.0        8.0\n",
      "3602    7.0        8.0\n",
      "4810    7.0        8.0\n",
      "6057    7.0        8.0\n",
      "      litre  cyclinder\n",
      "1163    7.3        8.0\n",
      "2161    7.3        8.0\n",
      "2389    7.3        8.0\n",
      "2695    7.3        8.0\n",
      "2787    7.3        8.0\n",
      "       litre  cyclinder\n",
      "38897    7.4        8.0\n",
      "54814    7.4        8.0\n",
      "62021    7.4        8.0\n",
      "71278    7.4        8.0\n",
      "85464    7.4        8.0\n",
      "       litre  cyclinder\n",
      "11667    8.0   6.373552\n",
      "26407    8.0   6.373552\n",
      "39164    8.0   6.373552\n",
      "47481    8.0   6.373552\n",
      "61508    8.0   6.373552\n",
      "       litre  cyclinder\n",
      "6706     8.1        8.0\n",
      "7535     8.1        8.0\n",
      "9242     8.1        8.0\n",
      "16231    8.1        8.0\n",
      "26364    8.1        8.0\n",
      "      litre  cyclinder\n",
      "365     8.3       10.0\n",
      "1679    8.3       10.0\n",
      "1804    8.3       10.0\n",
      "3212    8.3       10.0\n",
      "5904    8.3       10.0\n"
     ]
    },
    {
     "name": "stdout",
     "output_type": "stream",
     "text": [
      "       litre  cyclinder\n",
      "10061    8.4       10.0\n",
      "26001    8.4       10.0\n",
      "26942    8.4       10.0\n",
      "39761    8.4       10.0\n",
      "54416    8.4       10.0\n"
     ]
    }
   ],
   "source": [
    "for i in sorted(df['litre'].unique()):\n",
    "    Engine = df[df['litre'] == i][['litre','cyclinder']]\n",
    "    print(Engine.head())"
   ]
  },
  {
   "cell_type": "code",
   "execution_count": 35,
   "id": "58d94e80",
   "metadata": {},
   "outputs": [],
   "source": [
    "# 0.65 - 1.5 --> 3\n",
    "# 1.5 - 2.5 --> 4\n",
    "# 2.7 - 3.9 -- > 6\n",
    "# 4.2 - 7.4 -- > 8\n",
    "# 8.0 - 8.4 -- > 10"
   ]
  },
  {
   "cell_type": "code",
   "execution_count": 36,
   "id": "f1a254d6",
   "metadata": {},
   "outputs": [],
   "source": [
    "# 1: litre and cylinder -->  fill vallue: central tendenyc\n",
    "# 2: manullay impurte -->"
   ]
  },
  {
   "cell_type": "markdown",
   "id": "936e5c81",
   "metadata": {},
   "source": [
    "#----------------------------------------"
   ]
  },
  {
   "cell_type": "code",
   "execution_count": 37,
   "id": "8915b909",
   "metadata": {},
   "outputs": [
    {
     "name": "stdout",
     "output_type": "stream",
     "text": [
      "[1.0, 1.6] 3.0\n",
      "[1.4, 2.7] 4.0\n",
      "[2.5, 3.7] 5.0\n",
      "[2.5, 6.7] 6.0\n",
      "[0.65, 8.0] 6.373552054391007\n",
      "[3.8, 8.1] 8.0\n",
      "[5.0, 8.4] 10.0\n",
      "[3.8046063000254633, 6.7] 12.0\n"
     ]
    }
   ],
   "source": [
    "for i in sorted(df['cyclinder'].unique()):\n",
    "    Engine = df[df['cyclinder'] == i][['litre','cyclinder']]\n",
    "    print([Engine['litre'].min() , Engine['litre'].max()] , i)"
   ]
  },
  {
   "cell_type": "code",
   "execution_count": 38,
   "id": "8454dbd7",
   "metadata": {},
   "outputs": [],
   "source": [
    "## we will impute this value in this perticular range ok!!"
   ]
  },
  {
   "cell_type": "code",
   "execution_count": 39,
   "id": "74c5452f",
   "metadata": {},
   "outputs": [],
   "source": [
    "## we have to also try nan removal approach"
   ]
  },
  {
   "cell_type": "code",
   "execution_count": null,
   "id": "056bf265",
   "metadata": {},
   "outputs": [],
   "source": []
  },
  {
   "cell_type": "code",
   "execution_count": 40,
   "id": "6d697eda",
   "metadata": {},
   "outputs": [],
   "source": [
    "#------------- CENTRAN TENDENCY INPITE"
   ]
  },
  {
   "cell_type": "code",
   "execution_count": 41,
   "id": "15c69a1b",
   "metadata": {},
   "outputs": [
    {
     "data": {
      "text/plain": [
       "11.3479917128918"
      ]
     },
     "execution_count": 41,
     "metadata": {},
     "output_type": "execute_result"
    }
   ],
   "source": [
    "df['clean_title'].isnull().sum()/len(df)*100"
   ]
  },
  {
   "cell_type": "code",
   "execution_count": 42,
   "id": "e27bd3e9",
   "metadata": {},
   "outputs": [
    {
     "data": {
      "text/plain": [
       "0.9324091766293578"
      ]
     },
     "execution_count": 42,
     "metadata": {},
     "output_type": "execute_result"
    }
   ],
   "source": [
    "df['hp'].skew()"
   ]
  },
  {
   "cell_type": "code",
   "execution_count": 43,
   "id": "f3dc59e0",
   "metadata": {},
   "outputs": [
    {
     "name": "stderr",
     "output_type": "stream",
     "text": [
      "C:\\Users\\Mayank\\AppData\\Local\\Temp\\ipykernel_16380\\432275835.py:1: UserWarning: \n",
      "\n",
      "`distplot` is a deprecated function and will be removed in seaborn v0.14.0.\n",
      "\n",
      "Please adapt your code to use either `displot` (a figure-level function with\n",
      "similar flexibility) or `histplot` (an axes-level function for histograms).\n",
      "\n",
      "For a guide to updating your code to use the new functions, please see\n",
      "https://gist.github.com/mwaskom/de44147ed2974457ad6372750bbe5751\n",
      "\n",
      "  sns.distplot(df['hp']\n"
     ]
    },
    {
     "data": {
      "text/plain": [
       "<Axes: xlabel='hp', ylabel='Density'>"
      ]
     },
     "execution_count": 43,
     "metadata": {},
     "output_type": "execute_result"
    },
    {
     "data": {
      "image/png": "[encoded data removed]",
      "text/plain": [
       "<Figure size 640x480 with 1 Axes>"
      ]
     },
     "metadata": {},
     "output_type": "display_data"
    }
   ],
   "source": [
    "sns.distplot(df['hp']\n",
    "            )"
   ]
  },
  {
   "cell_type": "code",
   "execution_count": 44,
   "id": "dbd0f25d",
   "metadata": {},
   "outputs": [],
   "source": [
    "## cylinder: mean and median--> skew and graph: --> rule\n",
    "## litre: mean and median--> skew and graph: --> rule\n",
    "## hp: mean and median--> skew and graph: --> rule"
   ]
  },
  {
   "cell_type": "code",
   "execution_count": null,
   "id": "5de95eec",
   "metadata": {},
   "outputs": [],
   "source": []
  },
  {
   "cell_type": "code",
   "execution_count": null,
   "id": "774afcac",
   "metadata": {},
   "outputs": [],
   "source": []
  },
  {
   "cell_type": "code",
   "execution_count": 45,
   "id": "eb2ab959",
   "metadata": {},
   "outputs": [
    {
     "data": {
      "text/plain": [
       "<Axes: xlabel='cyclinder', ylabel='Density'>"
      ]
     },
     "execution_count": 45,
     "metadata": {},
     "output_type": "execute_result"
    },
    {
     "data": {
      "image/png": "[encoded data removed]",
      "text/plain": [
       "<Figure size 640x480 with 1 Axes>"
      ]
     },
     "metadata": {},
     "output_type": "display_data"
    }
   ],
   "source": [
    "sns.kdeplot(df['cyclinder'])"
   ]
  },
  {
   "cell_type": "code",
   "execution_count": null,
   "id": "ea4453a7",
   "metadata": {},
   "outputs": [],
   "source": []
  },
  {
   "cell_type": "code",
   "execution_count": 46,
   "id": "47038ca1",
   "metadata": {},
   "outputs": [],
   "source": [
    "# ----------------------------------------------------------------------------------------------------------------------------"
   ]
  },
  {
   "cell_type": "code",
   "execution_count": null,
   "id": "4105dc89",
   "metadata": {},
   "outputs": [],
   "source": []
  },
  {
   "cell_type": "code",
   "execution_count": 47,
   "id": "f93b47ad",
   "metadata": {},
   "outputs": [],
   "source": [
    "#### ext_col\tint_col------------------>"
   ]
  },
  {
   "cell_type": "code",
   "execution_count": 48,
   "id": "509b60a0",
   "metadata": {},
   "outputs": [],
   "source": [
    "# EDA"
   ]
  },
  {
   "cell_type": "code",
   "execution_count": null,
   "id": "78ba1b8d",
   "metadata": {},
   "outputs": [],
   "source": []
  },
  {
   "cell_type": "code",
   "execution_count": 49,
   "id": "09a80202",
   "metadata": {},
   "outputs": [
    {
     "data": {
      "text/plain": [
       "array(['yellow', 'silver', 'blue', 'black', 'white',\n",
       "       'snowflake white pearl metallic', 'gray', 'green',\n",
       "       'santorini black metallic', 'purple', 'ebony twilight metallic',\n",
       "       'red', 'magnetite black metallic', 'diamond black', 'vega blue',\n",
       "       'beige', 'gold', 'platinum white pearl', 'metallic',\n",
       "       'white frost tri-coat', 'firecracker red clearcoat',\n",
       "       'phytonic blue metallic', 'blu', 'orange', 'brown',\n",
       "       'brilliant silver metallic', 'black raven', 'black clearcoat',\n",
       "       'firenze red', 'agate black metallic', 'glacial white pearl',\n",
       "       'majestic plum metallic', 'designo diamond white metallic',\n",
       "       'oxford white', 'black sapphire metallic', 'mythos black',\n",
       "       'granite crystal clearcoat metallic', 'white diamond tri-coat',\n",
       "       'magnetite gray metallic', 'carpathian grey premium metallic',\n",
       "       'designo diamond white bright',\n",
       "       'phantom black pearl effect / black roof', 'nebula gray pearl',\n",
       "       'deep crystal blue mica', 'flame red clearcoat',\n",
       "       'lunar blue metallic', 'bright white clearcoat',\n",
       "       'rapid red metallic tinted clearcoat', 'caviar',\n",
       "       'dark ash metallic', 'velvet red pearlcoat', 'silver zynith',\n",
       "       'super black', 'antimatter blue metallic',\n",
       "       'dark moon blue metallic', 'summit white', 'ebony black', '–',\n",
       "       'black cherry', 'delmonico red pearlcoat',\n",
       "       'platinum quartz metallic', 'ultra white', 'python green',\n",
       "       'garnet red metallic', 'snow white pearl', 'cajun red tintcoat',\n",
       "       'midnight black metallic', 'diamond white',\n",
       "       'mythos black metallic', 'soul red crystal metallic',\n",
       "       'atomic silver', 'obsidian', 'magnetic metallic',\n",
       "       'twilight blue metallic', 'star white', 'stormy sea',\n",
       "       'tango red metallic', 'hyper red', 'portofino gray',\n",
       "       'manufaktur diamond white bright', 'snowflake white pearl',\n",
       "       'patriot blue pearlcoat', 'tungsten metallic',\n",
       "       'chronos gray metallic', 'silver ice metallic',\n",
       "       'daytona gray pearl effect', 'ruby red metallic tinted clearcoat',\n",
       "       'alpine white', 'eminent white pearl', 'manhattan noir metallic',\n",
       "       'quicksilver metallic', 'stellar black metallic',\n",
       "       'sparkling silver', 'blueprint', 'crystal black silica',\n",
       "       'black noir pearl', 'arancio borealis', 'typhoon gray',\n",
       "       'ibis white', 'graphite grey', 'mineral white', 'midnight black',\n",
       "       'northsky blue metallic', 'alta white', 'brilliant black',\n",
       "       'jet black mica', 'daytona gray pearl effect w/ black roof',\n",
       "       'redline red', 'glacier silver metallic', 'magnetic black',\n",
       "       'chronos gray', 'red quartz tintcoat', 'nero noctis',\n",
       "       'firenze red metallic', 'iridescent pearl tricoat',\n",
       "       'twilight black', 'radiant red metallic ii', 'blue metallic',\n",
       "       'glacier white', 'daytona gray', 'rosso mars metallic',\n",
       "       'wolf gray', 'santorin black', 'designo magno matte',\n",
       "       'emerald green metallic', 'ruby flare pearl',\n",
       "       'lunar silver metallic', 'eiger grey metallic',\n",
       "       'quartzite grey metallic', 'barcelona red', 'beluga black',\n",
       "       'matador red metallic', 'billet silver metallic clearcoat',\n",
       "       'anodized blue metallic', 'black forest green',\n",
       "       'ice silver metallic', 'sandstone metallic',\n",
       "       'magnetic gray clearcoat', 'crystal black pearl',\n",
       "       'pacific blue metallic', 'stone gray metallic',\n",
       "       'iconic silver metallic', 'dark sapphire', 'onyx',\n",
       "       'aventurine green metallic', 'china blue', 'majestic black pearl',\n",
       "       'midnight silver metallic', 'sting gray clearcoat',\n",
       "       'glacier blue metallic', 'chalk', 'dark matter metallic',\n",
       "       'infrared tintcoat', 'iridium metallic', 'fuji white',\n",
       "       'alfa white', 'kodiak brown metallic', 'aurora black',\n",
       "       'onyx black', 'nightfall gray metallic', 'obsidian black metallic',\n",
       "       'phantom black', 'remington red metallic', 'designo diamond white',\n",
       "       'lizard green', 'rosso corsa', 'shadow gray metallic',\n",
       "       'florett silver', 'quartz white', 'db black clearcoat',\n",
       "       'yulong white', 'eiger grey', 'custom color',\n",
       "       'electric blue metallic', 'tempest', 'lunar rock',\n",
       "       'mosaic black metallic', 'gecko pearlcoat', 'white clearcoat',\n",
       "       'blu eleos', 'granite crystal metallic clearcoat',\n",
       "       'rich garnet metallic', 'graphite grey metallic',\n",
       "       'bianco icarus metallic', 'satin steel metallic',\n",
       "       'moonlight cloud', 'matador red mica', 'emin white',\n",
       "       'machine gray metallic', 'white platinum tri-coat metallic',\n",
       "       'cobra beige metallic', 'cayenne red tintcoat',\n",
       "       'shoreline blue pearl', 'vik black', 'shimmering silver',\n",
       "       'bianco monocerus', 'carbonized gray metallic',\n",
       "       'carrara white metallic', 'dark slate metallic',\n",
       "       'dark graphite metallic', 'sonic silver metallic',\n",
       "       'white knuckle clearcoat', 'titanium silver',\n",
       "       'anthracite blue metallic', 'black obsidian',\n",
       "       'polymetal gray metallic', 'orca black metallic',\n",
       "       'wind chill pearl', 'blue reflex mica', 'dark moss',\n",
       "       'selenite grey metallic', 'kemora gray metallic', 'nightfall mica',\n",
       "       'liquid platinum', 'mountain air metallic', 'kinetic blue',\n",
       "       'santorini black', 'carbon black metallic',\n",
       "       'gentian blue metallic', 'red multi', 'super white', 'pearl white',\n",
       "       'typhoon gray metallic', 'navarra blue metallic', 'bianco isis',\n",
       "       'navarra blue', 'volcano grey metallic', 'arctic gray metallic',\n",
       "       'pure white', 'baltic gray', 'glacier white metallic',\n",
       "       'frozen dark silver metallic', 'magnetic gray metallic',\n",
       "       'gun metallic', 'siren red tintcoat', 'deep blue metallic',\n",
       "       'cirrus silver metallic', 'deep black pearl effect', 'granite',\n",
       "       'sunset drift chromaflair', 'oryx white prl', 'dark gray metallic',\n",
       "       'bayside blue', 'pink', 'ice', 'mango tango pearlcoat',\n",
       "       'burnished bronze metallic', 'verde', 'arctic white',\n",
       "       'portofino blue metallic', 'dazzling white', 'nero daytona',\n",
       "       'nautical blue pearl', 'imperial blue metallic',\n",
       "       'vulcano black metallic', 'silver radiance',\n",
       "       'hellayella clearcoat', 'jungle green', 'c / c', 'yulong',\n",
       "       'pristine white', 'silky silver', 'caspian blue', 'sangria red',\n",
       "       'donington grey metallic', 'apex blue', 'rift metallic',\n",
       "       'fountain blue', 'balloon white', 'matte white', 'frozen white',\n",
       "       'pacific blue', 'rosso', 'ironman silver', 'octane red pearlcoat',\n",
       "       'selenite gray metallic', 'hydro blue pearlcoat',\n",
       "       'ingot silver metallic', 'quartz blue pearl',\n",
       "       'lunare white metallic', 'ember pearlcoat',\n",
       "       'brands hatch gray metallic', 'navarre blue',\n",
       "       'midnight blue metallic', 'shadow black', 'go mango!',\n",
       "       'maximum steel metallic', 'silver flare metallic',\n",
       "       'billet clearcoat metallic', 'hampton gray', 'red obsession',\n",
       "       'silver mist', 'scarlet ember', 'crimson red tintcoat', 'tan',\n",
       "       'isle of man green metallic', 'crystal black', 'glacier',\n",
       "       'iridium silver metallic', 'bronze dune metallic', 'maroon',\n",
       "       'platinum gray metallic', 'passion red', 'silician yellow',\n",
       "       'volcanic orange', 'crystal white pearl', 'reflex silver',\n",
       "       'blue caelum', 'thunder gray', 'ultra black', 'indus silver',\n",
       "       'horizon blue', 'grigio nimbus', 'carpathian grey',\n",
       "       'ametrin metallic', 'jupiter red', 'gt silver'], dtype=object)"
      ]
     },
     "execution_count": 49,
     "metadata": {},
     "output_type": "execute_result"
    }
   ],
   "source": [
    "df['ext_col'].unique()"
   ]
  },
  {
   "cell_type": "code",
   "execution_count": 50,
   "id": "b5b347af",
   "metadata": {},
   "outputs": [
    {
     "data": {
      "text/plain": [
       "array(['gray', 'beige', 'black', '–', 'blue', 'white', 'red', 'brown',\n",
       "       'dark galvanized', 'parchment.', 'boulder', 'orange',\n",
       "       'medium earth gray', 'ebony', 'canberra beige', 'jet black',\n",
       "       'silver', 'light platinum / jet black', 'macchiato/magmagrey',\n",
       "       'gold', 'cloud', 'rioja red', 'global black', 'green',\n",
       "       'medium stone', 'navy pier', 'dark ash', 'portland', 'sandstone',\n",
       "       'canberra beige/black', 'diesel gray / black', 'sarder brown',\n",
       "       'black onyx', 'white / brown', 'black/gun metal', 'slate',\n",
       "       'satin black', 'macchiato beige/black', 'charcoal',\n",
       "       'black / express red', 'cappuccino', 'aragon brown', 'parchment',\n",
       "       'oyster w/contrast', 'adrenaline red', 'ebony.', 'shara beige',\n",
       "       'graystone', 'pearl beige', 'nero ade', 'graphite',\n",
       "       'tan/ebony/ebony', 'charcoal black', 'medium ash gray',\n",
       "       'ebony black', 'light titanium', 'sakhir orange', 'tan',\n",
       "       'rock gray', 'brandy', 'carbon black', 'amber',\n",
       "       'black w/red stitching', 'hotspur', 'chateau', 'ice',\n",
       "       'deep garnet', 'blk', 'grace white', 'oyster/black', 'mesa',\n",
       "       'espresso', 'black/graphite', 'ebony / ebony accents', 'tan/ebony',\n",
       "       'ceramic', 'medium dark slate', 'graphite w/gun metal',\n",
       "       'obsidian black', 'cocoa / dune', 'roast', 'yellow',\n",
       "       'hotspur hide', 'gray w/blue bolsters', 'chestnut', 'saiga beige',\n",
       "       'charles blue', 'walnut', 'ivory / ebony', 'caramel',\n",
       "       'pimento red w/ebony', 'saddle brown', 'dark gray',\n",
       "       'silk beige/espresso brown', 'black / brown',\n",
       "       'ebony/light oyster stitch', 'ebony / pimento',\n",
       "       'mistral gray / raven', 'giallo taurus / nero ade', 'tension',\n",
       "       'medium pewter', 'black / saddle', 'camel leather',\n",
       "       'black/saddle brown', 'macchiato', 'anthracite', 'mocha',\n",
       "       'whisper beige', 'titan black / quarzit', 'sahara tan', 'porpoise',\n",
       "       'black/red', 'titan black', 'amg black', 'deep cypress',\n",
       "       'light slate', 'red / black', 'beluga hide', 'tupelo', 'gideon',\n",
       "       'rhapsody blue', 'medium light camel', 'almond beige',\n",
       "       'black / gray', 'nero', 'agave green', 'deep chestnut',\n",
       "       'dark auburn', 'shale', 'silk beige/black', 'magma red', 'linen',\n",
       "       'black / stone grey', 'sand beige', 'red/black', 'bianco polar',\n",
       "       'light gray', 'platinum', 'sport', 'ash', 'black / graphite',\n",
       "       'nougat brown', 'camel', 'mountain brown', 'pimento / ebony',\n",
       "       'classic red', 'sakhir orange/black', 'cobalt blue',\n",
       "       'very light cashmere', 'kyalami orange', 'orchid', 'beluga'],\n",
       "      dtype=object)"
      ]
     },
     "execution_count": 50,
     "metadata": {},
     "output_type": "execute_result"
    }
   ],
   "source": [
    "df['int_col'].unique()"
   ]
  },
  {
   "cell_type": "code",
   "execution_count": null,
   "id": "31de23c5",
   "metadata": {},
   "outputs": [],
   "source": []
  },
  {
   "cell_type": "code",
   "execution_count": 51,
   "id": "12ad9671",
   "metadata": {},
   "outputs": [
    {
     "data": {
      "text/plain": [
       "152"
      ]
     },
     "execution_count": 51,
     "metadata": {},
     "output_type": "execute_result"
    }
   ],
   "source": [
    "len(df['int_col'].unique())"
   ]
  },
  {
   "cell_type": "code",
   "execution_count": 52,
   "id": "a8b356a3",
   "metadata": {},
   "outputs": [
    {
     "data": {
      "text/plain": [
       "317"
      ]
     },
     "execution_count": 52,
     "metadata": {},
     "output_type": "execute_result"
    }
   ],
   "source": [
    "len(df['ext_col'].unique())"
   ]
  },
  {
   "cell_type": "code",
   "execution_count": 53,
   "id": "9bb3f0ac",
   "metadata": {},
   "outputs": [],
   "source": [
    "# df.drop(columns=['int_col'],inplace=True) ## removing int_col due to partial dependency"
   ]
  },
  {
   "cell_type": "code",
   "execution_count": 54,
   "id": "201f0afa",
   "metadata": {},
   "outputs": [
    {
     "data": {
      "text/html": [
       "<div>\n",
       "<style scoped>\n",
       "    .dataframe tbody tr th:only-of-type {\n",
       "        vertical-align: middle;\n",
       "    }\n",
       "\n",
       "    .dataframe tbody tr th {\n",
       "        vertical-align: top;\n",
       "    }\n",
       "\n",
       "    .dataframe thead th {\n",
       "        text-align: right;\n",
       "    }\n",
       "</style>\n",
       "<table border=\"1\" class=\"dataframe\">\n",
       "  <thead>\n",
       "    <tr style=\"text-align: right;\">\n",
       "      <th></th>\n",
       "      <th>brand</th>\n",
       "      <th>model</th>\n",
       "      <th>model_year</th>\n",
       "      <th>milage</th>\n",
       "      <th>fuel_type</th>\n",
       "      <th>transmission</th>\n",
       "      <th>ext_col</th>\n",
       "      <th>int_col</th>\n",
       "      <th>accident</th>\n",
       "      <th>clean_title</th>\n",
       "      <th>price</th>\n",
       "      <th>hp</th>\n",
       "      <th>litre</th>\n",
       "      <th>cyclinder</th>\n",
       "    </tr>\n",
       "  </thead>\n",
       "  <tbody>\n",
       "    <tr>\n",
       "      <th>0</th>\n",
       "      <td>mini</td>\n",
       "      <td>cooper s base</td>\n",
       "      <td>2007</td>\n",
       "      <td>213000</td>\n",
       "      <td>gasoline</td>\n",
       "      <td>a/t</td>\n",
       "      <td>yellow</td>\n",
       "      <td>gray</td>\n",
       "      <td>none reported</td>\n",
       "      <td>yes</td>\n",
       "      <td>4200</td>\n",
       "      <td>172.0</td>\n",
       "      <td>1.6</td>\n",
       "      <td>4.0</td>\n",
       "    </tr>\n",
       "    <tr>\n",
       "      <th>1</th>\n",
       "      <td>lincoln</td>\n",
       "      <td>ls v8</td>\n",
       "      <td>2002</td>\n",
       "      <td>143250</td>\n",
       "      <td>gasoline</td>\n",
       "      <td>a/t</td>\n",
       "      <td>silver</td>\n",
       "      <td>beige</td>\n",
       "      <td>at least 1 accident or damage reported</td>\n",
       "      <td>yes</td>\n",
       "      <td>4999</td>\n",
       "      <td>252.0</td>\n",
       "      <td>3.9</td>\n",
       "      <td>8.0</td>\n",
       "    </tr>\n",
       "    <tr>\n",
       "      <th>2</th>\n",
       "      <td>chevrolet</td>\n",
       "      <td>silverado 2500 lt</td>\n",
       "      <td>2002</td>\n",
       "      <td>136731</td>\n",
       "      <td>e85 flex fuel</td>\n",
       "      <td>a/t</td>\n",
       "      <td>blue</td>\n",
       "      <td>gray</td>\n",
       "      <td>none reported</td>\n",
       "      <td>yes</td>\n",
       "      <td>13900</td>\n",
       "      <td>320.0</td>\n",
       "      <td>5.3</td>\n",
       "      <td>8.0</td>\n",
       "    </tr>\n",
       "    <tr>\n",
       "      <th>3</th>\n",
       "      <td>genesis</td>\n",
       "      <td>g90 5.0 ultimate</td>\n",
       "      <td>2017</td>\n",
       "      <td>19500</td>\n",
       "      <td>gasoline</td>\n",
       "      <td>transmission w/dual shift mode</td>\n",
       "      <td>black</td>\n",
       "      <td>black</td>\n",
       "      <td>none reported</td>\n",
       "      <td>yes</td>\n",
       "      <td>45000</td>\n",
       "      <td>420.0</td>\n",
       "      <td>5.0</td>\n",
       "      <td>8.0</td>\n",
       "    </tr>\n",
       "    <tr>\n",
       "      <th>4</th>\n",
       "      <td>mercedes-benz</td>\n",
       "      <td>metris base</td>\n",
       "      <td>2021</td>\n",
       "      <td>7388</td>\n",
       "      <td>gasoline</td>\n",
       "      <td>7-speed a/t</td>\n",
       "      <td>black</td>\n",
       "      <td>beige</td>\n",
       "      <td>none reported</td>\n",
       "      <td>yes</td>\n",
       "      <td>97500</td>\n",
       "      <td>208.0</td>\n",
       "      <td>2.0</td>\n",
       "      <td>4.0</td>\n",
       "    </tr>\n",
       "  </tbody>\n",
       "</table>\n",
       "</div>"
      ],
      "text/plain": [
       "           brand              model  model_year  milage      fuel_type  \\\n",
       "0           mini      cooper s base        2007  213000       gasoline   \n",
       "1        lincoln              ls v8        2002  143250       gasoline   \n",
       "2      chevrolet  silverado 2500 lt        2002  136731  e85 flex fuel   \n",
       "3        genesis   g90 5.0 ultimate        2017   19500       gasoline   \n",
       "4  mercedes-benz        metris base        2021    7388       gasoline   \n",
       "\n",
       "                     transmission ext_col int_col  \\\n",
       "0                             a/t  yellow    gray   \n",
       "1                             a/t  silver   beige   \n",
       "2                             a/t    blue    gray   \n",
       "3  transmission w/dual shift mode   black   black   \n",
       "4                     7-speed a/t   black   beige   \n",
       "\n",
       "                                 accident clean_title  price     hp  litre  \\\n",
       "0                           none reported         yes   4200  172.0    1.6   \n",
       "1  at least 1 accident or damage reported         yes   4999  252.0    3.9   \n",
       "2                           none reported         yes  13900  320.0    5.3   \n",
       "3                           none reported         yes  45000  420.0    5.0   \n",
       "4                           none reported         yes  97500  208.0    2.0   \n",
       "\n",
       "   cyclinder  \n",
       "0        4.0  \n",
       "1        8.0  \n",
       "2        8.0  \n",
       "3        8.0  \n",
       "4        4.0  "
      ]
     },
     "execution_count": 54,
     "metadata": {},
     "output_type": "execute_result"
    }
   ],
   "source": [
    "df.head()"
   ]
  },
  {
   "cell_type": "code",
   "execution_count": 55,
   "id": "05ce6428",
   "metadata": {},
   "outputs": [],
   "source": [
    "# ----------------------------------------------------------------------------------------------------------------------------"
   ]
  },
  {
   "cell_type": "code",
   "execution_count": 56,
   "id": "d8783efc",
   "metadata": {},
   "outputs": [],
   "source": [
    "### Transmission------------------------->"
   ]
  },
  {
   "cell_type": "code",
   "execution_count": 57,
   "id": "beb34c0d",
   "metadata": {},
   "outputs": [
    {
     "data": {
      "text/plain": [
       "array(['a/t', 'transmission w/dual shift mode', '7-speed a/t',\n",
       "       '8-speed a/t', '10-speed automatic', '1-speed a/t', '6-speed a/t',\n",
       "       '10-speed a/t', '9-speed a/t', '8-speed automatic',\n",
       "       '9-speed automatic', '5-speed a/t', 'automatic',\n",
       "       '7-speed automatic with auto-shift', 'cvt transmission',\n",
       "       '5-speed m/t', 'm/t', '6-speed m/t', '6-speed automatic',\n",
       "       '4-speed automatic', '7-speed m/t', '2-speed a/t',\n",
       "       '1-speed automatic', 'automatic cvt', '4-speed a/t',\n",
       "       '6-speed manual', 'transmission overdrive switch',\n",
       "       '8-speed automatic with auto-shift', '7-speed manual',\n",
       "       '7-speed automatic', '9-speed automatic with auto-shift',\n",
       "       '6-speed automatic with auto-shift',\n",
       "       '6-speed electronically controlled automatic with o', 'f', 'cvt-f',\n",
       "       '8-speed manual', 'manual', '–', '2', '6 speed at/mt',\n",
       "       '5-speed automatic', '2-speed automatic', '7-speed', 'variable',\n",
       "       'single-speed fixed gear', '8-speed at',\n",
       "       '10-speed automatic with overdrive', '7-speed dct automatic',\n",
       "       'scheduled for or in production', '6-speed', '6 speed mt'],\n",
       "      dtype=object)"
      ]
     },
     "execution_count": 57,
     "metadata": {},
     "output_type": "execute_result"
    }
   ],
   "source": [
    "df['transmission'].unique()"
   ]
  },
  {
   "cell_type": "code",
   "execution_count": 58,
   "id": "c6218c4d",
   "metadata": {},
   "outputs": [
    {
     "data": {
      "text/plain": [
       "51"
      ]
     },
     "execution_count": 58,
     "metadata": {},
     "output_type": "execute_result"
    }
   ],
   "source": [
    "len(df['transmission'].unique())"
   ]
  },
  {
   "cell_type": "code",
   "execution_count": 59,
   "id": "c92dc80a",
   "metadata": {},
   "outputs": [],
   "source": [
    "at_trans = df[df['transmission'] == 'A/T'][['transmission','price']]"
   ]
  },
  {
   "cell_type": "code",
   "execution_count": 60,
   "id": "99ee54cd",
   "metadata": {},
   "outputs": [
    {
     "data": {
      "text/html": [
       "<div>\n",
       "<style scoped>\n",
       "    .dataframe tbody tr th:only-of-type {\n",
       "        vertical-align: middle;\n",
       "    }\n",
       "\n",
       "    .dataframe tbody tr th {\n",
       "        vertical-align: top;\n",
       "    }\n",
       "\n",
       "    .dataframe thead th {\n",
       "        text-align: right;\n",
       "    }\n",
       "</style>\n",
       "<table border=\"1\" class=\"dataframe\">\n",
       "  <thead>\n",
       "    <tr style=\"text-align: right;\">\n",
       "      <th></th>\n",
       "      <th>transmission</th>\n",
       "      <th>price</th>\n",
       "    </tr>\n",
       "  </thead>\n",
       "  <tbody>\n",
       "  </tbody>\n",
       "</table>\n",
       "</div>"
      ],
      "text/plain": [
       "Empty DataFrame\n",
       "Columns: [transmission, price]\n",
       "Index: []"
      ]
     },
     "execution_count": 60,
     "metadata": {},
     "output_type": "execute_result"
    }
   ],
   "source": [
    "at_trans.head()"
   ]
  },
  {
   "cell_type": "code",
   "execution_count": null,
   "id": "220f5849",
   "metadata": {},
   "outputs": [],
   "source": []
  },
  {
   "cell_type": "code",
   "execution_count": null,
   "id": "d9d90196",
   "metadata": {},
   "outputs": [],
   "source": []
  },
  {
   "cell_type": "code",
   "execution_count": null,
   "id": "723f1edc",
   "metadata": {},
   "outputs": [],
   "source": []
  },
  {
   "cell_type": "code",
   "execution_count": null,
   "id": "7931e730",
   "metadata": {},
   "outputs": [],
   "source": []
  },
  {
   "cell_type": "code",
   "execution_count": null,
   "id": "95e69785",
   "metadata": {},
   "outputs": [],
   "source": []
  }
 ],
 "metadata": {
  "kernelspec": {
   "display_name": "Python 3 (ipykernel)",
   "language": "python",
   "name": "python3"
  },
  "language_info": {
   "codemirror_mode": {
    "name": "ipython",
    "version": 3
   },
   "file_extension": ".py",
   "mimetype": "text/x-python",
   "name": "python",
   "nbconvert_exporter": "python",
   "pygments_lexer": "ipython3",
   "version": "3.11.3"
  },
  "varInspector": {
   "cols": {
    "lenName": 16,
    "lenType": 16,
    "lenVar": 40
   },
   "kernels_config": {
    "python": {
     "delete_cmd_postfix": "",
     "delete_cmd_prefix": "del ",
     "library": "var_list.py",
     "varRefreshCmd": "print(var_dic_list())"
    },
    "r": {
     "delete_cmd_postfix": ") ",
     "delete_cmd_prefix": "rm(",
     "library": "var_list.r",
     "varRefreshCmd": "cat(var_dic_list()) "
    }
   },
   "types_to_exclude": [
    "module",
    "function",
    "builtin_function_or_method",
    "instance",
    "_Feature"
   ],
   "window_display": false
  }
 },
 "nbformat": 4,
 "nbformat_minor": 5
}
